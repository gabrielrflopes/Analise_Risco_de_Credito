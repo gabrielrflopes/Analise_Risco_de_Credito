{
 "cells": [
  {
   "cell_type": "markdown",
   "metadata": {},
   "source": [
    "# Projeto - Análise de Risco de Crédito"
   ]
  },
  {
   "cell_type": "code",
   "execution_count": 1,
   "metadata": {},
   "outputs": [],
   "source": [
    "import pandas as pd\n",
    "import numpy as np\n",
    "import matplotlib.pyplot as plt\n",
    "import seaborn as sns"
   ]
  },
  {
   "cell_type": "code",
   "execution_count": 3,
   "metadata": {},
   "outputs": [
    {
     "data": {
      "text/html": [
       "<div>\n",
       "<style scoped>\n",
       "    .dataframe tbody tr th:only-of-type {\n",
       "        vertical-align: middle;\n",
       "    }\n",
       "\n",
       "    .dataframe tbody tr th {\n",
       "        vertical-align: top;\n",
       "    }\n",
       "\n",
       "    .dataframe thead th {\n",
       "        text-align: right;\n",
       "    }\n",
       "</style>\n",
       "<table border=\"1\" class=\"dataframe\">\n",
       "  <thead>\n",
       "    <tr style=\"text-align: right;\">\n",
       "      <th></th>\n",
       "      <th>ids</th>\n",
       "      <th>target_default</th>\n",
       "      <th>score_1</th>\n",
       "      <th>score_2</th>\n",
       "      <th>score_3</th>\n",
       "      <th>score_4</th>\n",
       "      <th>score_5</th>\n",
       "      <th>score_6</th>\n",
       "      <th>risk_rate</th>\n",
       "      <th>last_amount_borrowed</th>\n",
       "      <th>...</th>\n",
       "      <th>external_data_provider_fraud_score</th>\n",
       "      <th>lat_lon</th>\n",
       "      <th>marketing_channel</th>\n",
       "      <th>profile_phone_number</th>\n",
       "      <th>reported_income</th>\n",
       "      <th>shipping_state</th>\n",
       "      <th>shipping_zip_code</th>\n",
       "      <th>profile_tags</th>\n",
       "      <th>user_agent</th>\n",
       "      <th>target_fraud</th>\n",
       "    </tr>\n",
       "  </thead>\n",
       "  <tbody>\n",
       "    <tr>\n",
       "      <th>0</th>\n",
       "      <td>343b7e7b-2cf8-e508-b8fd-0a0285af30aa</td>\n",
       "      <td>False</td>\n",
       "      <td>1Rk8w4Ucd5yR3KcqZzLdow==</td>\n",
       "      <td>IOVu8au3ISbo6+zmfnYwMg==</td>\n",
       "      <td>350.0</td>\n",
       "      <td>101.800832</td>\n",
       "      <td>0.259555</td>\n",
       "      <td>108.427273</td>\n",
       "      <td>0.40</td>\n",
       "      <td>25033.92</td>\n",
       "      <td>...</td>\n",
       "      <td>645</td>\n",
       "      <td>(-29.151545708122246, -51.1386461804385)</td>\n",
       "      <td>Invite-email</td>\n",
       "      <td>514-9840782</td>\n",
       "      <td>57849.0</td>\n",
       "      <td>BR-MT</td>\n",
       "      <td>17528</td>\n",
       "      <td>{'tags': ['n19', 'n8']}</td>\n",
       "      <td>Mozilla/5.0 (Linux; Android 6.0.1; SGP771 Buil...</td>\n",
       "      <td>NaN</td>\n",
       "    </tr>\n",
       "    <tr>\n",
       "      <th>1</th>\n",
       "      <td>bc2c7502-bbad-0f8c-39c3-94e881967124</td>\n",
       "      <td>False</td>\n",
       "      <td>DGCQep2AE5QRkNCshIAlFQ==</td>\n",
       "      <td>SaamrHMo23l/3TwXOWgVzw==</td>\n",
       "      <td>370.0</td>\n",
       "      <td>97.062615</td>\n",
       "      <td>0.942655</td>\n",
       "      <td>92.002546</td>\n",
       "      <td>0.24</td>\n",
       "      <td>NaN</td>\n",
       "      <td>...</td>\n",
       "      <td>243</td>\n",
       "      <td>(-19.687710705798963, -47.94151536525154)</td>\n",
       "      <td>Radio-commercial</td>\n",
       "      <td>251-3659293</td>\n",
       "      <td>4902.0</td>\n",
       "      <td>BR-RS</td>\n",
       "      <td>40933</td>\n",
       "      <td>{'tags': ['n6', 'n7', 'nim']}</td>\n",
       "      <td>Mozilla/5.0 (Linux; Android 5.0.2; SAMSUNG SM-...</td>\n",
       "      <td>NaN</td>\n",
       "    </tr>\n",
       "    <tr>\n",
       "      <th>2</th>\n",
       "      <td>669630dd-2e6a-0396-84bf-455e5009c922</td>\n",
       "      <td>True</td>\n",
       "      <td>DGCQep2AE5QRkNCshIAlFQ==</td>\n",
       "      <td>Fv28Bz0YRTVAT5kl1bAV6g==</td>\n",
       "      <td>360.0</td>\n",
       "      <td>100.027073</td>\n",
       "      <td>0.351918</td>\n",
       "      <td>112.892453</td>\n",
       "      <td>0.29</td>\n",
       "      <td>7207.92</td>\n",
       "      <td>...</td>\n",
       "      <td>65</td>\n",
       "      <td>(-28.748023890412284, -51.867279334353995)</td>\n",
       "      <td>Waiting-list</td>\n",
       "      <td>230-6097993</td>\n",
       "      <td>163679.0</td>\n",
       "      <td>BR-RR</td>\n",
       "      <td>50985</td>\n",
       "      <td>{'tags': ['n0', 'n17', 'nim', 'da']}</td>\n",
       "      <td>Mozilla/5.0 (Linux; Android 6.0.1; SGP771 Buil...</td>\n",
       "      <td>NaN</td>\n",
       "    </tr>\n",
       "    <tr>\n",
       "      <th>3</th>\n",
       "      <td>d235609e-b6cb-0ccc-a329-d4f12e7ebdc1</td>\n",
       "      <td>False</td>\n",
       "      <td>1Rk8w4Ucd5yR3KcqZzLdow==</td>\n",
       "      <td>dCm9hFKfdRm7ej3jW+gyxw==</td>\n",
       "      <td>510.0</td>\n",
       "      <td>101.599485</td>\n",
       "      <td>0.987673</td>\n",
       "      <td>94.902491</td>\n",
       "      <td>0.32</td>\n",
       "      <td>NaN</td>\n",
       "      <td>...</td>\n",
       "      <td>815</td>\n",
       "      <td>(-17.520650158450454, -39.75801139933186)</td>\n",
       "      <td>Waiting-list</td>\n",
       "      <td>261-3543751</td>\n",
       "      <td>1086.0</td>\n",
       "      <td>BR-RN</td>\n",
       "      <td>37825</td>\n",
       "      <td>{'tags': ['n4']}</td>\n",
       "      <td>Mozilla/5.0 (Linux; Android 6.0; HTC One X10 B...</td>\n",
       "      <td>NaN</td>\n",
       "    </tr>\n",
       "    <tr>\n",
       "      <th>4</th>\n",
       "      <td>9e0eb880-e8f4-3faa-67d8-f5cdd2b3932b</td>\n",
       "      <td>False</td>\n",
       "      <td>8k8UDR4Yx0qasAjkGrUZLw==</td>\n",
       "      <td>+CxEO4w7jv3QPI/BQbyqAA==</td>\n",
       "      <td>500.0</td>\n",
       "      <td>98.474289</td>\n",
       "      <td>0.532539</td>\n",
       "      <td>118.126207</td>\n",
       "      <td>0.18</td>\n",
       "      <td>NaN</td>\n",
       "      <td>...</td>\n",
       "      <td>320</td>\n",
       "      <td>(-16.574259446978008, -39.90990074785962)</td>\n",
       "      <td>Invite-email</td>\n",
       "      <td>102-3660162</td>\n",
       "      <td>198618.0</td>\n",
       "      <td>BR-MT</td>\n",
       "      <td>52827</td>\n",
       "      <td>{'tags': ['pro+aty', 'n19', 'da', 'b19']}</td>\n",
       "      <td>Mozilla/5.0 (Linux; Android 7.0; Pixel C Build...</td>\n",
       "      <td>NaN</td>\n",
       "    </tr>\n",
       "  </tbody>\n",
       "</table>\n",
       "<p>5 rows × 43 columns</p>\n",
       "</div>"
      ],
      "text/plain": [
       "                                    ids target_default  \\\n",
       "0  343b7e7b-2cf8-e508-b8fd-0a0285af30aa          False   \n",
       "1  bc2c7502-bbad-0f8c-39c3-94e881967124          False   \n",
       "2  669630dd-2e6a-0396-84bf-455e5009c922           True   \n",
       "3  d235609e-b6cb-0ccc-a329-d4f12e7ebdc1          False   \n",
       "4  9e0eb880-e8f4-3faa-67d8-f5cdd2b3932b          False   \n",
       "\n",
       "                    score_1                   score_2  score_3     score_4  \\\n",
       "0  1Rk8w4Ucd5yR3KcqZzLdow==  IOVu8au3ISbo6+zmfnYwMg==    350.0  101.800832   \n",
       "1  DGCQep2AE5QRkNCshIAlFQ==  SaamrHMo23l/3TwXOWgVzw==    370.0   97.062615   \n",
       "2  DGCQep2AE5QRkNCshIAlFQ==  Fv28Bz0YRTVAT5kl1bAV6g==    360.0  100.027073   \n",
       "3  1Rk8w4Ucd5yR3KcqZzLdow==  dCm9hFKfdRm7ej3jW+gyxw==    510.0  101.599485   \n",
       "4  8k8UDR4Yx0qasAjkGrUZLw==  +CxEO4w7jv3QPI/BQbyqAA==    500.0   98.474289   \n",
       "\n",
       "    score_5     score_6  risk_rate  last_amount_borrowed  ...  \\\n",
       "0  0.259555  108.427273       0.40              25033.92  ...   \n",
       "1  0.942655   92.002546       0.24                   NaN  ...   \n",
       "2  0.351918  112.892453       0.29               7207.92  ...   \n",
       "3  0.987673   94.902491       0.32                   NaN  ...   \n",
       "4  0.532539  118.126207       0.18                   NaN  ...   \n",
       "\n",
       "   external_data_provider_fraud_score  \\\n",
       "0                                 645   \n",
       "1                                 243   \n",
       "2                                  65   \n",
       "3                                 815   \n",
       "4                                 320   \n",
       "\n",
       "                                      lat_lon marketing_channel  \\\n",
       "0    (-29.151545708122246, -51.1386461804385)      Invite-email   \n",
       "1   (-19.687710705798963, -47.94151536525154)  Radio-commercial   \n",
       "2  (-28.748023890412284, -51.867279334353995)      Waiting-list   \n",
       "3   (-17.520650158450454, -39.75801139933186)      Waiting-list   \n",
       "4   (-16.574259446978008, -39.90990074785962)      Invite-email   \n",
       "\n",
       "   profile_phone_number reported_income shipping_state shipping_zip_code  \\\n",
       "0           514-9840782         57849.0          BR-MT             17528   \n",
       "1           251-3659293          4902.0          BR-RS             40933   \n",
       "2           230-6097993        163679.0          BR-RR             50985   \n",
       "3           261-3543751          1086.0          BR-RN             37825   \n",
       "4           102-3660162        198618.0          BR-MT             52827   \n",
       "\n",
       "                                profile_tags  \\\n",
       "0                    {'tags': ['n19', 'n8']}   \n",
       "1              {'tags': ['n6', 'n7', 'nim']}   \n",
       "2       {'tags': ['n0', 'n17', 'nim', 'da']}   \n",
       "3                           {'tags': ['n4']}   \n",
       "4  {'tags': ['pro+aty', 'n19', 'da', 'b19']}   \n",
       "\n",
       "                                          user_agent target_fraud  \n",
       "0  Mozilla/5.0 (Linux; Android 6.0.1; SGP771 Buil...          NaN  \n",
       "1  Mozilla/5.0 (Linux; Android 5.0.2; SAMSUNG SM-...          NaN  \n",
       "2  Mozilla/5.0 (Linux; Android 6.0.1; SGP771 Buil...          NaN  \n",
       "3  Mozilla/5.0 (Linux; Android 6.0; HTC One X10 B...          NaN  \n",
       "4  Mozilla/5.0 (Linux; Android 7.0; Pixel C Build...          NaN  \n",
       "\n",
       "[5 rows x 43 columns]"
      ]
     },
     "execution_count": 3,
     "metadata": {},
     "output_type": "execute_result"
    }
   ],
   "source": [
    "data_path = r\"C:\\Users\\Usuario\\OneDrive\\Documentos\\Projetos Visual Studio Code\\DSNP 3.0\\Datasets\\acquisition_train.csv\"\n",
    "\n",
    "cred_risk_df = pd.read_csv(data_path)\n",
    "\n",
    "cred_risk_df.head()"
   ]
  },
  {
   "cell_type": "code",
   "execution_count": 4,
   "metadata": {},
   "outputs": [
    {
     "name": "stdout",
     "output_type": "stream",
     "text": [
      "Dimensões do conjunto\n",
      " \n",
      "Entradas: 45000 \n",
      "Variáveis: 43\n",
      "\n",
      "Nomes das colunas:\n"
     ]
    },
    {
     "data": {
      "text/plain": [
       "Index(['ids', 'target_default', 'score_1', 'score_2', 'score_3', 'score_4',\n",
       "       'score_5', 'score_6', 'risk_rate', 'last_amount_borrowed',\n",
       "       'last_borrowed_in_months', 'credit_limit', 'reason', 'income',\n",
       "       'facebook_profile', 'state', 'zip', 'channel', 'job_name', 'real_state',\n",
       "       'ok_since', 'n_bankruptcies', 'n_defaulted_loans', 'n_accounts',\n",
       "       'n_issues', 'application_time_applied', 'application_time_in_funnel',\n",
       "       'email', 'external_data_provider_credit_checks_last_2_year',\n",
       "       'external_data_provider_credit_checks_last_month',\n",
       "       'external_data_provider_credit_checks_last_year',\n",
       "       'external_data_provider_email_seen_before',\n",
       "       'external_data_provider_first_name',\n",
       "       'external_data_provider_fraud_score', 'lat_lon', 'marketing_channel',\n",
       "       'profile_phone_number', 'reported_income', 'shipping_state',\n",
       "       'shipping_zip_code', 'profile_tags', 'user_agent', 'target_fraud'],\n",
       "      dtype='object')"
      ]
     },
     "execution_count": 4,
     "metadata": {},
     "output_type": "execute_result"
    }
   ],
   "source": [
    "print('Dimensões do conjunto\\n',\n",
    "      f'\\nEntradas: {cred_risk_df.shape[0]}',\n",
    "      f'\\nVariáveis: {cred_risk_df.shape[1]}')\n",
    "\n",
    "print('\\nNomes das colunas:')\n",
    "cred_risk_df.columns"
   ]
  },
  {
   "cell_type": "markdown",
   "metadata": {},
   "source": [
    "### Dicionário de Variáveis"
   ]
  },
  {
   "cell_type": "markdown",
   "metadata": {},
   "source": [
    "Observando os nomes de colunas e as primeiras entradas, podemos inferir algumas coisas. Além disso, se analisarmos cada variável em seus valores únicos, podemos deduzir o signficado, além de já identificar problemas nos dados:\n",
    "\n",
    "- `ids`: identificadores dos clientes, aparentemente são _strings_ aleatórias que não serão úteis para a análise;\n",
    "- `score_1, score_2`: variáveis de pontuação codificadas;\n",
    "- `score_3, score_4, score_5, score_6`: variáveis numéricas que dizem respeito a pontuação do cliente;\n",
    "- `risk_rate`: taxa de risco (de inadimplência?) do cliente (entre 0 e 1);\n",
    "- `last_amount_borrowed`: registro do valor do último empréstimo do cliente;\n",
    "- `last_borrowed_in_months`: número de meses desde o último empréstimo (36., nan, 60.);\n",
    "- `credit_limit`: limite de crédito para determinado cliente;\n",
    "- `income`: renda anual do cliente;\n",
    "- `state, zip, channel, job_name, real_state`: dados demográficos, trabalho dos clientes (codificadas);\n",
    "- `n_bankruptcies`: número de falências registradas do cliente ( 0.,  1., nan,  2.,  3.,  4.,  5.);\n",
    "- `n_defaulted_loans`: número de calotes nos empréstimos (0., 1., nan, 2., 3., 5.);\n",
    "- `n_accounts`: número de contas (valor inteiro);\n",
    "- `n_issues`: número de problemas (valor inteiro);\n",
    "- `application_time_applied`: tempo de aplicação (dados em horas, não está claro a que se refere);\n",
    "- `email`: provedor de e-mail (outlook, gmail, etc);\n",
    "- `external_data_provider_credit_checks_last_2_year`: coluna com 0 ou nan. Checagem de crédito nos últimos dois anos;\n",
    "- `external_data_provider_credit_checks_last_year, `external_data_provider_credit_checks_last_month`: Checagem de crédito no último ano (0., nan, 1.) e último mês (2, 1, 3, 0);\n",
    "- `external_data_provider_email_seen_before`: E-mail visto antes (possui valores nan e discrepantes -999)\n",
    "- `external_data_provider_first_name`: Primeiro nome do cliente;\n",
    "- `external_data_provider_fraud_score`: Pontuação de fraude (não faz parte do escopo da nossa análise);\n",
    "- `lat_lon`: tupla de valores de latitude e longitude;\n",
    "- `marketing_channel`: canal de marketing (convite e-mail, radio, lista de espera, website, etc);\n",
    "- `profile_phone_number`: número de telefone do cliente;\n",
    "- `reported_income`: renda informada pelo cliente (float, mas poderia ser int);\n",
    "- `shipping_state`, `shipping_zip_code`: estado de residência do cliente (BR-MG, BR-SP, etc) e CEP (int);\n",
    "- `profile_tags`: lista com dicionários contendo tags de identificação (?) dos clientes (\"{'tags': ['n19', 'n8']}\", \"{'tags': ['n6', 'n7', 'nim']}\"). PS: dicionários formatados como string.\n",
    "- `user_agent`: informações sobre pontos de acesso;\n",
    "- `target_fraud`: variável que classifica uma transação fraudulenta ou não (fora do escopo do projeto);\n",
    "- `target_default`: variável que classifica um cliente inadimplente ou não (alvo) (False, True, nan).\n",
    "\n",
    "A análise dos valores únicos por coluna ajudou a identificar as colunas que já apresentavam problemas de valores discrepantes e ausentes, além daquelas cujos valores estão codificados. Como é uma análise feita manualmente, as células foram apagadas para não bagunçar o projeto.\n",
    "\n",
    "\n"
   ]
  },
  {
   "cell_type": "markdown",
   "metadata": {},
   "source": [
    "### Valores únicos da variável-alvo"
   ]
  },
  {
   "cell_type": "code",
   "execution_count": 5,
   "metadata": {},
   "outputs": [
    {
     "name": "stdout",
     "output_type": "stream",
     "text": [
      "Valores na variável-alvo:\n"
     ]
    },
    {
     "data": {
      "text/plain": [
       "[False, True, nan]"
      ]
     },
     "execution_count": 5,
     "metadata": {},
     "output_type": "execute_result"
    }
   ],
   "source": [
    "print('Valores na variável-alvo:')\n",
    "cred_risk_df['target_default'].unique().tolist()"
   ]
  },
  {
   "cell_type": "code",
   "execution_count": 9,
   "metadata": {},
   "outputs": [
    {
     "data": {
      "text/plain": [
       "False    35080\n",
       "True      6661\n",
       "Name: target_default, dtype: int64"
      ]
     },
     "execution_count": 9,
     "metadata": {},
     "output_type": "execute_result"
    }
   ],
   "source": [
    "cred_risk_df['target_default'].value_counts()"
   ]
  },
  {
   "cell_type": "code",
   "execution_count": 11,
   "metadata": {},
   "outputs": [
    {
     "name": "stdout",
     "output_type": "stream",
     "text": [
      "Quantidade de valores nulos no alvo: 3259\n"
     ]
    }
   ],
   "source": [
    "print('Quantidade de valores nulos no alvo: {}'.format(cred_risk_df['target_default'].isna().sum()))"
   ]
  },
  {
   "cell_type": "markdown",
   "metadata": {},
   "source": [
    "Como podemos ver, nossa variável-alvo apresenta valores de verdadeiro, falso e valores ausentes que precisam ser tratados. Trata-se então de uma tarefa de classificação binária, em que a classe verdadeira representa os cliente inadimplentes e a classe falta os clientes em boa posição."
   ]
  },
  {
   "cell_type": "markdown",
   "metadata": {},
   "source": [
    "### Informações do conjunto de dados"
   ]
  },
  {
   "cell_type": "code",
   "execution_count": 6,
   "metadata": {},
   "outputs": [
    {
     "name": "stdout",
     "output_type": "stream",
     "text": [
      "Resumo de informações do conjunto, tipos e valores ausentes:\n",
      "\n",
      "<class 'pandas.core.frame.DataFrame'>\n",
      "RangeIndex: 45000 entries, 0 to 44999\n",
      "Data columns (total 43 columns):\n",
      " #   Column                                            Non-Null Count  Dtype  \n",
      "---  ------                                            --------------  -----  \n",
      " 0   ids                                               45000 non-null  object \n",
      " 1   target_default                                    41741 non-null  object \n",
      " 2   score_1                                           44438 non-null  object \n",
      " 3   score_2                                           44438 non-null  object \n",
      " 4   score_3                                           44438 non-null  float64\n",
      " 5   score_4                                           45000 non-null  float64\n",
      " 6   score_5                                           45000 non-null  float64\n",
      " 7   score_6                                           45000 non-null  float64\n",
      " 8   risk_rate                                         44438 non-null  float64\n",
      " 9   last_amount_borrowed                              15044 non-null  float64\n",
      " 10  last_borrowed_in_months                           15044 non-null  float64\n",
      " 11  credit_limit                                      31200 non-null  float64\n",
      " 12  reason                                            44434 non-null  object \n",
      " 13  income                                            44438 non-null  float64\n",
      " 14  facebook_profile                                  40542 non-null  object \n",
      " 15  state                                             44438 non-null  object \n",
      " 16  zip                                               44438 non-null  object \n",
      " 17  channel                                           44438 non-null  object \n",
      " 18  job_name                                          41664 non-null  object \n",
      " 19  real_state                                        44438 non-null  object \n",
      " 20  ok_since                                          18455 non-null  float64\n",
      " 21  n_bankruptcies                                    44303 non-null  float64\n",
      " 22  n_defaulted_loans                                 44426 non-null  float64\n",
      " 23  n_accounts                                        44438 non-null  float64\n",
      " 24  n_issues                                          33456 non-null  float64\n",
      " 25  application_time_applied                          45000 non-null  object \n",
      " 26  application_time_in_funnel                        45000 non-null  int64  \n",
      " 27  email                                             45000 non-null  object \n",
      " 28  external_data_provider_credit_checks_last_2_year  22372 non-null  float64\n",
      " 29  external_data_provider_credit_checks_last_month   45000 non-null  int64  \n",
      " 30  external_data_provider_credit_checks_last_year    29876 non-null  float64\n",
      " 31  external_data_provider_email_seen_before          42767 non-null  float64\n",
      " 32  external_data_provider_first_name                 45000 non-null  object \n",
      " 33  external_data_provider_fraud_score                45000 non-null  int64  \n",
      " 34  lat_lon                                           43637 non-null  object \n",
      " 35  marketing_channel                                 41422 non-null  object \n",
      " 36  profile_phone_number                              45000 non-null  object \n",
      " 37  reported_income                                   45000 non-null  float64\n",
      " 38  shipping_state                                    45000 non-null  object \n",
      " 39  shipping_zip_code                                 45000 non-null  int64  \n",
      " 40  profile_tags                                      45000 non-null  object \n",
      " 41  user_agent                                        44278 non-null  object \n",
      " 42  target_fraud                                      1522 non-null   object \n",
      "dtypes: float64(18), int64(4), object(21)\n",
      "memory usage: 14.8+ MB\n"
     ]
    }
   ],
   "source": [
    "print('Resumo de informações do conjunto, tipos e valores ausentes:\\n')\n",
    "cred_risk_df.info(verbose = True)"
   ]
  },
  {
   "cell_type": "markdown",
   "metadata": {},
   "source": [
    "### Tratamento de valores ausentes"
   ]
  },
  {
   "cell_type": "code",
   "execution_count": 7,
   "metadata": {},
   "outputs": [
    {
     "name": "stdout",
     "output_type": "stream",
     "text": [
      "Valores ausentes por coluna, ordenados de forma decrescente (%):\n"
     ]
    },
    {
     "data": {
      "text/plain": [
       "target_fraud                                        96.62\n",
       "last_amount_borrowed                                66.57\n",
       "last_borrowed_in_months                             66.57\n",
       "ok_since                                            58.99\n",
       "external_data_provider_credit_checks_last_2_year    50.28\n",
       "external_data_provider_credit_checks_last_year      33.61\n",
       "credit_limit                                        30.67\n",
       "n_issues                                            25.65\n",
       "facebook_profile                                     9.91\n",
       "marketing_channel                                    7.95\n",
       "job_name                                             7.41\n",
       "target_default                                       7.24\n",
       "external_data_provider_email_seen_before             4.96\n",
       "lat_lon                                              3.03\n",
       "user_agent                                           1.60\n",
       "n_bankruptcies                                       1.55\n",
       "n_defaulted_loans                                    1.28\n",
       "reason                                               1.26\n",
       "zip                                                  1.25\n",
       "n_accounts                                           1.25\n",
       "channel                                              1.25\n",
       "score_1                                              1.25\n",
       "score_3                                              1.25\n",
       "risk_rate                                            1.25\n",
       "income                                               1.25\n",
       "real_state                                           1.25\n",
       "state                                                1.25\n",
       "score_2                                              1.25\n",
       "profile_tags                                         0.00\n",
       "shipping_zip_code                                    0.00\n",
       "shipping_state                                       0.00\n",
       "reported_income                                      0.00\n",
       "profile_phone_number                                 0.00\n",
       "external_data_provider_credit_checks_last_month      0.00\n",
       "external_data_provider_fraud_score                   0.00\n",
       "external_data_provider_first_name                    0.00\n",
       "score_4                                              0.00\n",
       "score_5                                              0.00\n",
       "score_6                                              0.00\n",
       "email                                                0.00\n",
       "application_time_in_funnel                           0.00\n",
       "application_time_applied                             0.00\n",
       "ids                                                  0.00\n",
       "dtype: float64"
      ]
     },
     "execution_count": 7,
     "metadata": {},
     "output_type": "execute_result"
    }
   ],
   "source": [
    "print('Valores ausentes por coluna, ordenados de forma decrescente (%):')\n",
    "round((cred_risk_df.isna().sum()) * 100 / cred_risk_df.__len__(), 2).sort_values(ascending = False)"
   ]
  },
  {
   "cell_type": "markdown",
   "metadata": {},
   "source": [
    "Variáveis sem nenhum valor ausente:\n",
    "\n",
    "- `profile_tags`\n",
    "- `shipping_zip_code`\n",
    "- `shipping_state`\n",
    "- `reported_income`\n",
    "- `profile_phone_number`\n",
    "- `external_data_provider_credit_checks_last_month`\n",
    "- `external_data_provider_fraud_score`\n",
    "- `external_data_provider_first_name`\n",
    "- `score_4`\n",
    "- `score_5`\n",
    "- `score_6`\n",
    "- `email`\n",
    "- `application_time_in_funnel`\n",
    "- `application_time_applied`\n",
    "- `ids`                  "
   ]
  },
  {
   "cell_type": "markdown",
   "metadata": {},
   "source": [
    "Dentre as variáveis que possuem valores ausentes, algumas não possuem nenhum significado para nossa análise e serão removidas.  Particularmente, as variáveis que dizem respeito à tarefa de detecção de fraudes, que não faz parte do escopo desse projeto, serão removidas. São elas: `target_fraud` e `external_data_provider_fraud_score`. Outras variáveis simplesmente não possuem nenhum poder preditivo para análise (e.g nome ou e-mail que a pessoa usa, perfil do Facebook) ou são de difícil interpretabilidade (e.g pontos de acesso, horários, etc), como `ids`, `email`, `external_data_provider_first_name`, `profile_phone_number`, `facebook_profile`, `user_agent`, `application_time_applied`, `external_data_provider_credit_checks_last_year`, `external_data_provider_credit_checks_last_2_year`, `reason`, etc.\n",
    "\n",
    "Dentre as variáveis codificadas, temos: `state, zip, channel, job_name, real_state, score_1 e score_2`. Para verificar se compensa ou não removê-las, podemos investigar as correlações que essas variáveis tem com o alvo. Se forem correlações significativas, podemos mantê-las no conjunto de dados. Para analisar as correlações, essas variáveis precisam ser numéricas. Assim irei utilizar da técnica de One-Hot Enconding naquelas que possuem poucos valores únicos, para transformar as categorias em novas colunas. Primeiro vamos verificar os valores únicos dessas colunas:"
   ]
  },
  {
   "cell_type": "code",
   "execution_count": 8,
   "metadata": {},
   "outputs": [
    {
     "data": {
      "text/plain": [
       "state            50\n",
       "zip             823\n",
       "channel           1\n",
       "job_name      32265\n",
       "real_state        5\n",
       "score_1           7\n",
       "score_2          35\n",
       "dtype: int64"
      ]
     },
     "execution_count": 8,
     "metadata": {},
     "output_type": "execute_result"
    }
   ],
   "source": [
    "cred_risk_df[['state', 'zip', 'channel', 'job_name', 'real_state', 'score_1', 'score_2']].nunique()"
   ]
  },
  {
   "cell_type": "markdown",
   "metadata": {},
   "source": [
    "Apenas nas variáveis `score_1` e `real_state`. A variável `channel` possui apenas um valor que por si só não parece indicar muito poder preditivo. Iremos removê-la também. Poderíamos argumentar que o fato do cliente ser inadimplente pode ter a ver com seu emprego. Vamos analisar se existe algum tipo de emprego, na coluna `job_name`, que indique essa relação. "
   ]
  },
  {
   "cell_type": "code",
   "execution_count": 9,
   "metadata": {},
   "outputs": [
    {
     "data": {
      "text/plain": [
       "mLVIVxoGY7TUDJ1FyFoSIZi1SFcaBmO01AydRchaEiGYtUhXGgZjtNQMnUXIWhIhmLVIVxoGY7TUDJ1FyFoSIaUIfpgwbYh438CvSsT5QB8=    19\n",
       "mLVIVxoGY7TUDJ1FyFoSIZi1SFcaBmO01AydRchaEiGYtUhXGgZjtNQMnUXIWhIhmLVIVxoGY7TUDJ1FyFoSIbOy82w5K5LALfp4MHskDUE=    17\n",
       "mLVIVxoGY7TUDJ1FyFoSIZi1SFcaBmO01AydRchaEiGYtUhXGgZjtNQMnUXIWhIhmLVIVxoGY7TUDJ1FyFoSIVf4E/iI7qK+Lfl5hxoWW2A=    16\n",
       "mLVIVxoGY7TUDJ1FyFoSIZi1SFcaBmO01AydRchaEiGYtUhXGgZjtNQMnUXIWhIhmLVIVxoGY7TUDJ1FyFoSISzmgfFzT+qYrtqTHkJFqpA=    12\n",
       "mLVIVxoGY7TUDJ1FyFoSIZi1SFcaBmO01AydRchaEiGYtUhXGgZjtNQMnUXIWhIhmLVIVxoGY7TUDJ1FyFoSIUGp9a+9oBSLvyI5Jdz9fNg=    12\n",
       "                                                                                                                ..\n",
       "mLVIVxoGY7TUDJ1FyFoSIZi1SFcaBmO01AydRchaEiGYtUhXGgZjtNQMnUXIWhIhtW0k8u7Ytcx6b4rwm8tpJoW9+H8TEki+3Dz1vZ4h/cY=     1\n",
       "mLVIVxoGY7TUDJ1FyFoSIZi1SFcaBmO01AydRchaEiGYtUhXGgZjtNQMnUXIWhIhmLVIVxoGY7TUDJ1FyFoSIVwwRWY97FN+sS2HV7/nleQ=     1\n",
       "mLVIVxoGY7TUDJ1FyFoSIZi1SFcaBmO01AydRchaEiGYtUhXGgZjtNQMnUXIWhIhmLVIVxoGY7TUDJ1FyFoSIbbMwk5N698i69iCZj0AQ54=     1\n",
       "mLVIVxoGY7TUDJ1FyFoSIZi1SFcaBmO01AydRchaEiGYtUhXGgZjtNQMnUXIWhIhmLVIVxoGY7TUDJ1FyFoSIQUJ5AqWzOl5da5a4aYQstE=     1\n",
       "mLVIVxoGY7TUDJ1FyFoSIZi1SFcaBmO01AydRchaEiGYtUhXGgZjtNQMnUXIWhIhmLVIVxoGY7TUDJ1FyFoSIR63KK8tQOc3jqCtnyjLEMM=     1\n",
       "Name: job_name, Length: 5526, dtype: int64"
      ]
     },
     "execution_count": 9,
     "metadata": {},
     "output_type": "execute_result"
    }
   ],
   "source": [
    "cred_risk_df.loc[cred_risk_df['target_default'] == True]['job_name'].value_counts()"
   ]
  },
  {
   "cell_type": "markdown",
   "metadata": {},
   "source": [
    "A coluna `job_name` possui 32265 títulos de emprego diferentes. Das entradas classificadas cuja variável-alvo tem valor True, vemos que o emprego que mais se repete o faz apenas 19 vezes. Não parece haver nenhum poder preditivo nessa variável, i.e, nenhum emprego específico que indique uma maior probabilidade de inadimplência. O emprego que aparece 19 vezes pode ser apenas mais comum na vida real do que o que aparece uma única vez (e.g comerciante vs piloto de avião). Ainda assim, a proporção é muito pequena e a variável será removida."
   ]
  },
  {
   "cell_type": "markdown",
   "metadata": {},
   "source": [
    "Vamos analisar mais algumas variáveis, visando conhecer suas distribuições estatísticas e valores únicos. Assim, poderemos escolher quais iremos manter, quais remover e quais imputar valores."
   ]
  },
  {
   "cell_type": "code",
   "execution_count": 14,
   "metadata": {},
   "outputs": [
    {
     "name": "stdout",
     "output_type": "stream",
     "text": [
      "Variável ok_since:\n",
      "\n",
      "count    18455.00\n",
      "mean        35.07\n",
      "std         21.66\n",
      "min          0.00\n",
      "25%         17.00\n",
      "50%         32.00\n",
      "75%         50.00\n",
      "max        141.00\n",
      "Name: ok_since, dtype: float64 \n",
      "\n",
      "[ nan  50.  41.  11.  35.  16.  19.  23.  43.  17.  29.  18.   8.  56.\n",
      "  38.  93.  27.  44.  13.  66.  33.  68.  12.  30.  24.  21.   7.  63.\n",
      "  51.  31.  73.  49.   4.  75.  48.  14.  76.  36.   5.  46.  34.  59.\n",
      "  61.  55.  84.  28.   6.  67.  39.  52.  72.  10.  45.  32.  62.   0.\n",
      "  58.  15.  78.  70.   9.  22.  80.  20.  37.   3.  53.  60.  74.  26.\n",
      "  47.   1.  42.  57.  40.  54.  65.  81.  69.  25.  77.  71.  64.  86.\n",
      "  79.  82.   2.  83.  85. 103. 135.  97. 101.  90. 130. 141. 108.  88.\n",
      "  95. 122.  87.]\n"
     ]
    },
    {
     "data": {
      "text/plain": [
       "(None, None)"
      ]
     },
     "execution_count": 14,
     "metadata": {},
     "output_type": "execute_result"
    }
   ],
   "source": [
    "print('Variável ok_since:\\n')\n",
    "\n",
    "print(cred_risk_df['ok_since'].describe().round(2), '\\n'), print(cred_risk_df['ok_since'].unique())"
   ]
  },
  {
   "cell_type": "code",
   "execution_count": 15,
   "metadata": {},
   "outputs": [
    {
     "data": {
      "text/plain": [
       "count    15044.00\n",
       "mean     13782.34\n",
       "std       8077.57\n",
       "min       1005.18\n",
       "25%       7519.50\n",
       "50%      12023.46\n",
       "75%      19220.27\n",
       "max      35059.60\n",
       "Name: last_amount_borrowed, dtype: float64"
      ]
     },
     "execution_count": 15,
     "metadata": {},
     "output_type": "execute_result"
    }
   ],
   "source": [
    "cred_risk_df['last_amount_borrowed'].describe().round(2)"
   ]
  },
  {
   "cell_type": "code",
   "execution_count": 44,
   "metadata": {},
   "outputs": [
    {
     "data": {
      "text/plain": [
       "count    42767.000000\n",
       "mean        12.534781\n",
       "std        126.530487\n",
       "min       -999.000000\n",
       "25%         11.000000\n",
       "50%         27.000000\n",
       "75%         43.000000\n",
       "max         59.000000\n",
       "Name: external_data_provider_email_seen_before, dtype: float64"
      ]
     },
     "execution_count": 44,
     "metadata": {},
     "output_type": "execute_result"
    }
   ],
   "source": [
    "cred_risk_df['external_data_provider_email_seen_before'].describe()"
   ]
  },
  {
   "cell_type": "markdown",
   "metadata": {},
   "source": [
    "Variáveis para imputar valores:\n",
    "\n",
    "* ok_since: mediana\n",
    "* last_amount_borrowed: mediana\n",
    "* credit_limit: mediana\n",
    "* n_issues: mediana\n",
    "* marketing_channel: moda"
   ]
  },
  {
   "cell_type": "code",
   "execution_count": 25,
   "metadata": {},
   "outputs": [
    {
     "data": {
      "text/plain": [
       "0        444\n",
       "1        346\n",
       "2          6\n",
       "3        406\n",
       "4        240\n",
       "        ... \n",
       "44995     72\n",
       "44996     51\n",
       "44997    476\n",
       "44998     35\n",
       "44999    414\n",
       "Name: application_time_in_funnel, Length: 45000, dtype: int64"
      ]
     },
     "execution_count": 25,
     "metadata": {},
     "output_type": "execute_result"
    }
   ],
   "source": [
    "cred_risk_df['application_time_in_funnel']"
   ]
  },
  {
   "cell_type": "code",
   "execution_count": 27,
   "metadata": {},
   "outputs": [
    {
     "name": "stdout",
     "output_type": "stream",
     "text": [
      "Nova Dimensão do Conjunto\n",
      "\n",
      "Entradas: 45000 \n",
      "Variáveis: 26\n"
     ]
    }
   ],
   "source": [
    "df_clean = cred_risk_df.copy()\n",
    "\n",
    "cols_to_drop = ['target_fraud', 'external_data_provider_fraud_score',\n",
    "                'ids', 'email', 'external_data_provider_first_name',\n",
    "                'profile_phone_number', 'profile_tags', 'facebook_profile',\n",
    "                'user_agent', 'state', 'zip', 'job_name', 'channel',\n",
    "                'application_time_applied', 'last_borrowed_in_months',\n",
    "                'external_data_provider_credit_checks_last_year',\n",
    "                'external_data_provider_credit_checks_last_2_year']\n",
    "\n",
    "for col in cols_to_drop:\n",
    "    if col in df_clean.columns.tolist():\n",
    "        \n",
    "        df_clean.drop(col, axis = 1, inplace = True)\n",
    "\n",
    "print('Nova Dimensão do Conjunto')\n",
    "print(f'\\nEntradas: {df_clean.shape[0]}',\n",
    "      f'\\nVariáveis: {df_clean.shape[1]}')"
   ]
  }
 ],
 "metadata": {
  "kernelspec": {
   "display_name": ".venv",
   "language": "python",
   "name": "python3"
  },
  "language_info": {
   "codemirror_mode": {
    "name": "ipython",
    "version": 3
   },
   "file_extension": ".py",
   "mimetype": "text/x-python",
   "name": "python",
   "nbconvert_exporter": "python",
   "pygments_lexer": "ipython3",
   "version": "3.10.9"
  }
 },
 "nbformat": 4,
 "nbformat_minor": 2
}

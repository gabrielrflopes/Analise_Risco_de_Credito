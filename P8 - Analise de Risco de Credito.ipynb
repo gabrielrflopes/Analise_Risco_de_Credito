{
 "cells": [
  {
   "cell_type": "markdown",
   "metadata": {},
   "source": [
    "# Projeto - Análise de Risco de Crédito"
   ]
  },
  {
   "cell_type": "code",
   "execution_count": 166,
   "metadata": {},
   "outputs": [],
   "source": [
    "import pandas as pd\n",
    "import numpy as np\n",
    "import matplotlib.pyplot as plt\n",
    "import seaborn as sns"
   ]
  },
  {
   "cell_type": "code",
   "execution_count": 167,
   "metadata": {},
   "outputs": [
    {
     "data": {
      "text/html": [
       "<div>\n",
       "<style scoped>\n",
       "    .dataframe tbody tr th:only-of-type {\n",
       "        vertical-align: middle;\n",
       "    }\n",
       "\n",
       "    .dataframe tbody tr th {\n",
       "        vertical-align: top;\n",
       "    }\n",
       "\n",
       "    .dataframe thead th {\n",
       "        text-align: right;\n",
       "    }\n",
       "</style>\n",
       "<table border=\"1\" class=\"dataframe\">\n",
       "  <thead>\n",
       "    <tr style=\"text-align: right;\">\n",
       "      <th></th>\n",
       "      <th>ids</th>\n",
       "      <th>target_default</th>\n",
       "      <th>score_1</th>\n",
       "      <th>score_2</th>\n",
       "      <th>score_3</th>\n",
       "      <th>score_4</th>\n",
       "      <th>score_5</th>\n",
       "      <th>score_6</th>\n",
       "      <th>risk_rate</th>\n",
       "      <th>last_amount_borrowed</th>\n",
       "      <th>...</th>\n",
       "      <th>external_data_provider_fraud_score</th>\n",
       "      <th>lat_lon</th>\n",
       "      <th>marketing_channel</th>\n",
       "      <th>profile_phone_number</th>\n",
       "      <th>reported_income</th>\n",
       "      <th>shipping_state</th>\n",
       "      <th>shipping_zip_code</th>\n",
       "      <th>profile_tags</th>\n",
       "      <th>user_agent</th>\n",
       "      <th>target_fraud</th>\n",
       "    </tr>\n",
       "  </thead>\n",
       "  <tbody>\n",
       "    <tr>\n",
       "      <th>0</th>\n",
       "      <td>343b7e7b-2cf8-e508-b8fd-0a0285af30aa</td>\n",
       "      <td>False</td>\n",
       "      <td>1Rk8w4Ucd5yR3KcqZzLdow==</td>\n",
       "      <td>IOVu8au3ISbo6+zmfnYwMg==</td>\n",
       "      <td>350.0</td>\n",
       "      <td>101.800832</td>\n",
       "      <td>0.259555</td>\n",
       "      <td>108.427273</td>\n",
       "      <td>0.40</td>\n",
       "      <td>25033.92</td>\n",
       "      <td>...</td>\n",
       "      <td>645</td>\n",
       "      <td>(-29.151545708122246, -51.1386461804385)</td>\n",
       "      <td>Invite-email</td>\n",
       "      <td>514-9840782</td>\n",
       "      <td>57849.0</td>\n",
       "      <td>BR-MT</td>\n",
       "      <td>17528</td>\n",
       "      <td>{'tags': ['n19', 'n8']}</td>\n",
       "      <td>Mozilla/5.0 (Linux; Android 6.0.1; SGP771 Buil...</td>\n",
       "      <td>NaN</td>\n",
       "    </tr>\n",
       "    <tr>\n",
       "      <th>1</th>\n",
       "      <td>bc2c7502-bbad-0f8c-39c3-94e881967124</td>\n",
       "      <td>False</td>\n",
       "      <td>DGCQep2AE5QRkNCshIAlFQ==</td>\n",
       "      <td>SaamrHMo23l/3TwXOWgVzw==</td>\n",
       "      <td>370.0</td>\n",
       "      <td>97.062615</td>\n",
       "      <td>0.942655</td>\n",
       "      <td>92.002546</td>\n",
       "      <td>0.24</td>\n",
       "      <td>NaN</td>\n",
       "      <td>...</td>\n",
       "      <td>243</td>\n",
       "      <td>(-19.687710705798963, -47.94151536525154)</td>\n",
       "      <td>Radio-commercial</td>\n",
       "      <td>251-3659293</td>\n",
       "      <td>4902.0</td>\n",
       "      <td>BR-RS</td>\n",
       "      <td>40933</td>\n",
       "      <td>{'tags': ['n6', 'n7', 'nim']}</td>\n",
       "      <td>Mozilla/5.0 (Linux; Android 5.0.2; SAMSUNG SM-...</td>\n",
       "      <td>NaN</td>\n",
       "    </tr>\n",
       "    <tr>\n",
       "      <th>2</th>\n",
       "      <td>669630dd-2e6a-0396-84bf-455e5009c922</td>\n",
       "      <td>True</td>\n",
       "      <td>DGCQep2AE5QRkNCshIAlFQ==</td>\n",
       "      <td>Fv28Bz0YRTVAT5kl1bAV6g==</td>\n",
       "      <td>360.0</td>\n",
       "      <td>100.027073</td>\n",
       "      <td>0.351918</td>\n",
       "      <td>112.892453</td>\n",
       "      <td>0.29</td>\n",
       "      <td>7207.92</td>\n",
       "      <td>...</td>\n",
       "      <td>65</td>\n",
       "      <td>(-28.748023890412284, -51.867279334353995)</td>\n",
       "      <td>Waiting-list</td>\n",
       "      <td>230-6097993</td>\n",
       "      <td>163679.0</td>\n",
       "      <td>BR-RR</td>\n",
       "      <td>50985</td>\n",
       "      <td>{'tags': ['n0', 'n17', 'nim', 'da']}</td>\n",
       "      <td>Mozilla/5.0 (Linux; Android 6.0.1; SGP771 Buil...</td>\n",
       "      <td>NaN</td>\n",
       "    </tr>\n",
       "    <tr>\n",
       "      <th>3</th>\n",
       "      <td>d235609e-b6cb-0ccc-a329-d4f12e7ebdc1</td>\n",
       "      <td>False</td>\n",
       "      <td>1Rk8w4Ucd5yR3KcqZzLdow==</td>\n",
       "      <td>dCm9hFKfdRm7ej3jW+gyxw==</td>\n",
       "      <td>510.0</td>\n",
       "      <td>101.599485</td>\n",
       "      <td>0.987673</td>\n",
       "      <td>94.902491</td>\n",
       "      <td>0.32</td>\n",
       "      <td>NaN</td>\n",
       "      <td>...</td>\n",
       "      <td>815</td>\n",
       "      <td>(-17.520650158450454, -39.75801139933186)</td>\n",
       "      <td>Waiting-list</td>\n",
       "      <td>261-3543751</td>\n",
       "      <td>1086.0</td>\n",
       "      <td>BR-RN</td>\n",
       "      <td>37825</td>\n",
       "      <td>{'tags': ['n4']}</td>\n",
       "      <td>Mozilla/5.0 (Linux; Android 6.0; HTC One X10 B...</td>\n",
       "      <td>NaN</td>\n",
       "    </tr>\n",
       "    <tr>\n",
       "      <th>4</th>\n",
       "      <td>9e0eb880-e8f4-3faa-67d8-f5cdd2b3932b</td>\n",
       "      <td>False</td>\n",
       "      <td>8k8UDR4Yx0qasAjkGrUZLw==</td>\n",
       "      <td>+CxEO4w7jv3QPI/BQbyqAA==</td>\n",
       "      <td>500.0</td>\n",
       "      <td>98.474289</td>\n",
       "      <td>0.532539</td>\n",
       "      <td>118.126207</td>\n",
       "      <td>0.18</td>\n",
       "      <td>NaN</td>\n",
       "      <td>...</td>\n",
       "      <td>320</td>\n",
       "      <td>(-16.574259446978008, -39.90990074785962)</td>\n",
       "      <td>Invite-email</td>\n",
       "      <td>102-3660162</td>\n",
       "      <td>198618.0</td>\n",
       "      <td>BR-MT</td>\n",
       "      <td>52827</td>\n",
       "      <td>{'tags': ['pro+aty', 'n19', 'da', 'b19']}</td>\n",
       "      <td>Mozilla/5.0 (Linux; Android 7.0; Pixel C Build...</td>\n",
       "      <td>NaN</td>\n",
       "    </tr>\n",
       "  </tbody>\n",
       "</table>\n",
       "<p>5 rows × 43 columns</p>\n",
       "</div>"
      ],
      "text/plain": [
       "                                    ids target_default  \\\n",
       "0  343b7e7b-2cf8-e508-b8fd-0a0285af30aa          False   \n",
       "1  bc2c7502-bbad-0f8c-39c3-94e881967124          False   \n",
       "2  669630dd-2e6a-0396-84bf-455e5009c922           True   \n",
       "3  d235609e-b6cb-0ccc-a329-d4f12e7ebdc1          False   \n",
       "4  9e0eb880-e8f4-3faa-67d8-f5cdd2b3932b          False   \n",
       "\n",
       "                    score_1                   score_2  score_3     score_4  \\\n",
       "0  1Rk8w4Ucd5yR3KcqZzLdow==  IOVu8au3ISbo6+zmfnYwMg==    350.0  101.800832   \n",
       "1  DGCQep2AE5QRkNCshIAlFQ==  SaamrHMo23l/3TwXOWgVzw==    370.0   97.062615   \n",
       "2  DGCQep2AE5QRkNCshIAlFQ==  Fv28Bz0YRTVAT5kl1bAV6g==    360.0  100.027073   \n",
       "3  1Rk8w4Ucd5yR3KcqZzLdow==  dCm9hFKfdRm7ej3jW+gyxw==    510.0  101.599485   \n",
       "4  8k8UDR4Yx0qasAjkGrUZLw==  +CxEO4w7jv3QPI/BQbyqAA==    500.0   98.474289   \n",
       "\n",
       "    score_5     score_6  risk_rate  last_amount_borrowed  ...  \\\n",
       "0  0.259555  108.427273       0.40              25033.92  ...   \n",
       "1  0.942655   92.002546       0.24                   NaN  ...   \n",
       "2  0.351918  112.892453       0.29               7207.92  ...   \n",
       "3  0.987673   94.902491       0.32                   NaN  ...   \n",
       "4  0.532539  118.126207       0.18                   NaN  ...   \n",
       "\n",
       "   external_data_provider_fraud_score  \\\n",
       "0                                 645   \n",
       "1                                 243   \n",
       "2                                  65   \n",
       "3                                 815   \n",
       "4                                 320   \n",
       "\n",
       "                                      lat_lon marketing_channel  \\\n",
       "0    (-29.151545708122246, -51.1386461804385)      Invite-email   \n",
       "1   (-19.687710705798963, -47.94151536525154)  Radio-commercial   \n",
       "2  (-28.748023890412284, -51.867279334353995)      Waiting-list   \n",
       "3   (-17.520650158450454, -39.75801139933186)      Waiting-list   \n",
       "4   (-16.574259446978008, -39.90990074785962)      Invite-email   \n",
       "\n",
       "   profile_phone_number reported_income shipping_state shipping_zip_code  \\\n",
       "0           514-9840782         57849.0          BR-MT             17528   \n",
       "1           251-3659293          4902.0          BR-RS             40933   \n",
       "2           230-6097993        163679.0          BR-RR             50985   \n",
       "3           261-3543751          1086.0          BR-RN             37825   \n",
       "4           102-3660162        198618.0          BR-MT             52827   \n",
       "\n",
       "                                profile_tags  \\\n",
       "0                    {'tags': ['n19', 'n8']}   \n",
       "1              {'tags': ['n6', 'n7', 'nim']}   \n",
       "2       {'tags': ['n0', 'n17', 'nim', 'da']}   \n",
       "3                           {'tags': ['n4']}   \n",
       "4  {'tags': ['pro+aty', 'n19', 'da', 'b19']}   \n",
       "\n",
       "                                          user_agent target_fraud  \n",
       "0  Mozilla/5.0 (Linux; Android 6.0.1; SGP771 Buil...          NaN  \n",
       "1  Mozilla/5.0 (Linux; Android 5.0.2; SAMSUNG SM-...          NaN  \n",
       "2  Mozilla/5.0 (Linux; Android 6.0.1; SGP771 Buil...          NaN  \n",
       "3  Mozilla/5.0 (Linux; Android 6.0; HTC One X10 B...          NaN  \n",
       "4  Mozilla/5.0 (Linux; Android 7.0; Pixel C Build...          NaN  \n",
       "\n",
       "[5 rows x 43 columns]"
      ]
     },
     "execution_count": 167,
     "metadata": {},
     "output_type": "execute_result"
    }
   ],
   "source": [
    "data_path = r\"C:\\Users\\Usuario\\OneDrive\\Documentos\\Projetos Visual Studio Code\\DSNP 3.0\\Datasets\\acquisition_train.csv\"\n",
    "\n",
    "cred_risk_df = pd.read_csv(data_path)\n",
    "\n",
    "cred_risk_df.head()"
   ]
  },
  {
   "cell_type": "code",
   "execution_count": 168,
   "metadata": {},
   "outputs": [
    {
     "name": "stdout",
     "output_type": "stream",
     "text": [
      "Dimensões do conjunto\n",
      " \n",
      "Entradas: 45000 \n",
      "Variáveis: 43\n",
      "\n",
      "Nomes das colunas:\n"
     ]
    },
    {
     "data": {
      "text/plain": [
       "Index(['ids', 'target_default', 'score_1', 'score_2', 'score_3', 'score_4',\n",
       "       'score_5', 'score_6', 'risk_rate', 'last_amount_borrowed',\n",
       "       'last_borrowed_in_months', 'credit_limit', 'reason', 'income',\n",
       "       'facebook_profile', 'state', 'zip', 'channel', 'job_name', 'real_state',\n",
       "       'ok_since', 'n_bankruptcies', 'n_defaulted_loans', 'n_accounts',\n",
       "       'n_issues', 'application_time_applied', 'application_time_in_funnel',\n",
       "       'email', 'external_data_provider_credit_checks_last_2_year',\n",
       "       'external_data_provider_credit_checks_last_month',\n",
       "       'external_data_provider_credit_checks_last_year',\n",
       "       'external_data_provider_email_seen_before',\n",
       "       'external_data_provider_first_name',\n",
       "       'external_data_provider_fraud_score', 'lat_lon', 'marketing_channel',\n",
       "       'profile_phone_number', 'reported_income', 'shipping_state',\n",
       "       'shipping_zip_code', 'profile_tags', 'user_agent', 'target_fraud'],\n",
       "      dtype='object')"
      ]
     },
     "execution_count": 168,
     "metadata": {},
     "output_type": "execute_result"
    }
   ],
   "source": [
    "print('Dimensões do conjunto\\n',\n",
    "      f'\\nEntradas: {cred_risk_df.shape[0]}',\n",
    "      f'\\nVariáveis: {cred_risk_df.shape[1]}')\n",
    "\n",
    "print('\\nNomes das colunas:')\n",
    "cred_risk_df.columns"
   ]
  },
  {
   "cell_type": "markdown",
   "metadata": {},
   "source": [
    "### Dicionário de Variáveis"
   ]
  },
  {
   "cell_type": "markdown",
   "metadata": {},
   "source": [
    "Observando os nomes de colunas e as primeiras entradas, podemos inferir algumas coisas. Além disso, se analisarmos cada variável em seus valores únicos, podemos deduzir o signficado, além de já identificar problemas nos dados:\n",
    "\n",
    "- `ids`: identificadores dos clientes, aparentemente são _strings_ aleatórias que não serão úteis para a análise;\n",
    "- `score_1, score_2`: variáveis de pontuação codificadas;\n",
    "- `score_3, score_4, score_5, score_6`: variáveis numéricas que dizem respeito a pontuação do cliente. Pode ser útil para identificar inadimplentes;\n",
    "- `risk_rate`: taxa de risco (de inadimplência?) do cliente (valores entre 0 e 1);\n",
    "- `last_amount_borrowed`: registro do valor do último empréstimo do cliente;\n",
    "- `last_borrowed_in_months`: número de meses desde o último empréstimo (36., nan, 60.);\n",
    "- `credit_limit`: limite de crédito para determinado cliente;\n",
    "- `income`: renda anual do cliente;\n",
    "- `state, zip, channel, job_name, real_state`: dados demográficos, trabalho dos clientes (codificadas);\n",
    "- `n_bankruptcies`: número de falências registradas do cliente ( 0.,  1., nan,  2.,  3.,  4.,  5.);\n",
    "- `n_defaulted_loans`: número de calotes nos empréstimos (0., 1., nan, 2., 3., 5.);\n",
    "- `n_accounts`: número de contas (valor inteiro);\n",
    "- `n_issues`: número de problemas (valor inteiro);\n",
    "- `application_time_applied`: tempo de aplicação (dados em horas, não está claro a que se refere);\n",
    "- `email`: provedor de e-mail (outlook, gmail, etc);\n",
    "- `external_data_provider_credit_checks_last_2_year`: coluna com 0 ou nan. Checagem de crédito nos últimos dois anos;\n",
    "- `external_data_provider_credit_checks_last_year`, `external_data_provider_credit_checks_last_month`: Checagem de crédito no último ano (0., nan, 1.) e último mês (2, 1, 3, 0);\n",
    "- `external_data_provider_email_seen_before`: E-mail visto antes (possui valores nan e discrepantes, como -999)\n",
    "- `external_data_provider_first_name`: Primeiro nome do cliente;\n",
    "- `external_data_provider_fraud_score`: Pontuação de fraude (não faz parte do escopo da nossa análise);\n",
    "- `lat_lon`: tupla de valores de latitude e longitude;\n",
    "- `marketing_channel`: canal de marketing (convite e-mail, radio, lista de espera, website, etc);\n",
    "- `profile_phone_number`: número de telefone do cliente;\n",
    "- `reported_income`: renda informada pelo cliente (float, mas poderia ser int);\n",
    "- `shipping_state`, `shipping_zip_code`: estado de residência do cliente (BR-MG, BR-SP, etc) e CEP (int);\n",
    "- `profile_tags`: lista com dicionários contendo tags de identificação (?) dos clientes (\"{'tags': ['n19', 'n8']}\", \"{'tags': ['n6', 'n7', 'nim']}\"). PS: dicionários formatados como string.\n",
    "- `user_agent`: informações sobre pontos de acesso;\n",
    "- `target_fraud`: variável que classifica uma transação fraudulenta ou não (fora do escopo do projeto);\n",
    "- `target_default`: variável que classifica um cliente inadimplente ou não (**alvo**) (False, True, nan).\n",
    "\n",
    "A análise dos valores únicos por coluna ajudou a identificar as colunas que já apresentavam problemas de valores discrepantes e ausentes, além daquelas cujos valores estão codificados. Como é uma análise feita manualmente, as células foram apagadas para não bagunçar o projeto.\n",
    "\n",
    "\n"
   ]
  },
  {
   "cell_type": "markdown",
   "metadata": {},
   "source": [
    "### Informações da variável-alvo"
   ]
  },
  {
   "cell_type": "markdown",
   "metadata": {},
   "source": [
    "Como visto, a variável `target_default` é o nosso alvo, contendo informações dos clientes regulares e inadimplentes. Vamos verificar algumas informações sobre ela, como valores únicos, proporções das classes e quantidade de valores nulos."
   ]
  },
  {
   "cell_type": "code",
   "execution_count": 169,
   "metadata": {},
   "outputs": [
    {
     "name": "stdout",
     "output_type": "stream",
     "text": [
      "Valores na variável-alvo:\n"
     ]
    },
    {
     "data": {
      "text/plain": [
       "[False, True, nan]"
      ]
     },
     "execution_count": 169,
     "metadata": {},
     "output_type": "execute_result"
    }
   ],
   "source": [
    "print('Valores na variável-alvo:')\n",
    "cred_risk_df['target_default'].unique().tolist()"
   ]
  },
  {
   "cell_type": "code",
   "execution_count": 170,
   "metadata": {},
   "outputs": [
    {
     "name": "stdout",
     "output_type": "stream",
     "text": [
      "Distribuição das classes:\n",
      "\n",
      "False    35080\n",
      "True      6661\n",
      "Name: target_default, dtype: int64\n",
      "\n",
      "Proporção no conjunto: \n",
      "\n",
      "False: \t77.96 % \n",
      "True: \t14.8 %\n"
     ]
    }
   ],
   "source": [
    "print('Distribuição das classes:\\n')\n",
    "\n",
    "class_count = cred_risk_df['target_default'].value_counts()\n",
    "\n",
    "print(class_count)\n",
    "\n",
    "print('\\nProporção no conjunto: \\n')\n",
    "\n",
    "class_0 = (class_count[0] * 100/ cred_risk_df.__len__()).round(2)\n",
    "class_1 = (class_count[1] * 100/ cred_risk_df.__len__()).round(2)\n",
    "\n",
    "print(f'False: \\t{class_0} %',\n",
    "      f'\\nTrue: \\t{class_1} %')"
   ]
  },
  {
   "cell_type": "code",
   "execution_count": 171,
   "metadata": {},
   "outputs": [
    {
     "data": {
      "image/png": "[encoded data removed]",
      "text/plain": [
       "<Figure size 800x500 with 1 Axes>"
      ]
     },
     "metadata": {},
     "output_type": "display_data"
    }
   ],
   "source": [
    "fig, ax = plt.subplots(figsize = (8, 5))\n",
    "\n",
    "sns.countplot(data = cred_risk_df, x = 'target_default', palette = 'Blues', ax = ax)\n",
    "\n",
    "ax.set_title('Proporções das Classes na Variável-Alvo', fontsize = 15, pad = 12)\n",
    "ax.set_ylabel('Contagem', fontsize = 12)\n",
    "ax.set_xlabel('Inadimplência', fontsize = 12)\n",
    "ax.set_xticklabels(['Falso', 'Verdadeiro'], fontdict = {'fontsize': 12})\n",
    "ax.set_yticks(ticks = np.arange(0, 4e4, 5e3), \n",
    "              labels = [i for i in range(0, 40000, 5000)], \n",
    "              fontdict = {'fontsize': 12})\n",
    "\n",
    "fig.tight_layout()"
   ]
  },
  {
   "cell_type": "code",
   "execution_count": 172,
   "metadata": {},
   "outputs": [
    {
     "name": "stdout",
     "output_type": "stream",
     "text": [
      "Quantidade de valores nulos no alvo: 3259\n"
     ]
    }
   ],
   "source": [
    "print('Quantidade de valores nulos no alvo: {}'.format(cred_risk_df['target_default'].isna().sum()))"
   ]
  },
  {
   "cell_type": "markdown",
   "metadata": {},
   "source": [
    "Como podemos ver, nossa variável-alvo apresenta valores de verdadeiro, falso e valores ausentes que precisam ser tratados. Trata-se então de uma tarefa de classificação binária, com as seguintes classes:\n",
    "\n",
    "- **True**: Clientes inadimplentes;\n",
    "- **False**: Clientes regulares.\n",
    "\n",
    "Iremos posteriormente codificar esses valores, de modo que a classe True seja mapeada com o valor 1 e classe False seja mapeada com o valor 0."
   ]
  },
  {
   "cell_type": "markdown",
   "metadata": {},
   "source": [
    "### Informações do conjunto de dados"
   ]
  },
  {
   "cell_type": "markdown",
   "metadata": {},
   "source": [
    "Agora que vimos informações sobre a variável-alvo, vamos seguir com a análise para outras variáveis do conjunto. Começaremos analisando a quantidade de valores ausentes, as colunas que serão removidas, e aquelas que serão imputadas com novos valores para preencher os ausentes."
   ]
  },
  {
   "cell_type": "code",
   "execution_count": 173,
   "metadata": {},
   "outputs": [
    {
     "name": "stdout",
     "output_type": "stream",
     "text": [
      "Resumo de informações do conjunto, tipos e valores ausentes:\n",
      "\n",
      "<class 'pandas.core.frame.DataFrame'>\n",
      "RangeIndex: 45000 entries, 0 to 44999\n",
      "Data columns (total 43 columns):\n",
      " #   Column                                            Non-Null Count  Dtype  \n",
      "---  ------                                            --------------  -----  \n",
      " 0   ids                                               45000 non-null  object \n",
      " 1   target_default                                    41741 non-null  object \n",
      " 2   score_1                                           44438 non-null  object \n",
      " 3   score_2                                           44438 non-null  object \n",
      " 4   score_3                                           44438 non-null  float64\n",
      " 5   score_4                                           45000 non-null  float64\n",
      " 6   score_5                                           45000 non-null  float64\n",
      " 7   score_6                                           45000 non-null  float64\n",
      " 8   risk_rate                                         44438 non-null  float64\n",
      " 9   last_amount_borrowed                              15044 non-null  float64\n",
      " 10  last_borrowed_in_months                           15044 non-null  float64\n",
      " 11  credit_limit                                      31200 non-null  float64\n",
      " 12  reason                                            44434 non-null  object \n",
      " 13  income                                            44438 non-null  float64\n",
      " 14  facebook_profile                                  40542 non-null  object \n",
      " 15  state                                             44438 non-null  object \n",
      " 16  zip                                               44438 non-null  object \n",
      " 17  channel                                           44438 non-null  object \n",
      " 18  job_name                                          41664 non-null  object \n",
      " 19  real_state                                        44438 non-null  object \n",
      " 20  ok_since                                          18455 non-null  float64\n",
      " 21  n_bankruptcies                                    44303 non-null  float64\n",
      " 22  n_defaulted_loans                                 44426 non-null  float64\n",
      " 23  n_accounts                                        44438 non-null  float64\n",
      " 24  n_issues                                          33456 non-null  float64\n",
      " 25  application_time_applied                          45000 non-null  object \n",
      " 26  application_time_in_funnel                        45000 non-null  int64  \n",
      " 27  email                                             45000 non-null  object \n",
      " 28  external_data_provider_credit_checks_last_2_year  22372 non-null  float64\n",
      " 29  external_data_provider_credit_checks_last_month   45000 non-null  int64  \n",
      " 30  external_data_provider_credit_checks_last_year    29876 non-null  float64\n",
      " 31  external_data_provider_email_seen_before          42767 non-null  float64\n",
      " 32  external_data_provider_first_name                 45000 non-null  object \n",
      " 33  external_data_provider_fraud_score                45000 non-null  int64  \n",
      " 34  lat_lon                                           43637 non-null  object \n",
      " 35  marketing_channel                                 41422 non-null  object \n",
      " 36  profile_phone_number                              45000 non-null  object \n",
      " 37  reported_income                                   45000 non-null  float64\n",
      " 38  shipping_state                                    45000 non-null  object \n",
      " 39  shipping_zip_code                                 45000 non-null  int64  \n",
      " 40  profile_tags                                      45000 non-null  object \n",
      " 41  user_agent                                        44278 non-null  object \n",
      " 42  target_fraud                                      1522 non-null   object \n",
      "dtypes: float64(18), int64(4), object(21)\n",
      "memory usage: 14.8+ MB\n"
     ]
    }
   ],
   "source": [
    "print('Resumo de informações do conjunto, tipos e valores ausentes:\\n')\n",
    "cred_risk_df.info(verbose = True)"
   ]
  },
  {
   "cell_type": "markdown",
   "metadata": {},
   "source": [
    "### Tratamento de valores ausentes"
   ]
  },
  {
   "cell_type": "code",
   "execution_count": 174,
   "metadata": {},
   "outputs": [
    {
     "name": "stdout",
     "output_type": "stream",
     "text": [
      "Valores ausentes por coluna, ordenados de forma decrescente (%):\n"
     ]
    },
    {
     "data": {
      "text/plain": [
       "target_fraud                                        96.6\n",
       "last_amount_borrowed                                66.6\n",
       "last_borrowed_in_months                             66.6\n",
       "ok_since                                            59.0\n",
       "external_data_provider_credit_checks_last_2_year    50.3\n",
       "external_data_provider_credit_checks_last_year      33.6\n",
       "credit_limit                                        30.7\n",
       "n_issues                                            25.7\n",
       "facebook_profile                                     9.9\n",
       "marketing_channel                                    8.0\n",
       "job_name                                             7.4\n",
       "target_default                                       7.2\n",
       "external_data_provider_email_seen_before             5.0\n",
       "lat_lon                                              3.0\n",
       "user_agent                                           1.6\n",
       "n_bankruptcies                                       1.5\n",
       "reason                                               1.3\n",
       "n_defaulted_loans                                    1.3\n",
       "zip                                                  1.2\n",
       "n_accounts                                           1.2\n",
       "channel                                              1.2\n",
       "score_1                                              1.2\n",
       "score_3                                              1.2\n",
       "risk_rate                                            1.2\n",
       "income                                               1.2\n",
       "real_state                                           1.2\n",
       "state                                                1.2\n",
       "score_2                                              1.2\n",
       "profile_tags                                         0.0\n",
       "shipping_zip_code                                    0.0\n",
       "shipping_state                                       0.0\n",
       "reported_income                                      0.0\n",
       "profile_phone_number                                 0.0\n",
       "external_data_provider_credit_checks_last_month      0.0\n",
       "external_data_provider_fraud_score                   0.0\n",
       "external_data_provider_first_name                    0.0\n",
       "score_4                                              0.0\n",
       "score_5                                              0.0\n",
       "score_6                                              0.0\n",
       "email                                                0.0\n",
       "application_time_in_funnel                           0.0\n",
       "application_time_applied                             0.0\n",
       "ids                                                  0.0\n",
       "dtype: float64"
      ]
     },
     "execution_count": 174,
     "metadata": {},
     "output_type": "execute_result"
    }
   ],
   "source": [
    "print('Valores ausentes por coluna, ordenados de forma decrescente (%):')\n",
    "round((cred_risk_df.isna().sum()) * 100 / cred_risk_df.__len__(), 1).sort_values(ascending = False)"
   ]
  },
  {
   "cell_type": "markdown",
   "metadata": {},
   "source": [
    "Variáveis sem nenhum valor ausente:\n",
    "\n",
    "- `profile_tags`\n",
    "- `shipping_zip_code`\n",
    "- `shipping_state`\n",
    "- `reported_income`\n",
    "- `profile_phone_number`\n",
    "- `external_data_provider_credit_checks_last_month`\n",
    "- `external_data_provider_fraud_score`\n",
    "- `external_data_provider_first_name`\n",
    "- `score_4`\n",
    "- `score_5`\n",
    "- `score_6`\n",
    "- `email`\n",
    "- `application_time_in_funnel`\n",
    "- `application_time_applied`\n",
    "- `ids`                  "
   ]
  },
  {
   "cell_type": "markdown",
   "metadata": {},
   "source": [
    "Dentre as variáveis que possuem valores ausentes, algumas não possuem nenhum significado para nossa análise e serão removidas.  Particularmente, as variáveis que dizem respeito à tarefa de detecção de fraudes, que não faz parte do escopo desse projeto, serão removidas. São elas: `target_fraud` e `external_data_provider_fraud_score`. Outras variáveis simplesmente não possuem nenhum poder preditivo para análise (e.g nome ou e-mail que a pessoa usa, perfil do Facebook) ou são de difícil interpretabilidade (e.g pontos de acesso, horários, etc), como `ids`, `email`, `external_data_provider_first_name`, `profile_phone_number`, `facebook_profile`, `user_agent`, `application_time_applied`, `external_data_provider_credit_checks_last_year`, `external_data_provider_credit_checks_last_2_year`, `reason`, etc.\n",
    "\n",
    "Dentre as variáveis codificadas, temos: `state, zip, channel, job_name, real_state, score_1 e score_2`. Para verificar se compensa ou não removê-las, podemos investigar as correlações que essas variáveis tem com o alvo. Se forem correlações significativas, podemos mantê-las no conjunto de dados. Para analisar as correlações, essas variáveis precisam ser numéricas. Assim irei utilizar da técnica de One-Hot Enconding naquelas que possuem poucos valores únicos, para transformar as categorias em novas colunas. Primeiro vamos verificar os valores únicos dessas colunas:"
   ]
  },
  {
   "cell_type": "code",
   "execution_count": 175,
   "metadata": {},
   "outputs": [
    {
     "data": {
      "text/plain": [
       "channel           1\n",
       "real_state        5\n",
       "score_1           7\n",
       "score_2          35\n",
       "state            50\n",
       "zip             823\n",
       "job_name      32265\n",
       "dtype: int64"
      ]
     },
     "execution_count": 175,
     "metadata": {},
     "output_type": "execute_result"
    }
   ],
   "source": [
    "cred_risk_df[['state', 'zip', 'channel', 'job_name', 'real_state', 'score_1', 'score_2']].nunique().sort_values()"
   ]
  },
  {
   "cell_type": "markdown",
   "metadata": {},
   "source": [
    "Apenas as variáveis `score_1` e `real_state` possuem poucos valores únicos. A variável `channel`, assim como `external_data_provider_credit_checks_last_2_year`, possui apenas um valor que por si só não oferece nenhum poder preditivo. Iremos removê-las posteriormente."
   ]
  },
  {
   "cell_type": "markdown",
   "metadata": {},
   "source": [
    "Poderíamos argumentar que o fato do cliente ser inadimplente pode ter a ver com seu emprego. Vamos analisar se existe algum tipo de emprego, na coluna `job_name`, que indique essa relação. "
   ]
  },
  {
   "cell_type": "code",
   "execution_count": 176,
   "metadata": {},
   "outputs": [
    {
     "name": "stdout",
     "output_type": "stream",
     "text": [
      "mLVIVxoGY7TUDJ1FyFoSIZi1SFcaBmO01AydRchaEiGYtUhXGgZjtNQMnUXIWhIhmLVIVxoGY7TUDJ1FyFoSIaUIfpgwbYh438CvSsT5QB8=    19\n",
      "mLVIVxoGY7TUDJ1FyFoSIZi1SFcaBmO01AydRchaEiGYtUhXGgZjtNQMnUXIWhIhmLVIVxoGY7TUDJ1FyFoSIbOy82w5K5LALfp4MHskDUE=    17\n",
      "mLVIVxoGY7TUDJ1FyFoSIZi1SFcaBmO01AydRchaEiGYtUhXGgZjtNQMnUXIWhIhmLVIVxoGY7TUDJ1FyFoSIVf4E/iI7qK+Lfl5hxoWW2A=    16\n",
      "mLVIVxoGY7TUDJ1FyFoSIZi1SFcaBmO01AydRchaEiGYtUhXGgZjtNQMnUXIWhIhmLVIVxoGY7TUDJ1FyFoSISzmgfFzT+qYrtqTHkJFqpA=    12\n",
      "mLVIVxoGY7TUDJ1FyFoSIZi1SFcaBmO01AydRchaEiGYtUhXGgZjtNQMnUXIWhIhmLVIVxoGY7TUDJ1FyFoSIUGp9a+9oBSLvyI5Jdz9fNg=    12\n",
      "mLVIVxoGY7TUDJ1FyFoSIZi1SFcaBmO01AydRchaEiGYtUhXGgZjtNQMnUXIWhIhmLVIVxoGY7TUDJ1FyFoSIb4ADj/ykkhgM886TEQ8yrI=    11\n",
      "mLVIVxoGY7TUDJ1FyFoSIZi1SFcaBmO01AydRchaEiGYtUhXGgZjtNQMnUXIWhIh/cdCiaVzVo/KVM2JldD+WiCpSDcTmA605zSPwbuinf0=    11\n",
      "mLVIVxoGY7TUDJ1FyFoSIZi1SFcaBmO01AydRchaEiGYtUhXGgZjtNQMnUXIWhIhmLVIVxoGY7TUDJ1FyFoSIV56G3kjZxQ0yMeb3IU2UKE=    11\n",
      "mLVIVxoGY7TUDJ1FyFoSIZi1SFcaBmO01AydRchaEiGYtUhXGgZjtNQMnUXIWhIhmLVIVxoGY7TUDJ1FyFoSIfeSCTDWhw2hS0GDfQEUVwM=    11\n",
      "mLVIVxoGY7TUDJ1FyFoSIZi1SFcaBmO01AydRchaEiGYtUhXGgZjtNQMnUXIWhIhmLVIVxoGY7TUDJ1FyFoSIa6KOvl8Xp6F2JH3Vt47kH0=    10\n",
      "Name: job_name, dtype: int64 \n",
      "\n",
      "Sumário Estatístico\n",
      "count    5526.0\n",
      "mean        1.1\n",
      "std         0.7\n",
      "min         1.0\n",
      "50%         1.0\n",
      "75%         1.0\n",
      "95%         2.0\n",
      "99%         4.0\n",
      "99.9%      11.0\n",
      "max        19.0\n",
      "Name: job_name, dtype: float64\n",
      "\n",
      "Soma das frequências de casos inadimplentes para empregos no percentil maior que 75%: 894\n"
     ]
    }
   ],
   "source": [
    "count_jobs = cred_risk_df.loc[cred_risk_df['target_default'] == True]['job_name'].value_counts()\n",
    "\n",
    "print(count_jobs[:10], '\\n') \n",
    "\n",
    "print('Sumário Estatístico')\n",
    "\n",
    "print(count_jobs.describe(percentiles = [.5, .75, .95, .99, .999]).round(1))\n",
    "\n",
    "print(f'\\nSoma das frequências de casos inadimplentes para empregos no percentil maior que 75%: {count_jobs.loc[count_jobs > 1].sum()}')"
   ]
  },
  {
   "cell_type": "markdown",
   "metadata": {},
   "source": [
    "Os resultados aqui são interessantes. Os 5 primeiros itens da lista representam títulos de empregos que mais se repetem quando o cliente é inadimplente. Podemos ter a situação de que sejam apenas títulos mais comuns de empregos contra títulos mais raros, e.g comerciante vs piloto de avião, e por isso eles aparecem mais vezes na lista de clientes inadimplentes. \n",
    "\n",
    "Ao analisarmos o sumário estatístico, vemos que 99% dos empregos que aparecem na lista de inadimplentes o fazem até 4 vezes, significando que existe 1% de empregos que sempre que aparecem aumentam as chances do cliente ser previsto como inadimplente. Isto corresponde a 55 empregos. Acima disso, apenas 6 aparecem na lista de inadimplentes com uma frequência maior do que 11.\n",
    "\n",
    "Se olharmos a proporçao da classe de inadimplentes do problema, ela representa 14,8% do conjunto (ou 6661 exemplos). Dos empregos que aparecem mais de uma vez na lista de inadimplentes, a soma das frequências não chega a 900. Isso mostra que, apesar de terem um potencial preditivo interessante, não constituem uma correlação tão forte, pois a maioria dos exemplos de inadimplentes não são previstos pelos top 25% de empregos mais frequentes na lista de inadimplentes.\n",
    "\n",
    "Por causa disto, e da falta de interpretabilidade da variável, por ela estar codificada, ela será removida da análise nesse momento.\n",
    "\n"
   ]
  },
  {
   "cell_type": "markdown",
   "metadata": {},
   "source": [
    "Vamos analisar mais algumas variáveis, visando conhecer suas distribuições estatísticas e valores únicos. Assim, poderemos escolher quais iremos manter, quais remover e quais imputar valores."
   ]
  },
  {
   "cell_type": "markdown",
   "metadata": {},
   "source": [
    "### Análise Exploratória"
   ]
  },
  {
   "cell_type": "markdown",
   "metadata": {},
   "source": [
    "#### Construção de funções para análise:"
   ]
  },
  {
   "cell_type": "markdown",
   "metadata": {},
   "source": [
    "- **Informações das variáveis**"
   ]
  },
  {
   "cell_type": "code",
   "execution_count": 177,
   "metadata": {},
   "outputs": [],
   "source": [
    "def variable_info(variable: str):\n",
    "    isna_proportion = (cred_risk_df.isna().sum() * 100 / cred_risk_df.__len__()).sort_values(ascending = False).round(1)\n",
    "\n",
    "    print(f'Variável {variable}\\n')\n",
    "\n",
    "    print(f'Proporção de valores ausentes: {isna_proportion[variable]}%\\n')\n",
    "    \n",
    "    if cred_risk_df[variable].dtypes == 'O':\n",
    "      \n",
    "      print(f'Sumário Estatístico {variable}:\\n')\n",
    "      print(cred_risk_df[variable].describe())\n",
    "\n",
    "      print(f'\\nValores únicos:',\n",
    "            f'\\n{cred_risk_df[variable].unique()}',\n",
    "            f'\\n\\nQuantidade de valores únicos: {cred_risk_df[variable].nunique()}')\n",
    "                  \n",
    "    else:\n",
    "      \n",
    "      print(f'Sumário Estatístico {variable}:\\n')\n",
    "      print(cred_risk_df[variable].describe().round(1))\n",
    "      \n",
    "      print(f'\\nValores únicos:',\n",
    "            f'\\n{cred_risk_df[variable].unique()}',\n",
    "            f'\\n\\nQuantidade de valores únicos: {cred_risk_df[variable].nunique()}')\n",
    "            \n",
    "      print('\\nTipo da variável: ', cred_risk_df[variable].dtypes)"
   ]
  },
  {
   "cell_type": "markdown",
   "metadata": {},
   "source": [
    "- **Plotar Boxplot**"
   ]
  },
  {
   "cell_type": "code",
   "execution_count": 178,
   "metadata": {},
   "outputs": [],
   "source": [
    "def plot_boxplot(variable: str):\n",
    "    fig, ax = plt.subplots(figsize = (12, 4))\n",
    "    \n",
    "    sns.boxplot(data = cred_risk_df, \n",
    "                x = variable, \n",
    "                ax = ax, \n",
    "                palette = 'Blues', \n",
    "                showmeans = True)\n",
    "\n",
    "    ax.set_title(f'Boxplot {variable}', fontsize = 14)\n",
    "    ax.set_xlabel(f'{variable}', fontsize = 12)\n",
    "\n",
    "    fig.tight_layout()"
   ]
  },
  {
   "cell_type": "markdown",
   "metadata": {},
   "source": [
    "- **Lidar com Outliers com método IQR**"
   ]
  },
  {
   "cell_type": "code",
   "execution_count": 179,
   "metadata": {},
   "outputs": [],
   "source": [
    "def iqr_outlier_removal(variable: str):\n",
    "\n",
    "    percentile_75 = cred_risk_df[variable].quantile(.75)\n",
    "    percentile_25 = cred_risk_df[variable].quantile(.25)\n",
    "\n",
    "    iqr = percentile_75 - percentile_25\n",
    "\n",
    "    iqr_upper = percentile_75 + 3 * iqr\n",
    "    iqr_lower = percentile_25 - 3 * iqr\n",
    "\n",
    "    idx = cred_risk_df.loc[cred_risk_df[variable] > iqr_upper].index\n",
    "    cred_risk_df.drop(idx, axis = 0, inplace = True)\n",
    "\n",
    "    print(f'{len(idx)} outliers removidos.')"
   ]
  },
  {
   "cell_type": "markdown",
   "metadata": {},
   "source": [
    "#### ok_since"
   ]
  },
  {
   "cell_type": "code",
   "execution_count": 180,
   "metadata": {},
   "outputs": [
    {
     "name": "stdout",
     "output_type": "stream",
     "text": [
      "Variável ok_since\n",
      "\n",
      "Proporção de valores ausentes: 59.0%\n",
      "\n",
      "Sumário Estatístico ok_since:\n",
      "\n",
      "count    18455.0\n",
      "mean        35.1\n",
      "std         21.7\n",
      "min          0.0\n",
      "25%         17.0\n",
      "50%         32.0\n",
      "75%         50.0\n",
      "max        141.0\n",
      "Name: ok_since, dtype: float64\n",
      "\n",
      "Valores únicos: \n",
      "[ nan  50.  41.  11.  35.  16.  19.  23.  43.  17.  29.  18.   8.  56.\n",
      "  38.  93.  27.  44.  13.  66.  33.  68.  12.  30.  24.  21.   7.  63.\n",
      "  51.  31.  73.  49.   4.  75.  48.  14.  76.  36.   5.  46.  34.  59.\n",
      "  61.  55.  84.  28.   6.  67.  39.  52.  72.  10.  45.  32.  62.   0.\n",
      "  58.  15.  78.  70.   9.  22.  80.  20.  37.   3.  53.  60.  74.  26.\n",
      "  47.   1.  42.  57.  40.  54.  65.  81.  69.  25.  77.  71.  64.  86.\n",
      "  79.  82.   2.  83.  85. 103. 135.  97. 101.  90. 130. 141. 108.  88.\n",
      "  95. 122.  87.] \n",
      "\n",
      "Quantidade de valores únicos: 100\n",
      "\n",
      "Tipo da variável:  float64\n"
     ]
    }
   ],
   "source": [
    "variable_info('ok_since')"
   ]
  },
  {
   "cell_type": "markdown",
   "metadata": {},
   "source": [
    "Essa variável apresenta muitos valores ausentes. Porém, seu sumário estatístico não apresenta valores discrepantes e possui muitos valores distintos. Vamos mantê-la preenchendo os valores ausentes por sua mediana e testar no modelo.\n",
    "\n",
    "Pode ser convertida para tipo _int_."
   ]
  },
  {
   "cell_type": "code",
   "execution_count": 181,
   "metadata": {},
   "outputs": [
    {
     "data": {
      "image/png": "[encoded data removed]",
      "text/plain": [
       "<Figure size 1200x400 with 1 Axes>"
      ]
     },
     "metadata": {},
     "output_type": "display_data"
    }
   ],
   "source": [
    "plot_boxplot('ok_since')"
   ]
  },
  {
   "cell_type": "markdown",
   "metadata": {},
   "source": [
    "#### last_amount_borrowed"
   ]
  },
  {
   "cell_type": "code",
   "execution_count": 182,
   "metadata": {},
   "outputs": [
    {
     "name": "stdout",
     "output_type": "stream",
     "text": [
      "Variável last_amount_borrowed\n",
      "\n",
      "Proporção de valores ausentes: 66.6%\n",
      "\n",
      "Sumário Estatístico last_amount_borrowed:\n",
      "\n",
      "count    15044.0\n",
      "mean     13782.3\n",
      "std       8077.6\n",
      "min       1005.2\n",
      "25%       7519.5\n",
      "50%      12023.5\n",
      "75%      19220.3\n",
      "max      35059.6\n",
      "Name: last_amount_borrowed, dtype: float64\n",
      "\n",
      "Valores únicos: \n",
      "[25033.92      nan  7207.92 ...  5022.86 14766.42  4226.74] \n",
      "\n",
      "Quantidade de valores únicos: 14325\n",
      "\n",
      "Tipo da variável:  float64\n"
     ]
    }
   ],
   "source": [
    "variable_info('last_amount_borrowed')"
   ]
  },
  {
   "cell_type": "markdown",
   "metadata": {},
   "source": [
    "Apesar da grande proporção de valores ausentes, iremos preencher os valores ausentes por zeros, uma vez que o sumário estatístico é bom e devido a o fato de existir muitos valores distintos. Outro motivo seria porque a variável é relacionada com os valores dos empréstimos realizados pelos clientes. Iremos mantê-la e ver a performance no modelo. "
   ]
  },
  {
   "cell_type": "code",
   "execution_count": 183,
   "metadata": {},
   "outputs": [
    {
     "data": {
      "image/png": "[encoded data removed]",
      "text/plain": [
       "<Figure size 1200x400 with 1 Axes>"
      ]
     },
     "metadata": {},
     "output_type": "display_data"
    }
   ],
   "source": [
    "plot_boxplot('last_amount_borrowed')"
   ]
  },
  {
   "cell_type": "markdown",
   "metadata": {},
   "source": [
    "#### last_borrowed_in_months"
   ]
  },
  {
   "cell_type": "code",
   "execution_count": 184,
   "metadata": {},
   "outputs": [
    {
     "name": "stdout",
     "output_type": "stream",
     "text": [
      "Variável last_borrowed_in_months\n",
      "\n",
      "Proporção de valores ausentes: 66.6%\n",
      "\n",
      "Sumário Estatístico last_borrowed_in_months:\n",
      "\n",
      "count    15044.0\n",
      "mean        41.8\n",
      "std         10.3\n",
      "min         36.0\n",
      "25%         36.0\n",
      "50%         36.0\n",
      "75%         36.0\n",
      "max         60.0\n",
      "Name: last_borrowed_in_months, dtype: float64\n",
      "\n",
      "Valores únicos: \n",
      "[36. nan 60.] \n",
      "\n",
      "Quantidade de valores únicos: 2\n",
      "\n",
      "Tipo da variável:  float64\n"
     ]
    }
   ],
   "source": [
    "variable_info('last_borrowed_in_months')"
   ]
  },
  {
   "cell_type": "markdown",
   "metadata": {},
   "source": [
    "#### credit_limit"
   ]
  },
  {
   "cell_type": "code",
   "execution_count": 185,
   "metadata": {},
   "outputs": [
    {
     "name": "stdout",
     "output_type": "stream",
     "text": [
      "Variável credit_limit\n",
      "\n",
      "Proporção de valores ausentes: 30.7%\n",
      "\n",
      "Sumário Estatístico credit_limit:\n",
      "\n",
      "count     31200.0\n",
      "mean      34382.0\n",
      "std       36587.0\n",
      "min           0.0\n",
      "25%       10000.0\n",
      "50%       25647.0\n",
      "75%       47086.8\n",
      "max      448269.0\n",
      "Name: credit_limit, dtype: float64\n",
      "\n",
      "Valores únicos: \n",
      "[    0. 39726.    nan ... 10431. 36262. 17942.] \n",
      "\n",
      "Quantidade de valores únicos: 20928\n",
      "\n",
      "Tipo da variável:  float64\n"
     ]
    }
   ],
   "source": [
    "variable_info('credit_limit')"
   ]
  },
  {
   "cell_type": "markdown",
   "metadata": {},
   "source": [
    "Essa variável já possui uma menor proporção de valores ausentes, tornando possível imputar os valores a partir das informações do sumário estatístico, especificamente a mediana. Iremos fazer esse tratamento nas etapas posteriores. Outra coisa é o tipo da variável, que pode ser convertido para _int_."
   ]
  },
  {
   "cell_type": "code",
   "execution_count": 186,
   "metadata": {},
   "outputs": [
    {
     "data": {
      "image/png": "[encoded data removed]",
      "text/plain": [
       "<Figure size 1200x400 with 1 Axes>"
      ]
     },
     "metadata": {},
     "output_type": "display_data"
    }
   ],
   "source": [
    "plot_boxplot('credit_limit')"
   ]
  },
  {
   "cell_type": "code",
   "execution_count": 187,
   "metadata": {},
   "outputs": [
    {
     "name": "stdout",
     "output_type": "stream",
     "text": [
      "417 outliers removidos.\n"
     ]
    }
   ],
   "source": [
    "iqr_outlier_removal('credit_limit')"
   ]
  },
  {
   "cell_type": "code",
   "execution_count": 188,
   "metadata": {},
   "outputs": [
    {
     "data": {
      "image/png": "[encoded data removed]",
      "text/plain": [
       "<Figure size 1200x400 with 1 Axes>"
      ]
     },
     "metadata": {},
     "output_type": "display_data"
    }
   ],
   "source": [
    "plot_boxplot('credit_limit')"
   ]
  },
  {
   "cell_type": "markdown",
   "metadata": {},
   "source": [
    "#### n_issues"
   ]
  },
  {
   "cell_type": "code",
   "execution_count": 189,
   "metadata": {},
   "outputs": [
    {
     "name": "stdout",
     "output_type": "stream",
     "text": [
      "Variável n_issues\n",
      "\n",
      "Proporção de valores ausentes: 25.9%\n",
      "\n",
      "Sumário Estatístico n_issues:\n",
      "\n",
      "count    33039.0\n",
      "mean        11.0\n",
      "std          4.5\n",
      "min          0.0\n",
      "25%          8.0\n",
      "50%         10.0\n",
      "75%         14.0\n",
      "max         49.0\n",
      "Name: n_issues, dtype: float64\n",
      "\n",
      "Valores únicos: \n",
      "[18. 14. nan 19.  9.  7.  8. 16.  5. 13. 12. 23.  6. 22. 11. 15. 17. 21.\n",
      "  4. 10.  3. 24. 20. 30. 25.  2. 27. 37. 26.  1. 29. 28. 40. 34. 49. 31.\n",
      " 32. 39. 42. 36. 35.  0. 41. 38.] \n",
      "\n",
      "Quantidade de valores únicos: 43\n",
      "\n",
      "Tipo da variável:  float64\n"
     ]
    }
   ],
   "source": [
    "variable_info('n_issues')"
   ]
  },
  {
   "cell_type": "markdown",
   "metadata": {},
   "source": [
    "Outra variável que iremos preencher os valores ausentes com a mediana, uma vez que a proporção de valores nulos é de 25,7%. Além disso, pode ser convertida para tipo _int_."
   ]
  },
  {
   "cell_type": "markdown",
   "metadata": {},
   "source": [
    "#### external_data_provider_email_seen_before"
   ]
  },
  {
   "cell_type": "code",
   "execution_count": 190,
   "metadata": {},
   "outputs": [
    {
     "name": "stdout",
     "output_type": "stream",
     "text": [
      "Variável external_data_provider_email_seen_before\n",
      "\n",
      "Proporção de valores ausentes: 5.0%\n",
      "\n",
      "Sumário Estatístico external_data_provider_email_seen_before:\n",
      "\n",
      "count    42371.0\n",
      "mean        12.5\n",
      "std        126.8\n",
      "min       -999.0\n",
      "25%         11.0\n",
      "50%         27.0\n",
      "75%         43.0\n",
      "max         59.0\n",
      "Name: external_data_provider_email_seen_before, dtype: float64\n",
      "\n",
      "Valores únicos: \n",
      "[  51.   17.    9.   38.   46.   21.   16.   37.    6.   nan   10.   29.\n",
      "   59.   20.   54.   13.   52.    4.   31.   40.   -1. -999.   26.   48.\n",
      "   50.    5.    3.   39.   11.    0.   58.   55.    2.    1.   53.   15.\n",
      "   23.   24.   44.   14.   25.   34.   35.   12.   27.   49.    7.   36.\n",
      "   47.   57.    8.   18.   43.   30.   42.   28.   41.   56.   32.   33.\n",
      "   22.   19.   45.] \n",
      "\n",
      "Quantidade de valores únicos: 62\n",
      "\n",
      "Tipo da variável:  float64\n"
     ]
    }
   ],
   "source": [
    "variable_info('external_data_provider_email_seen_before')"
   ]
  },
  {
   "cell_type": "markdown",
   "metadata": {},
   "source": [
    "Essa variável apresenta dois valores discrepantes de -999 e -1. Esses valores não correspondem à realidade que a variável quer transmitir e, por isso, serão substituídos por zero."
   ]
  },
  {
   "cell_type": "code",
   "execution_count": 191,
   "metadata": {},
   "outputs": [
    {
     "name": "stdout",
     "output_type": "stream",
     "text": [
      "Valores Negativos substituídos com sucesso!\n",
      "\n",
      "Sumário estatístico da variável:\n",
      "count    42371.0\n",
      "mean        27.6\n",
      "std         18.1\n",
      "min          0.0\n",
      "25%         11.0\n",
      "50%         27.0\n",
      "75%         43.0\n",
      "max         59.0\n",
      "Name: external_data_provider_email_seen_before, dtype: float64\n"
     ]
    }
   ],
   "source": [
    "# Identificar as entradas com valores estranhos\n",
    "idx = cred_risk_df.loc[cred_risk_df['external_data_provider_email_seen_before'] == -999.].index\n",
    "idx2 = cred_risk_df.loc[cred_risk_df['external_data_provider_email_seen_before'] == -1.].index\n",
    "# Contar o número de entradas e somar numa variável\n",
    "entries_1 = cred_risk_df.loc[cred_risk_df['external_data_provider_email_seen_before'] == -999.].shape[0]\n",
    "entries_2 = cred_risk_df.loc[cred_risk_df['external_data_provider_email_seen_before'] == -1.].shape[0]\n",
    "num_entries = entries_1 + entries_2\n",
    "\n",
    "# Substituindo valores negativos por zero\n",
    "if num_entries != 0:\n",
    "    cred_risk_df['external_data_provider_email_seen_before'].replace({-1.: 0, -999.: 0}, inplace = True)\n",
    "\n",
    "print('Valores Negativos substituídos com sucesso!\\n')\n",
    "\n",
    "print('Sumário estatístico da variável:')\n",
    "print(cred_risk_df['external_data_provider_email_seen_before'].describe().round(1))"
   ]
  },
  {
   "cell_type": "markdown",
   "metadata": {},
   "source": [
    "Agora temos um sumário estatístico correto. Iremos preencher os valores ausentes que restaram pelo valor da mediana, uma vez que eles correspondem a 5% das entradas do conjunto nessa variável."
   ]
  },
  {
   "cell_type": "markdown",
   "metadata": {},
   "source": [
    "#### n_bankruptcies"
   ]
  },
  {
   "cell_type": "code",
   "execution_count": 192,
   "metadata": {},
   "outputs": [
    {
     "name": "stdout",
     "output_type": "stream",
     "text": [
      "Variável n_bankruptcies\n",
      "\n",
      "Proporção de valores ausentes: 1.6%\n",
      "\n",
      "Sumário Estatístico n_bankruptcies:\n",
      "\n",
      "count    43886.0\n",
      "mean         0.1\n",
      "std          0.3\n",
      "min          0.0\n",
      "25%          0.0\n",
      "50%          0.0\n",
      "75%          0.0\n",
      "max          5.0\n",
      "Name: n_bankruptcies, dtype: float64\n",
      "\n",
      "Valores únicos: \n",
      "[ 0.  1. nan  2.  3.  4.  5.] \n",
      "\n",
      "Quantidade de valores únicos: 6\n",
      "\n",
      "Tipo da variável:  float64\n"
     ]
    }
   ],
   "source": [
    "variable_info('n_bankruptcies')"
   ]
  },
  {
   "cell_type": "markdown",
   "metadata": {},
   "source": [
    "No caso dessa variável, iremos substituir os valores ausentes (que correspondem a 1,5 % das entradas) por zero. Além disso, ela pode ser convertida para o tipo _int_."
   ]
  },
  {
   "cell_type": "markdown",
   "metadata": {},
   "source": [
    "#### marketing_channel"
   ]
  },
  {
   "cell_type": "code",
   "execution_count": 193,
   "metadata": {},
   "outputs": [
    {
     "name": "stdout",
     "output_type": "stream",
     "text": [
      "Variável marketing_channel\n",
      "\n",
      "Proporção de valores ausentes: 8.0%\n",
      "\n",
      "Sumário Estatístico marketing_channel:\n",
      "\n",
      "count       41036\n",
      "unique          9\n",
      "top       Website\n",
      "freq        10832\n",
      "Name: marketing_channel, dtype: object\n",
      "\n",
      "Valores únicos: \n",
      "['Invite-email' 'Radio-commercial' 'Waiting-list' 'Website' 'Twitter'\n",
      " 'Facebook' nan 'Instagram' 'Invite-web' 'LinkedIn'] \n",
      "\n",
      "Quantidade de valores únicos: 9\n"
     ]
    }
   ],
   "source": [
    "variable_info('marketing_channel')"
   ]
  },
  {
   "cell_type": "markdown",
   "metadata": {},
   "source": [
    "Variáveis para imputar valores:\n",
    "\n",
    "* external_data_provider_email_seen_before: mediana\n",
    "* credit_limit: mediana\n",
    "* n_issues: mediana\n",
    "* marketing_channel: moda"
   ]
  },
  {
   "cell_type": "markdown",
   "metadata": {},
   "source": [
    "#### n_defaulted_loans"
   ]
  },
  {
   "cell_type": "code",
   "execution_count": 195,
   "metadata": {},
   "outputs": [
    {
     "name": "stdout",
     "output_type": "stream",
     "text": [
      "Variável n_defaulted_loans\n",
      "\n",
      "Proporção de valores ausentes: 1.3%\n",
      "\n",
      "Sumário Estatístico n_defaulted_loans:\n",
      "\n",
      "count    44009.0\n",
      "mean         0.0\n",
      "std          0.1\n",
      "min          0.0\n",
      "25%          0.0\n",
      "50%          0.0\n",
      "75%          0.0\n",
      "max          5.0\n",
      "Name: n_defaulted_loans, dtype: float64\n",
      "\n",
      "Valores únicos: \n",
      "[ 0.  1. nan  2.  3.  5.] \n",
      "\n",
      "Quantidade de valores únicos: 5\n",
      "\n",
      "Tipo da variável:  float64\n"
     ]
    }
   ],
   "source": [
    "variable_info('n_defaulted_loans')"
   ]
  },
  {
   "cell_type": "markdown",
   "metadata": {},
   "source": [
    "#### n_accounts"
   ]
  },
  {
   "cell_type": "code",
   "execution_count": 196,
   "metadata": {},
   "outputs": [
    {
     "name": "stdout",
     "output_type": "stream",
     "text": [
      "Variável n_accounts\n",
      "\n",
      "Proporção de valores ausentes: 1.3%\n",
      "\n",
      "Sumário Estatístico n_accounts:\n",
      "\n",
      "count    44021.0\n",
      "mean        10.6\n",
      "std          4.5\n",
      "min          0.0\n",
      "25%          7.0\n",
      "50%         10.0\n",
      "75%         13.0\n",
      "max         49.0\n",
      "Name: n_accounts, dtype: float64\n",
      "\n",
      "Valores únicos: \n",
      "[18. 14. 10. 19. 11.  9.  8.  7. 16.  6.  5. 13.  4. 12. 23. 22. 15. 17.\n",
      " 21. 20.  3. nan 24. 28.  2. 30. 25. 27. 37. 26.  1. 29. 33. 35. 34. 40.\n",
      " 49. 31. 32. 39. 42. 36.  0. 41. 38.] \n",
      "\n",
      "Quantidade de valores únicos: 44\n",
      "\n",
      "Tipo da variável:  float64\n"
     ]
    }
   ],
   "source": [
    "variable_info('n_accounts')"
   ]
  },
  {
   "cell_type": "code",
   "execution_count": 197,
   "metadata": {},
   "outputs": [
    {
     "data": {
      "image/png": "[encoded data removed]",
      "text/plain": [
       "<Figure size 1200x400 with 1 Axes>"
      ]
     },
     "metadata": {},
     "output_type": "display_data"
    }
   ],
   "source": [
    "plot_boxplot('n_accounts')"
   ]
  },
  {
   "cell_type": "markdown",
   "metadata": {},
   "source": [
    "#### risk_rate"
   ]
  },
  {
   "cell_type": "code",
   "execution_count": 198,
   "metadata": {},
   "outputs": [
    {
     "name": "stdout",
     "output_type": "stream",
     "text": [
      "Variável risk_rate\n",
      "\n",
      "Proporção de valores ausentes: 1.3%\n",
      "\n",
      "Sumário Estatístico risk_rate:\n",
      "\n",
      "count    44021.0\n",
      "mean         0.3\n",
      "std          0.1\n",
      "min          0.0\n",
      "25%          0.2\n",
      "50%          0.3\n",
      "75%          0.4\n",
      "max          0.9\n",
      "Name: risk_rate, dtype: float64\n",
      "\n",
      "Valores únicos: \n",
      "[0.4  0.24 0.29 0.32 0.18 0.44 0.43 0.33 0.36 0.22 0.12 0.27 0.38 0.25\n",
      " 0.13 0.15 0.19 0.23 0.28 0.42 0.34 0.21 0.35 0.41 0.26 0.49 0.31 0.3\n",
      " 0.51 0.08 0.17 0.2  0.09 0.45 0.46 0.37 0.16 0.39 0.11 0.54  nan 0.48\n",
      " 0.04 0.59 0.07 0.53 0.5  0.58 0.47 0.1  0.14 0.05 0.52 0.72 0.55 0.56\n",
      " 0.06 0.57 0.61 0.7  0.6  0.62 0.65 0.63 0.8  0.78 0.77 0.66 0.03 0.64\n",
      " 0.73 0.75 0.67 0.68 0.69 0.74 0.   0.71 0.9  0.84 0.76 0.02 0.81] \n",
      "\n",
      "Quantidade de valores únicos: 82\n",
      "\n",
      "Tipo da variável:  float64\n"
     ]
    }
   ],
   "source": [
    "variable_info('risk_rate')"
   ]
  },
  {
   "cell_type": "markdown",
   "metadata": {},
   "source": [
    "#### income"
   ]
  },
  {
   "cell_type": "code",
   "execution_count": 199,
   "metadata": {},
   "outputs": [
    {
     "name": "stdout",
     "output_type": "stream",
     "text": [
      "Variável income\n",
      "\n",
      "Proporção de valores ausentes: 1.3%\n",
      "\n",
      "Sumário Estatístico income:\n",
      "\n",
      "count      44021.0\n",
      "mean       70946.6\n",
      "std        50171.5\n",
      "min         4821.2\n",
      "25%        44864.1\n",
      "50%        61010.3\n",
      "75%        85033.2\n",
      "max      5000027.8\n",
      "Name: income, dtype: float64\n",
      "\n",
      "Valores únicos: \n",
      "[ 65014.12 100018.91  65023.65 ... 106020.9  185018.07  34013.65] \n",
      "\n",
      "Quantidade de valores únicos: 40831\n",
      "\n",
      "Tipo da variável:  float64\n"
     ]
    }
   ],
   "source": [
    "variable_info('income')"
   ]
  },
  {
   "cell_type": "code",
   "execution_count": 200,
   "metadata": {},
   "outputs": [
    {
     "data": {
      "image/png": "[encoded data removed]",
      "text/plain": [
       "<Figure size 1200x400 with 1 Axes>"
      ]
     },
     "metadata": {},
     "output_type": "display_data"
    }
   ],
   "source": [
    "plot_boxplot('income')"
   ]
  },
  {
   "cell_type": "code",
   "execution_count": 201,
   "metadata": {},
   "outputs": [
    {
     "name": "stdout",
     "output_type": "stream",
     "text": [
      "546 outliers removidos.\n"
     ]
    }
   ],
   "source": [
    "iqr_outlier_removal('income')"
   ]
  },
  {
   "cell_type": "code",
   "execution_count": 202,
   "metadata": {},
   "outputs": [
    {
     "data": {
      "image/png": "[encoded data removed]",
      "text/plain": [
       "<Figure size 1200x400 with 1 Axes>"
      ]
     },
     "metadata": {},
     "output_type": "display_data"
    }
   ],
   "source": [
    "plot_boxplot('income')"
   ]
  },
  {
   "cell_type": "markdown",
   "metadata": {},
   "source": [
    "#### reported_income"
   ]
  },
  {
   "cell_type": "code",
   "execution_count": 203,
   "metadata": {},
   "outputs": [
    {
     "name": "stdout",
     "output_type": "stream",
     "text": [
      "Variável reported_income\n",
      "\n",
      "Proporção de valores ausentes: 0.0%\n",
      "\n",
      "Sumário Estatístico reported_income:\n",
      "\n",
      "count     44037.0\n",
      "mean          inf\n",
      "std           NaN\n",
      "min         403.0\n",
      "25%       51100.0\n",
      "50%      102010.0\n",
      "75%      151384.0\n",
      "max           inf\n",
      "Name: reported_income, dtype: float64\n",
      "\n",
      "Valores únicos: \n",
      "[ 57849.   4902. 163679. ...  73417.  26246. 112766.] \n",
      "\n",
      "Quantidade de valores únicos: 39243\n",
      "\n",
      "Tipo da variável:  float64\n"
     ]
    }
   ],
   "source": [
    "variable_info('reported_income')"
   ]
  },
  {
   "cell_type": "code",
   "execution_count": null,
   "metadata": {},
   "outputs": [],
   "source": []
  },
  {
   "cell_type": "markdown",
   "metadata": {},
   "source": [
    "#### Critérios para remoção de variáveis:\n",
    "\n",
    "* Baixo poder preditivo (e.g `facebook_profile`, `profile_phone_number`);\n",
    "* Baixa interpretabilidade devido a codificação (`state`, `job_name`);\n",
    "* Dificíl formatação dos dados que dificulta a interpretação (e.g `user_agent`, `profile_tags`);\n",
    "* Possuir apenas um valor único (e.g `channel`).\n"
   ]
  },
  {
   "cell_type": "code",
   "execution_count": null,
   "metadata": {},
   "outputs": [],
   "source": [
    "df_clean = cred_risk_df.copy()\n",
    "\n",
    "cols_to_drop = ['target_fraud', 'external_data_provider_fraud_score',\n",
    "                'ids', 'email', 'external_data_provider_first_name',\n",
    "                'profile_phone_number', 'profile_tags', 'facebook_profile',\n",
    "                'user_agent', 'state', 'zip', 'job_name', 'channel',\n",
    "                'application_time_applied', \n",
    "                'external_data_provider_credit_checks_last_year',\n",
    "                'external_data_provider_credit_checks_last_2_year']\n",
    "\n",
    "for col in cols_to_drop:\n",
    "    if col in df_clean.columns.tolist():\n",
    "        \n",
    "        df_clean.drop(col, axis = 1, inplace = True)\n",
    "\n",
    "print('Nova Dimensão do Conjunto')\n",
    "print(f'\\nEntradas: {df_clean.shape[0]}',\n",
    "      f'\\nVariáveis: {df_clean.shape[1]}')"
   ]
  },
  {
   "cell_type": "code",
   "execution_count": null,
   "metadata": {},
   "outputs": [],
   "source": [
    "cred_risk_df['n_issues']"
   ]
  }
 ],
 "metadata": {
  "kernelspec": {
   "display_name": ".venv",
   "language": "python",
   "name": "python3"
  },
  "language_info": {
   "codemirror_mode": {
    "name": "ipython",
    "version": 3
   },
   "file_extension": ".py",
   "mimetype": "text/x-python",
   "name": "python",
   "nbconvert_exporter": "python",
   "pygments_lexer": "ipython3",
   "version": "3.10.9"
  }
 },
 "nbformat": 4,
 "nbformat_minor": 2
}

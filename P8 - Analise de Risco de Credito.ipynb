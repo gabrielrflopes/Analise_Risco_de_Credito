{
 "cells": [
  {
   "cell_type": "markdown",
   "metadata": {},
   "source": [
    "# Projeto - Análise de Risco de Crédito"
   ]
  },
  {
   "cell_type": "markdown",
   "metadata": {},
   "source": [
    "A análise de risco de crédito é um componente essencial para instituições financeiras e credores, ajudando a determinar a capacidade de um cliente em cumprir suas obrigações financeiras. Tradicionalmente, essa análise era realizada por meio de métodos estatísticos convencionais e avaliações manuais, que, apesar de eficientes, possuem limitações em termos de precisão, escalabilidade e capacidade de adaptação a novos padrões de comportamento."
   ]
  },
  {
   "cell_type": "code",
   "execution_count": 61,
   "metadata": {},
   "outputs": [],
   "source": [
    "# Bibliotecas de análise de dados e visualização\n",
    "import pandas as pd\n",
    "import numpy as np\n",
    "import matplotlib.pyplot as plt\n",
    "import seaborn as sns\n",
    "import warnings\n",
    "warnings.filterwarnings('ignore')"
   ]
  },
  {
   "cell_type": "code",
   "execution_count": 62,
   "metadata": {},
   "outputs": [],
   "source": [
    "# Bibliotecas de pré-processamento de dados\n",
    "from sklearn.preprocessing import LabelEncoder\n",
    "from sklearn.impute import SimpleImputer"
   ]
  },
  {
   "cell_type": "markdown",
   "metadata": {},
   "source": [
    "### Carregando os dados"
   ]
  },
  {
   "cell_type": "code",
   "execution_count": 63,
   "metadata": {},
   "outputs": [
    {
     "data": {
      "text/html": [
       "<div>\n",
       "<style scoped>\n",
       "    .dataframe tbody tr th:only-of-type {\n",
       "        vertical-align: middle;\n",
       "    }\n",
       "\n",
       "    .dataframe tbody tr th {\n",
       "        vertical-align: top;\n",
       "    }\n",
       "\n",
       "    .dataframe thead th {\n",
       "        text-align: right;\n",
       "    }\n",
       "</style>\n",
       "<table border=\"1\" class=\"dataframe\">\n",
       "  <thead>\n",
       "    <tr style=\"text-align: right;\">\n",
       "      <th></th>\n",
       "      <th>ids</th>\n",
       "      <th>target_default</th>\n",
       "      <th>score_1</th>\n",
       "      <th>score_2</th>\n",
       "      <th>score_3</th>\n",
       "      <th>score_4</th>\n",
       "      <th>score_5</th>\n",
       "      <th>score_6</th>\n",
       "      <th>risk_rate</th>\n",
       "      <th>last_amount_borrowed</th>\n",
       "      <th>...</th>\n",
       "      <th>external_data_provider_fraud_score</th>\n",
       "      <th>lat_lon</th>\n",
       "      <th>marketing_channel</th>\n",
       "      <th>profile_phone_number</th>\n",
       "      <th>reported_income</th>\n",
       "      <th>shipping_state</th>\n",
       "      <th>shipping_zip_code</th>\n",
       "      <th>profile_tags</th>\n",
       "      <th>user_agent</th>\n",
       "      <th>target_fraud</th>\n",
       "    </tr>\n",
       "  </thead>\n",
       "  <tbody>\n",
       "    <tr>\n",
       "      <th>0</th>\n",
       "      <td>343b7e7b-2cf8-e508-b8fd-0a0285af30aa</td>\n",
       "      <td>False</td>\n",
       "      <td>1Rk8w4Ucd5yR3KcqZzLdow==</td>\n",
       "      <td>IOVu8au3ISbo6+zmfnYwMg==</td>\n",
       "      <td>350.0</td>\n",
       "      <td>101.800832</td>\n",
       "      <td>0.259555</td>\n",
       "      <td>108.427273</td>\n",
       "      <td>0.40</td>\n",
       "      <td>25033.92</td>\n",
       "      <td>...</td>\n",
       "      <td>645</td>\n",
       "      <td>(-29.151545708122246, -51.1386461804385)</td>\n",
       "      <td>Invite-email</td>\n",
       "      <td>514-9840782</td>\n",
       "      <td>57849.0</td>\n",
       "      <td>BR-MT</td>\n",
       "      <td>17528</td>\n",
       "      <td>{'tags': ['n19', 'n8']}</td>\n",
       "      <td>Mozilla/5.0 (Linux; Android 6.0.1; SGP771 Buil...</td>\n",
       "      <td>NaN</td>\n",
       "    </tr>\n",
       "    <tr>\n",
       "      <th>1</th>\n",
       "      <td>bc2c7502-bbad-0f8c-39c3-94e881967124</td>\n",
       "      <td>False</td>\n",
       "      <td>DGCQep2AE5QRkNCshIAlFQ==</td>\n",
       "      <td>SaamrHMo23l/3TwXOWgVzw==</td>\n",
       "      <td>370.0</td>\n",
       "      <td>97.062615</td>\n",
       "      <td>0.942655</td>\n",
       "      <td>92.002546</td>\n",
       "      <td>0.24</td>\n",
       "      <td>NaN</td>\n",
       "      <td>...</td>\n",
       "      <td>243</td>\n",
       "      <td>(-19.687710705798963, -47.94151536525154)</td>\n",
       "      <td>Radio-commercial</td>\n",
       "      <td>251-3659293</td>\n",
       "      <td>4902.0</td>\n",
       "      <td>BR-RS</td>\n",
       "      <td>40933</td>\n",
       "      <td>{'tags': ['n6', 'n7', 'nim']}</td>\n",
       "      <td>Mozilla/5.0 (Linux; Android 5.0.2; SAMSUNG SM-...</td>\n",
       "      <td>NaN</td>\n",
       "    </tr>\n",
       "    <tr>\n",
       "      <th>2</th>\n",
       "      <td>669630dd-2e6a-0396-84bf-455e5009c922</td>\n",
       "      <td>True</td>\n",
       "      <td>DGCQep2AE5QRkNCshIAlFQ==</td>\n",
       "      <td>Fv28Bz0YRTVAT5kl1bAV6g==</td>\n",
       "      <td>360.0</td>\n",
       "      <td>100.027073</td>\n",
       "      <td>0.351918</td>\n",
       "      <td>112.892453</td>\n",
       "      <td>0.29</td>\n",
       "      <td>7207.92</td>\n",
       "      <td>...</td>\n",
       "      <td>65</td>\n",
       "      <td>(-28.748023890412284, -51.867279334353995)</td>\n",
       "      <td>Waiting-list</td>\n",
       "      <td>230-6097993</td>\n",
       "      <td>163679.0</td>\n",
       "      <td>BR-RR</td>\n",
       "      <td>50985</td>\n",
       "      <td>{'tags': ['n0', 'n17', 'nim', 'da']}</td>\n",
       "      <td>Mozilla/5.0 (Linux; Android 6.0.1; SGP771 Buil...</td>\n",
       "      <td>NaN</td>\n",
       "    </tr>\n",
       "    <tr>\n",
       "      <th>3</th>\n",
       "      <td>d235609e-b6cb-0ccc-a329-d4f12e7ebdc1</td>\n",
       "      <td>False</td>\n",
       "      <td>1Rk8w4Ucd5yR3KcqZzLdow==</td>\n",
       "      <td>dCm9hFKfdRm7ej3jW+gyxw==</td>\n",
       "      <td>510.0</td>\n",
       "      <td>101.599485</td>\n",
       "      <td>0.987673</td>\n",
       "      <td>94.902491</td>\n",
       "      <td>0.32</td>\n",
       "      <td>NaN</td>\n",
       "      <td>...</td>\n",
       "      <td>815</td>\n",
       "      <td>(-17.520650158450454, -39.75801139933186)</td>\n",
       "      <td>Waiting-list</td>\n",
       "      <td>261-3543751</td>\n",
       "      <td>1086.0</td>\n",
       "      <td>BR-RN</td>\n",
       "      <td>37825</td>\n",
       "      <td>{'tags': ['n4']}</td>\n",
       "      <td>Mozilla/5.0 (Linux; Android 6.0; HTC One X10 B...</td>\n",
       "      <td>NaN</td>\n",
       "    </tr>\n",
       "    <tr>\n",
       "      <th>4</th>\n",
       "      <td>9e0eb880-e8f4-3faa-67d8-f5cdd2b3932b</td>\n",
       "      <td>False</td>\n",
       "      <td>8k8UDR4Yx0qasAjkGrUZLw==</td>\n",
       "      <td>+CxEO4w7jv3QPI/BQbyqAA==</td>\n",
       "      <td>500.0</td>\n",
       "      <td>98.474289</td>\n",
       "      <td>0.532539</td>\n",
       "      <td>118.126207</td>\n",
       "      <td>0.18</td>\n",
       "      <td>NaN</td>\n",
       "      <td>...</td>\n",
       "      <td>320</td>\n",
       "      <td>(-16.574259446978008, -39.90990074785962)</td>\n",
       "      <td>Invite-email</td>\n",
       "      <td>102-3660162</td>\n",
       "      <td>198618.0</td>\n",
       "      <td>BR-MT</td>\n",
       "      <td>52827</td>\n",
       "      <td>{'tags': ['pro+aty', 'n19', 'da', 'b19']}</td>\n",
       "      <td>Mozilla/5.0 (Linux; Android 7.0; Pixel C Build...</td>\n",
       "      <td>NaN</td>\n",
       "    </tr>\n",
       "  </tbody>\n",
       "</table>\n",
       "<p>5 rows × 43 columns</p>\n",
       "</div>"
      ],
      "text/plain": [
       "                                    ids target_default  \\\n",
       "0  343b7e7b-2cf8-e508-b8fd-0a0285af30aa          False   \n",
       "1  bc2c7502-bbad-0f8c-39c3-94e881967124          False   \n",
       "2  669630dd-2e6a-0396-84bf-455e5009c922           True   \n",
       "3  d235609e-b6cb-0ccc-a329-d4f12e7ebdc1          False   \n",
       "4  9e0eb880-e8f4-3faa-67d8-f5cdd2b3932b          False   \n",
       "\n",
       "                    score_1                   score_2  score_3     score_4  \\\n",
       "0  1Rk8w4Ucd5yR3KcqZzLdow==  IOVu8au3ISbo6+zmfnYwMg==    350.0  101.800832   \n",
       "1  DGCQep2AE5QRkNCshIAlFQ==  SaamrHMo23l/3TwXOWgVzw==    370.0   97.062615   \n",
       "2  DGCQep2AE5QRkNCshIAlFQ==  Fv28Bz0YRTVAT5kl1bAV6g==    360.0  100.027073   \n",
       "3  1Rk8w4Ucd5yR3KcqZzLdow==  dCm9hFKfdRm7ej3jW+gyxw==    510.0  101.599485   \n",
       "4  8k8UDR4Yx0qasAjkGrUZLw==  +CxEO4w7jv3QPI/BQbyqAA==    500.0   98.474289   \n",
       "\n",
       "    score_5     score_6  risk_rate  last_amount_borrowed  ...  \\\n",
       "0  0.259555  108.427273       0.40              25033.92  ...   \n",
       "1  0.942655   92.002546       0.24                   NaN  ...   \n",
       "2  0.351918  112.892453       0.29               7207.92  ...   \n",
       "3  0.987673   94.902491       0.32                   NaN  ...   \n",
       "4  0.532539  118.126207       0.18                   NaN  ...   \n",
       "\n",
       "   external_data_provider_fraud_score  \\\n",
       "0                                 645   \n",
       "1                                 243   \n",
       "2                                  65   \n",
       "3                                 815   \n",
       "4                                 320   \n",
       "\n",
       "                                      lat_lon marketing_channel  \\\n",
       "0    (-29.151545708122246, -51.1386461804385)      Invite-email   \n",
       "1   (-19.687710705798963, -47.94151536525154)  Radio-commercial   \n",
       "2  (-28.748023890412284, -51.867279334353995)      Waiting-list   \n",
       "3   (-17.520650158450454, -39.75801139933186)      Waiting-list   \n",
       "4   (-16.574259446978008, -39.90990074785962)      Invite-email   \n",
       "\n",
       "   profile_phone_number reported_income shipping_state shipping_zip_code  \\\n",
       "0           514-9840782         57849.0          BR-MT             17528   \n",
       "1           251-3659293          4902.0          BR-RS             40933   \n",
       "2           230-6097993        163679.0          BR-RR             50985   \n",
       "3           261-3543751          1086.0          BR-RN             37825   \n",
       "4           102-3660162        198618.0          BR-MT             52827   \n",
       "\n",
       "                                profile_tags  \\\n",
       "0                    {'tags': ['n19', 'n8']}   \n",
       "1              {'tags': ['n6', 'n7', 'nim']}   \n",
       "2       {'tags': ['n0', 'n17', 'nim', 'da']}   \n",
       "3                           {'tags': ['n4']}   \n",
       "4  {'tags': ['pro+aty', 'n19', 'da', 'b19']}   \n",
       "\n",
       "                                          user_agent target_fraud  \n",
       "0  Mozilla/5.0 (Linux; Android 6.0.1; SGP771 Buil...          NaN  \n",
       "1  Mozilla/5.0 (Linux; Android 5.0.2; SAMSUNG SM-...          NaN  \n",
       "2  Mozilla/5.0 (Linux; Android 6.0.1; SGP771 Buil...          NaN  \n",
       "3  Mozilla/5.0 (Linux; Android 6.0; HTC One X10 B...          NaN  \n",
       "4  Mozilla/5.0 (Linux; Android 7.0; Pixel C Build...          NaN  \n",
       "\n",
       "[5 rows x 43 columns]"
      ]
     },
     "execution_count": 63,
     "metadata": {},
     "output_type": "execute_result"
    }
   ],
   "source": [
    "data_path = r\"C:\\Users\\gabri\\OneDrive\\Documentos\\Projetos Data Science\\DSNP 3.0\\Datasets\\acquisition_train.csv\"\n",
    "\n",
    "cred_risk_df = pd.read_csv(data_path)\n",
    "\n",
    "cred_risk_df.head()"
   ]
  },
  {
   "cell_type": "code",
   "execution_count": 64,
   "metadata": {},
   "outputs": [
    {
     "name": "stdout",
     "output_type": "stream",
     "text": [
      "Dimensões do conjunto\n",
      " \n",
      "Entradas: 45000 \n",
      "Variáveis: 43\n",
      "\n",
      "Nomes das colunas:\n"
     ]
    },
    {
     "data": {
      "text/plain": [
       "Index(['ids', 'target_default', 'score_1', 'score_2', 'score_3', 'score_4',\n",
       "       'score_5', 'score_6', 'risk_rate', 'last_amount_borrowed',\n",
       "       'last_borrowed_in_months', 'credit_limit', 'reason', 'income',\n",
       "       'facebook_profile', 'state', 'zip', 'channel', 'job_name', 'real_state',\n",
       "       'ok_since', 'n_bankruptcies', 'n_defaulted_loans', 'n_accounts',\n",
       "       'n_issues', 'application_time_applied', 'application_time_in_funnel',\n",
       "       'email', 'external_data_provider_credit_checks_last_2_year',\n",
       "       'external_data_provider_credit_checks_last_month',\n",
       "       'external_data_provider_credit_checks_last_year',\n",
       "       'external_data_provider_email_seen_before',\n",
       "       'external_data_provider_first_name',\n",
       "       'external_data_provider_fraud_score', 'lat_lon', 'marketing_channel',\n",
       "       'profile_phone_number', 'reported_income', 'shipping_state',\n",
       "       'shipping_zip_code', 'profile_tags', 'user_agent', 'target_fraud'],\n",
       "      dtype='object')"
      ]
     },
     "execution_count": 64,
     "metadata": {},
     "output_type": "execute_result"
    }
   ],
   "source": [
    "print('Dimensões do conjunto\\n',\n",
    "      f'\\nEntradas: {cred_risk_df.shape[0]}',\n",
    "      f'\\nVariáveis: {cred_risk_df.shape[1]}')\n",
    "\n",
    "print('\\nNomes das colunas:')\n",
    "cred_risk_df.columns"
   ]
  },
  {
   "cell_type": "markdown",
   "metadata": {},
   "source": [
    "### Dicionário de Variáveis"
   ]
  },
  {
   "cell_type": "markdown",
   "metadata": {},
   "source": [
    "Observando os nomes de colunas e as primeiras entradas, podemos inferir algumas coisas. Além disso, se analisarmos cada variável em seus valores únicos, podemos deduzir o signficado, além de já identificar problemas nos dados:\n",
    "\n",
    "- `ids`: Identificadores dos clientes, aparentemente são _strings_ aleatórias que não serão úteis para a análise;\n",
    "- `score_1, score_2`: Variáveis de pontuação codificadas;\n",
    "- `score_3, score_4, score_5, score_6`: Variáveis numéricas que dizem respeito a pontuação do cliente. Pode ser útil para identificar inadimplentes;\n",
    "- `risk_rate`: Taxa de risco (de inadimplência?) do cliente (valores entre 0 e 1);\n",
    "- `last_amount_borrowed`: Registro do valor do último empréstimo do cliente;\n",
    "- `last_borrowed_in_months`: Número de meses desde o último empréstimo (36., nan, 60.);\n",
    "- `credit_limit`: Limite de crédito para determinado cliente;\n",
    "- `income`: Renda anual do cliente;\n",
    "- `state, zip, channel, job_name, real_state`: Dados demográficos e informações sobre trabalho dos clientes (codificadas);\n",
    "- `n_bankruptcies`: Número de falências registradas do cliente ( 0.,  1., nan,  2.,  3.,  4.,  5.);\n",
    "- `n_defaulted_loans`: Número de calotes nos empréstimos (0., 1., nan, 2., 3., 5.);\n",
    "- `n_accounts`: Número de contas (valor inteiro);\n",
    "- `n_issues`: Número de problemas (valor inteiro);\n",
    "- `application_time_applied`: Tempo de aplicação (Em horas. Não está claro a que se refere);\n",
    "- `email`: Provedor de e-mail (outlook, gmail, etc);\n",
    "- `external_data_provider_credit_checks_last_2_year`: Coluna com 0 ou nan. Checagem de crédito nos últimos dois anos;\n",
    "- `external_data_provider_credit_checks_last_year`, `external_data_provider_credit_checks_last_month`: Checagem de crédito no último ano (0., nan, 1.) e último mês (2, 1, 3, 0);\n",
    "- `external_data_provider_email_seen_before`: E-mail visto antes (possui valores nan e discrepantes, como -999)\n",
    "- `external_data_provider_first_name`: Primeiro nome do cliente;\n",
    "- `external_data_provider_fraud_score`: Pontuação de fraude (não faz parte do escopo da nossa análise);\n",
    "- `lat_lon`: Tupla de valores de latitude e longitude;\n",
    "- `marketing_channel`: Canal de marketing (convite e-mail, radio, lista de espera, website, etc);\n",
    "- `profile_phone_number`: Número de telefone do cliente;\n",
    "- `reported_income`: Renda informada pelo cliente (float, mas poderia ser int);\n",
    "- `shipping_state`, `shipping_zip_code`: Estado de residência do cliente (BR-MG, BR-SP, etc) e CEP (int);\n",
    "- `profile_tags`: Lista com dicionários contendo o que parece ser tags de identificação dos clientes (\"{'tags': ['n19', 'n8']}\", \"{'tags': ['n6', 'n7', 'nim']}\"). PS: Dicionários formatados como string.\n",
    "- `user_agent`: Informações sobre pontos de acesso;\n",
    "- `target_fraud`: Variável que classifica uma transação fraudulenta ou não (fora do escopo do projeto);\n",
    "- `target_default (Alvo)`: Variável que classifica um cliente inadimplente ou não (False, True, nan)."
   ]
  },
  {
   "cell_type": "markdown",
   "metadata": {},
   "source": [
    "### Análise da variável-alvo"
   ]
  },
  {
   "cell_type": "markdown",
   "metadata": {},
   "source": [
    "Como visto, a variável `target_default` é o nosso alvo, contendo informações dos clientes regulares e inadimplentes. Vamos verificar algumas informações sobre ela, como valores únicos e proporções das classes."
   ]
  },
  {
   "cell_type": "code",
   "execution_count": 146,
   "metadata": {},
   "outputs": [
    {
     "name": "stdout",
     "output_type": "stream",
     "text": [
      "Valores na variável-alvo: [False True nan]\n"
     ]
    }
   ],
   "source": [
    "print('Valores na variável-alvo:', cred_risk_df['target_default'].unique())"
   ]
  },
  {
   "cell_type": "markdown",
   "metadata": {},
   "source": [
    "Antes de iniciar qualquer análise, vimos que o alvo possui valores ausentes, de modo que será necessário remover essas entradas (caso a proporção no conjunto não seja muito grande) para podermos ter o dado real da distribuição de classes no conjunto."
   ]
  },
  {
   "cell_type": "code",
   "execution_count": 147,
   "metadata": {},
   "outputs": [
    {
     "name": "stdout",
     "output_type": "stream",
     "text": [
      "Quantidade de valores nulos no alvo: 3259\n",
      "Proporção de nulos no alvo: 7.24 %\n"
     ]
    }
   ],
   "source": [
    "target_null = cred_risk_df['target_default'].isna().sum()\n",
    "\n",
    "print(f'Quantidade de valores nulos no alvo: {target_null}')\n",
    "print(f'Proporção de nulos no alvo: {(target_null * 100/ cred_risk_df.__len__()).round(2)} %')"
   ]
  },
  {
   "cell_type": "markdown",
   "metadata": {},
   "source": [
    "De fato, temos 7,24% de dados nulos no alvo. Apesar de não ser uma quantidade desprezível, não é uma proporção tão grande a ponto de afetar nossa análise. Assim, essas entradas serão removidas."
   ]
  },
  {
   "cell_type": "code",
   "execution_count": 148,
   "metadata": {},
   "outputs": [],
   "source": [
    "def remove_target_nan(df: pd.DataFrame):\n",
    "    cred_risk_df_clean = df.copy()\n",
    "\n",
    "    nan_idx = cred_risk_df_clean.loc[cred_risk_df_clean['target_default'].isna()].index\n",
    "\n",
    "    cred_risk_df_clean.drop(index = nan_idx, axis = 0, inplace = True)\n",
    "    print('Valores nulos removidos!')\n",
    "\n",
    "    return cred_risk_df_clean"
   ]
  },
  {
   "cell_type": "code",
   "execution_count": 149,
   "metadata": {},
   "outputs": [
    {
     "name": "stdout",
     "output_type": "stream",
     "text": [
      "Valores nulos removidos!\n"
     ]
    }
   ],
   "source": [
    "cred_risk_df_clean = remove_target_nan(cred_risk_df)"
   ]
  },
  {
   "cell_type": "markdown",
   "metadata": {},
   "source": [
    "Agora, podemos olhar para a distribuição das classes no conjunto, através da análise de proporção."
   ]
  },
  {
   "cell_type": "code",
   "execution_count": 150,
   "metadata": {},
   "outputs": [
    {
     "name": "stdout",
     "output_type": "stream",
     "text": [
      "Distribuição das classes:\n",
      "\n",
      "target_default\n",
      "False    35080\n",
      "True      6661\n",
      "Name: count, dtype: int64\n",
      "\n",
      "Proporção no conjunto: \n",
      "\n",
      "False: \t84.04 % \n",
      "True: \t15.96 %\n"
     ]
    }
   ],
   "source": [
    "print('Distribuição das classes:\\n')\n",
    "\n",
    "class_count = cred_risk_df_clean['target_default'].value_counts()\n",
    "\n",
    "print(class_count)\n",
    "\n",
    "print('\\nProporção no conjunto: \\n')\n",
    "\n",
    "class_0 = (class_count.iloc[0] * 100/ cred_risk_df_clean.__len__()).round(2)\n",
    "class_1 = (class_count.iloc[1] * 100/ cred_risk_df_clean.__len__()).round(2)\n",
    "\n",
    "print(f'False: \\t{class_0} %',\n",
    "      f'\\nTrue: \\t{class_1} %')"
   ]
  },
  {
   "cell_type": "markdown",
   "metadata": {},
   "source": [
    "Temos portanto um problema bastante desbalanceado, com 35 mil entradas (84,04%) que correspondem a clientes normais, e 6661 entradas (15,96%) que representam clientes inadimplentes."
   ]
  },
  {
   "cell_type": "code",
   "execution_count": 151,
   "metadata": {},
   "outputs": [
    {
     "data": {
      "image/png": "[encoded data removed]",
      "text/plain": [
       "<Figure size 800x500 with 1 Axes>"
      ]
     },
     "metadata": {},
     "output_type": "display_data"
    }
   ],
   "source": [
    "fig, ax = plt.subplots(figsize = (8, 5))\n",
    "\n",
    "sns.countplot(data = cred_risk_df_clean, x = 'target_default', palette = 'Blues', ax = ax)\n",
    "\n",
    "ax.set_title('Proporções das Classes na Variável-Alvo', fontsize = 15, pad = 12)\n",
    "ax.set_ylabel('Contagem', fontsize = 12)\n",
    "ax.set_xlabel('Inadimplência', fontsize = 12)\n",
    "ax.set_xticklabels(['Falso', 'Verdadeiro'], fontdict = {'fontsize': 12})\n",
    "ax.set_yticks(ticks = np.arange(0, 4e4, 5e3), \n",
    "              labels = [i for i in range(0, 40000, 5000)], \n",
    "              fontdict = {'fontsize': 12})\n",
    "\n",
    "fig.tight_layout()"
   ]
  },
  {
   "cell_type": "markdown",
   "metadata": {},
   "source": [
    "O gráfico ajuda a visualizar melhor as classes. Os exemplos que fazem parte da coluna `Falso` são dos clientes normais, enquanto o `Verdadeiro` diz respeito aos inadimplentes."
   ]
  },
  {
   "cell_type": "markdown",
   "metadata": {},
   "source": [
    "Pensando nas próximas fases do processamento dos dados, podemos já codificar a variável-alvo para que ela contemple apenas valores binários de 0 e 1 para representar as classes. A classe 0 representará os clientes normais, e a classe 1 os clientes inadimplentes. Utilizaremos para isso o Label Encoder."
   ]
  },
  {
   "cell_type": "code",
   "execution_count": 152,
   "metadata": {},
   "outputs": [],
   "source": [
    "def apply_label_encoder(df: pd.DataFrame):\n",
    "    # Instanciar o objeto LabelEncoder\n",
    "    le = LabelEncoder()\n",
    "\n",
    "    # Ajustando os dados da variável-alvo\n",
    "    le.fit(df['target_default'])\n",
    "    # Aplicando a transformação\n",
    "    df['target_default'] = le.transform(df['target_default'])\n",
    "\n",
    "    print('Valores da variável-alvo: ', list(df['target_default'].unique()))\n",
    "\n",
    "    return df"
   ]
  },
  {
   "cell_type": "code",
   "execution_count": 153,
   "metadata": {},
   "outputs": [
    {
     "name": "stdout",
     "output_type": "stream",
     "text": [
      "Valores da variável-alvo:  [0, 1]\n"
     ]
    }
   ],
   "source": [
    "cred_risk_df_clean = apply_label_encoder(cred_risk_df_clean)"
   ]
  },
  {
   "cell_type": "markdown",
   "metadata": {},
   "source": [
    "Agora, temos uma variável-alvo que contém apenas valores 1 ou 0 para as respectivas classes de cliente inadimplente ou não. Nesta seção, portanto, tratamos os dados ausentes, analisamos as proporções das classes no conjunto e estruturamos o problema de classificação binária, ao codificar os valores das classes para 0 ou 1."
   ]
  },
  {
   "cell_type": "markdown",
   "metadata": {},
   "source": [
    "## Análise Exploratória"
   ]
  },
  {
   "cell_type": "markdown",
   "metadata": {},
   "source": [
    "### Informações do conjunto de dados"
   ]
  },
  {
   "cell_type": "markdown",
   "metadata": {},
   "source": [
    "Agora que vimos informações sobre a variável-alvo, vamos seguir com a análise para outras variáveis do conjunto. Começaremos analisando a quantidade de valores ausentes, as colunas que serão removidas, e aquelas que serão imputadas com novos valores para preencher os ausentes."
   ]
  },
  {
   "cell_type": "code",
   "execution_count": 154,
   "metadata": {},
   "outputs": [
    {
     "name": "stdout",
     "output_type": "stream",
     "text": [
      "Quantidade de valores ausentes: \n",
      "target_fraud                                        40384\n",
      "last_amount_borrowed                                27608\n",
      "last_borrowed_in_months                             27608\n",
      "ok_since                                            24465\n",
      "external_data_provider_credit_checks_last_2_year    21030\n",
      "external_data_provider_credit_checks_last_year      14021\n",
      "credit_limit                                        13109\n",
      "n_issues                                            10923\n",
      "facebook_profile                                     4153\n",
      "marketing_channel                                    3308\n",
      "job_name                                             2617\n",
      "external_data_provider_email_seen_before             2085\n",
      "lat_lon                                              1262\n",
      "user_agent                                            656\n",
      "n_bankruptcies                                        135\n",
      "n_defaulted_loans                                      12\n",
      "reason                                                  4\n",
      "state                                                   0\n",
      "score_5                                                 0\n",
      "score_1                                                 0\n",
      "dtype: int64\n",
      "\n",
      "Tipos das variáveis: \n",
      "object     20\n",
      "float64    18\n",
      "int64       4\n",
      "int32       1\n",
      "Name: count, dtype: int64\n"
     ]
    }
   ],
   "source": [
    "print('Quantidade de valores ausentes:', f'\\n{cred_risk_df_clean.isna().sum().sort_values(ascending = False)[:20]}')\n",
    "\n",
    "print('\\nTipos das variáveis:', f'\\n{cred_risk_df_clean.dtypes.value_counts()}')"
   ]
  },
  {
   "cell_type": "markdown",
   "metadata": {},
   "source": [
    "Vemos que existem colunas que possuem praticamente todos os valores ausentes. Iremos avaliar como abordar essas variáveis em breve. Com relação aos tipos de variáveis, vemos que a maior parte são numéricas do tipo `float` e `int`, totalizando 23."
   ]
  },
  {
   "cell_type": "markdown",
   "metadata": {},
   "source": [
    "### Tratamento de valores ausentes"
   ]
  },
  {
   "cell_type": "markdown",
   "metadata": {},
   "source": [
    "Como vimos acima, existem variáveis com uma grande proporção de valores ausentes. Vamos visualizar os valores percentuais."
   ]
  },
  {
   "cell_type": "code",
   "execution_count": 155,
   "metadata": {},
   "outputs": [
    {
     "name": "stdout",
     "output_type": "stream",
     "text": [
      "Valores ausentes por coluna, ordenados de forma decrescente (%):\n"
     ]
    },
    {
     "data": {
      "text/plain": [
       "target_fraud                                        96.7\n",
       "last_amount_borrowed                                66.1\n",
       "last_borrowed_in_months                             66.1\n",
       "ok_since                                            58.6\n",
       "external_data_provider_credit_checks_last_2_year    50.4\n",
       "external_data_provider_credit_checks_last_year      33.6\n",
       "credit_limit                                        31.4\n",
       "n_issues                                            26.2\n",
       "facebook_profile                                     9.9\n",
       "marketing_channel                                    7.9\n",
       "job_name                                             6.3\n",
       "external_data_provider_email_seen_before             5.0\n",
       "lat_lon                                              3.0\n",
       "user_agent                                           1.6\n",
       "n_bankruptcies                                       0.3\n",
       "state                                                0.0\n",
       "zip                                                  0.0\n",
       "score_1                                              0.0\n",
       "profile_tags                                         0.0\n",
       "shipping_zip_code                                    0.0\n",
       "shipping_state                                       0.0\n",
       "reported_income                                      0.0\n",
       "profile_phone_number                                 0.0\n",
       "score_2                                              0.0\n",
       "score_3                                              0.0\n",
       "external_data_provider_fraud_score                   0.0\n",
       "external_data_provider_first_name                    0.0\n",
       "score_4                                              0.0\n",
       "score_5                                              0.0\n",
       "external_data_provider_credit_checks_last_month      0.0\n",
       "score_6                                              0.0\n",
       "email                                                0.0\n",
       "application_time_in_funnel                           0.0\n",
       "application_time_applied                             0.0\n",
       "risk_rate                                            0.0\n",
       "n_accounts                                           0.0\n",
       "n_defaulted_loans                                    0.0\n",
       "target_default                                       0.0\n",
       "reason                                               0.0\n",
       "real_state                                           0.0\n",
       "income                                               0.0\n",
       "channel                                              0.0\n",
       "ids                                                  0.0\n",
       "dtype: float64"
      ]
     },
     "execution_count": 155,
     "metadata": {},
     "output_type": "execute_result"
    }
   ],
   "source": [
    "print('Valores ausentes por coluna, ordenados de forma decrescente (%):')\n",
    "round((cred_risk_df_clean.isna().sum()) * 100 / cred_risk_df_clean.__len__(), 1).sort_values(ascending = False)"
   ]
  },
  {
   "cell_type": "markdown",
   "metadata": {},
   "source": [
    "Variáveis sem nenhum valor ausente:             \n",
    "\n",
    "* application_time_applied\n",
    "* external_data_provider_fraud_score\n",
    "* shipping_state\n",
    "* external_data_provider_first_name\n",
    "* profile_phone_number\n",
    "* shipping_zip_code\n",
    "* reported_income\n",
    "* external_data_provider_credit_checks_last_month\n",
    "* profile_tags\n",
    "* email\n",
    "* application_time_in_funnel\n",
    "* ids\n",
    "* n_accounts\n",
    "* risk_rate\n",
    "* score_1\n",
    "* score_2\n",
    "* score_3\n",
    "* score_4\n",
    "* score_5\n",
    "* score_6\n",
    "* reason\n",
    "* n_defaulted_loans\n",
    "* income\n",
    "* state\n",
    "* zip\n",
    "* channel\n",
    "* real_state\n",
    "* target_default"
   ]
  },
  {
   "cell_type": "markdown",
   "metadata": {},
   "source": [
    "Dentre as variáveis que possuem valores ausentes, algumas não possuem nenhum significado para nossa análise e serão removidas.  Particularmente, as variáveis que dizem respeito à tarefa de detecção de fraudes, que não faz parte do escopo desse projeto, serão removidas. São elas: `target_fraud` e `external_data_provider_fraud_score`. Outras variáveis simplesmente não possuem nenhum poder preditivo para análise (e.g nome ou e-mail que a pessoa usa, perfil do Facebook) ou são de difícil interpretabilidade (e.g pontos de acesso, horários, etc), como `ids`, `email`, `external_data_provider_first_name`, `profile_phone_number`, `facebook_profile`, `user_agent`, `application_time_applied`, `external_data_provider_credit_checks_last_year`, `external_data_provider_credit_checks_last_2_year`, `reason`, etc.\n",
    "\n",
    "Dentre as variáveis codificadas, temos: `state, zip, channel, job_name, real_state, score_1 e score_2`. Para as variáveis que não contém muitos valores únicos, podemos usar a abordagem do OHE (_One Hot Enconding_) para transpô-las em novas colunas como variáveis numéricas binárias (0 ou 1)."
   ]
  },
  {
   "cell_type": "code",
   "execution_count": 156,
   "metadata": {},
   "outputs": [
    {
     "data": {
      "text/plain": [
       "channel           1\n",
       "real_state        5\n",
       "score_1           7\n",
       "score_2          35\n",
       "state            50\n",
       "zip             823\n",
       "job_name      30543\n",
       "dtype: int64"
      ]
     },
     "execution_count": 156,
     "metadata": {},
     "output_type": "execute_result"
    }
   ],
   "source": [
    "cred_risk_df_clean[['state', 'zip', 'channel', 'job_name', 'real_state', 'score_1', 'score_2']].nunique().sort_values()"
   ]
  },
  {
   "cell_type": "markdown",
   "metadata": {},
   "source": [
    "Apenas as variáveis `score_1` e `real_state` possuem poucos valores únicos. A variável `channel`, assim como `external_data_provider_credit_checks_last_2_year`, possui apenas um valor que por si só não oferece nenhum poder preditivo. Iremos removê-las posteriormente."
   ]
  },
  {
   "cell_type": "markdown",
   "metadata": {},
   "source": [
    "Poderíamos argumentar que o fato do cliente ser inadimplente pode ter a ver com seu emprego. Vamos analisar se existe algum tipo de emprego, na coluna `job_name`, que indique essa relação. "
   ]
  },
  {
   "cell_type": "code",
   "execution_count": 157,
   "metadata": {},
   "outputs": [
    {
     "name": "stdout",
     "output_type": "stream",
     "text": [
      "job_name\n",
      "mLVIVxoGY7TUDJ1FyFoSIZi1SFcaBmO01AydRchaEiGYtUhXGgZjtNQMnUXIWhIhmLVIVxoGY7TUDJ1FyFoSIaUIfpgwbYh438CvSsT5QB8=    19\n",
      "mLVIVxoGY7TUDJ1FyFoSIZi1SFcaBmO01AydRchaEiGYtUhXGgZjtNQMnUXIWhIhmLVIVxoGY7TUDJ1FyFoSIbOy82w5K5LALfp4MHskDUE=    17\n",
      "mLVIVxoGY7TUDJ1FyFoSIZi1SFcaBmO01AydRchaEiGYtUhXGgZjtNQMnUXIWhIhmLVIVxoGY7TUDJ1FyFoSIVf4E/iI7qK+Lfl5hxoWW2A=    16\n",
      "mLVIVxoGY7TUDJ1FyFoSIZi1SFcaBmO01AydRchaEiGYtUhXGgZjtNQMnUXIWhIhmLVIVxoGY7TUDJ1FyFoSISzmgfFzT+qYrtqTHkJFqpA=    12\n",
      "mLVIVxoGY7TUDJ1FyFoSIZi1SFcaBmO01AydRchaEiGYtUhXGgZjtNQMnUXIWhIhmLVIVxoGY7TUDJ1FyFoSIUGp9a+9oBSLvyI5Jdz9fNg=    12\n",
      "mLVIVxoGY7TUDJ1FyFoSIZi1SFcaBmO01AydRchaEiGYtUhXGgZjtNQMnUXIWhIhmLVIVxoGY7TUDJ1FyFoSIb4ADj/ykkhgM886TEQ8yrI=    11\n",
      "mLVIVxoGY7TUDJ1FyFoSIZi1SFcaBmO01AydRchaEiGYtUhXGgZjtNQMnUXIWhIh/cdCiaVzVo/KVM2JldD+WiCpSDcTmA605zSPwbuinf0=    11\n",
      "mLVIVxoGY7TUDJ1FyFoSIZi1SFcaBmO01AydRchaEiGYtUhXGgZjtNQMnUXIWhIhmLVIVxoGY7TUDJ1FyFoSIV56G3kjZxQ0yMeb3IU2UKE=    11\n",
      "mLVIVxoGY7TUDJ1FyFoSIZi1SFcaBmO01AydRchaEiGYtUhXGgZjtNQMnUXIWhIhmLVIVxoGY7TUDJ1FyFoSIfeSCTDWhw2hS0GDfQEUVwM=    11\n",
      "mLVIVxoGY7TUDJ1FyFoSIZi1SFcaBmO01AydRchaEiGYtUhXGgZjtNQMnUXIWhIhmLVIVxoGY7TUDJ1FyFoSIa6KOvl8Xp6F2JH3Vt47kH0=    10\n",
      "Name: count, dtype: int64 \n",
      "\n",
      "Sumário Estatístico\n",
      "count    5526.0\n",
      "mean        1.1\n",
      "std         0.7\n",
      "min         1.0\n",
      "50%         1.0\n",
      "75%         1.0\n",
      "95%         2.0\n",
      "99%         4.0\n",
      "99.9%      11.0\n",
      "max        19.0\n",
      "Name: count, dtype: float64\n",
      "\n",
      "Soma das frequências de casos inadimplentes para empregos no percentil maior que 75%: 894\n"
     ]
    }
   ],
   "source": [
    "count_jobs = cred_risk_df_clean.loc[cred_risk_df['target_default'] == True]['job_name'].value_counts()\n",
    "\n",
    "print(count_jobs[:10], '\\n') \n",
    "\n",
    "print('Sumário Estatístico')\n",
    "\n",
    "print(count_jobs.describe(percentiles = [.5, .75, .95, .99, .999]).round(1))\n",
    "\n",
    "print(f'\\nSoma das frequências de casos inadimplentes para empregos no percentil maior que 75%: {count_jobs.loc[count_jobs > 1].sum()}')"
   ]
  },
  {
   "cell_type": "markdown",
   "metadata": {},
   "source": [
    "Os resultados aqui são interessantes. Os 5 primeiros itens da lista representam títulos de empregos que mais se repetem quando o cliente é inadimplente. Podemos ter a situação de que sejam apenas títulos mais comuns de empregos contra títulos mais raros, e.g comerciante vs piloto de avião, e por isso eles aparecem mais vezes na lista de clientes inadimplentes.\n",
    "\n",
    "Porém, a maioria dos empregos aparece apenas uma vez para os inadimplentes. Enquanto que os casos de empregos que se repetem mais do que 4 vezes é menor do 1%. Isso mostra que essa variável não parece possui um poder preditivo muito elevado. Além disso, existe o problema da falta de interpretabilidade ao considerar que todas as entradas estão codificadas.\n",
    "\n",
    "Por esse motivo, a variável `job_name` será removida posteriormente.\n",
    "\n"
   ]
  },
  {
   "cell_type": "markdown",
   "metadata": {},
   "source": [
    "Vamos analisar mais algumas variáveis, visando conhecer suas distribuições estatísticas e valores únicos. Assim, poderemos escolher quais iremos manter, quais remover e quais imputar valores."
   ]
  },
  {
   "cell_type": "markdown",
   "metadata": {},
   "source": [
    "### Construção de funções para análise"
   ]
  },
  {
   "cell_type": "markdown",
   "metadata": {},
   "source": [
    "Como muitas das análises que iremos fazer para entender as variáveis são padronizadas, iremos construir funções para evitar redundância nos códigos."
   ]
  },
  {
   "cell_type": "markdown",
   "metadata": {},
   "source": [
    "#### Informações das variáveis"
   ]
  },
  {
   "cell_type": "markdown",
   "metadata": {},
   "source": [
    "Essa função tem como objetivo imprimir informações relevantes sobre a variável em questão, como:\n",
    "\n",
    "- Proporção de valores ausentes\n",
    "- Sumário estatístico\n",
    "- Valores únicos\n",
    "- Tipo da variável"
   ]
  },
  {
   "cell_type": "code",
   "execution_count": 187,
   "metadata": {},
   "outputs": [],
   "source": [
    "def col_info(df: pd.DataFrame, col: str):\n",
    "    isna_proportion = (df.isna().sum() * 100 / df.__len__()).sort_values(ascending = False).round(2)\n",
    "\n",
    "    print(f'Variável {col}\\n')\n",
    "\n",
    "    print(f'Proporção de valores ausentes: {isna_proportion[col]}%\\n')\n",
    "    \n",
    "    if df[col].dtypes == 'O':\n",
    "      \n",
    "      print(f'Sumário Estatístico {col}:\\n')\n",
    "      print(df[col].describe())\n",
    "\n",
    "      print(f'\\nValores únicos:',\n",
    "            f'\\n{df[col].unique()}',\n",
    "            f'\\n\\nQuantidade de valores únicos: {df[col].nunique()}')\n",
    "                  \n",
    "    else:\n",
    "      \n",
    "      print(f'Sumário Estatístico {col}:\\n')\n",
    "      print(df[col].describe().round(1))\n",
    "      \n",
    "      print(f'\\nValores únicos:',\n",
    "            f'\\n{df[col].unique()}',\n",
    "            f'\\n\\nQuantidade de valores únicos: {df[col].nunique()}')\n",
    "            \n",
    "      print('\\nTipo da variável: ', df[col].dtypes)"
   ]
  },
  {
   "cell_type": "markdown",
   "metadata": {},
   "source": [
    "#### Plotar Boxplot"
   ]
  },
  {
   "cell_type": "markdown",
   "metadata": {},
   "source": [
    "Essa função oferece uma visualização da estatística da variável através de um Boxplot da variável."
   ]
  },
  {
   "cell_type": "code",
   "execution_count": 188,
   "metadata": {},
   "outputs": [],
   "source": [
    "def plot_boxplot(df: pd.DataFrame, col: str):\n",
    "    fig, ax = plt.subplots(figsize = (12, 3))\n",
    "    \n",
    "    sns.boxplot(\n",
    "        data = df, \n",
    "        x = col, \n",
    "        ax = ax, \n",
    "        palette = 'Reds', \n",
    "        showmeans = True\n",
    "        )\n",
    "\n",
    "    ax.set_title(f'Boxplot da Variável {col}', fontsize = 14)\n",
    "    ax.set_xlabel(f'{col}', fontsize = 12)\n",
    "\n",
    "    fig.tight_layout()"
   ]
  },
  {
   "cell_type": "markdown",
   "metadata": {},
   "source": [
    "#### Boxplot de comparação com a variável-alvo"
   ]
  },
  {
   "cell_type": "markdown",
   "metadata": {},
   "source": [
    "Essa visualização comparar as distribuições estatísticas da variável quando filtrada pelas classes do alvo, que nos diz se o cliente é inadimplente ou não."
   ]
  },
  {
   "cell_type": "code",
   "execution_count": 191,
   "metadata": {},
   "outputs": [],
   "source": [
    "def comparison_boxplot(df: pd.DataFrame, col: str):\n",
    "    fig, ax = plt.subplots(figsize = (5, 6))\n",
    "\n",
    "    sns.boxenplot(\n",
    "        data = df,\n",
    "        x = 'target_default', \n",
    "        y = col,\n",
    "        hue = 'target_default',\n",
    "        palette = 'Blues',\n",
    "        legend = False,\n",
    "        ax = ax,\n",
    "    )\n",
    "\n",
    "    ax.set_title(f'Comparação com o alvo - Variável {col}', fontsize = 14)\n",
    "    ax.set_xlabel('Inadimplente', fontsize = 12)\n",
    "    ax.set_ylabel(f'{col}', fontsize = 12)\n",
    "    ax.set_xticklabels(['0', '1'], fontdict = {'fontsize': 12})\n",
    "\n",
    "    fig.tight_layout()"
   ]
  },
  {
   "cell_type": "markdown",
   "metadata": {},
   "source": [
    "#### Remover Outliers"
   ]
  },
  {
   "cell_type": "markdown",
   "metadata": {},
   "source": [
    "Por fim, essa função remove _outliers_ de variáveis que necessitam desse tratamento. O limite superior é maior do que o usual, que normalmente é definido por $\\text{IQR} + 1.5q_{3}$. No caso, calculamos o limite superior do IQR utilizando $\\text{IQR} +  3q_{3}$, para não perder muitas entradas e manter alguns _outliers_ para o modelo aprender os padrões. "
   ]
  },
  {
   "cell_type": "code",
   "execution_count": 193,
   "metadata": {},
   "outputs": [],
   "source": [
    "def outlier_removal(df: pd.DataFrame, col: str):\n",
    "\n",
    "    q3 = df[col].quantile(.75)\n",
    "    q1 = df[col].quantile(.25)\n",
    "\n",
    "    iqr = q3 - q1\n",
    "    iqr_upper = iqr + 3 * q3\n",
    "\n",
    "    print(f'Limite superior do IQR da variável {col}: {iqr_upper}')\n",
    "    n_outliers = df.loc[df[col] > iqr_upper].shape[0]\n",
    "    idx = df.loc[df[col] > iqr_upper].index\n",
    "\n",
    "    if n_outliers < 1000:\n",
    "        \n",
    "        df.drop(idx, axis = 0, inplace = True)\n",
    "        print(f\"{n_outliers} outliers removidos.\")"
   ]
  },
  {
   "cell_type": "markdown",
   "metadata": {},
   "source": [
    "### Análise das variáveis individuais"
   ]
  },
  {
   "cell_type": "markdown",
   "metadata": {},
   "source": [
    "#### ok_since"
   ]
  },
  {
   "cell_type": "markdown",
   "metadata": {},
   "source": [
    "A variável `ok_since` provavelmente nos passa a informação de quanto tempo o cliente está em uma situação normal de crédito."
   ]
  },
  {
   "cell_type": "code",
   "execution_count": 194,
   "metadata": {},
   "outputs": [
    {
     "name": "stdout",
     "output_type": "stream",
     "text": [
      "Variável ok_since\n",
      "\n",
      "Proporção de valores ausentes: 58.6%\n",
      "\n",
      "Sumário Estatístico ok_since:\n",
      "\n",
      "count    16790.0\n",
      "mean        35.2\n",
      "std         21.6\n",
      "min          0.0\n",
      "25%         17.0\n",
      "50%         32.0\n",
      "75%         50.0\n",
      "max        141.0\n",
      "Name: ok_since, dtype: float64\n",
      "\n",
      "Valores únicos: \n",
      "[ nan  50.  11.  35.  16.  23.  43.  17.  29.  18.  56.  38.  93.  27.\n",
      "  44.  13.   8.  66.  33.  12.  30.  24.  21.   7.  63.  51.  31.  73.\n",
      "  49.  19.   4.  48.  14.  76.  36.   5.  46.  41.  34.  59.  61.  55.\n",
      "  84.  28.  75.   6.  67.  39.  52.  72.  10.  45.  32.  62.   0.  58.\n",
      "  15.  78.  70.   9.  22.  80.  20.  68.   3.  53.  60.  74.  26.  47.\n",
      "  37.   1.  42.  57.  40.  54.  65.  81.  25.  77.  71.  69.  64.  86.\n",
      "  79.  82.   2.  83. 103. 135.  97. 101.  90. 130.  85. 141. 108.  88.\n",
      "  95. 122.  87.] \n",
      "\n",
      "Quantidade de valores únicos: 100\n",
      "\n",
      "Tipo da variável:  float64\n"
     ]
    }
   ],
   "source": [
    "col_info(cred_risk_df_clean, 'ok_since')"
   ]
  },
  {
   "cell_type": "markdown",
   "metadata": {},
   "source": [
    "Essa variável apresenta muitos valores ausentes. Porém, seu sumário estatístico não apresenta valores discrepantes e possui muitos valores distintos. Vamos mantê-la preenchendo os valores ausentes por sua mediana e testar no modelo.\n",
    "\n",
    "Pode ser convertida para tipo _int_."
   ]
  },
  {
   "cell_type": "code",
   "execution_count": 197,
   "metadata": {},
   "outputs": [
    {
     "data": {
      "image/png": "[encoded data removed]",
      "text/plain": [
       "<Figure size 1200x300 with 1 Axes>"
      ]
     },
     "metadata": {},
     "output_type": "display_data"
    }
   ],
   "source": [
    "plot_boxplot(cred_risk_df_clean, 'ok_since')"
   ]
  },
  {
   "cell_type": "code",
   "execution_count": 198,
   "metadata": {},
   "outputs": [
    {
     "data": {
      "image/png": "[encoded data removed]",
      "text/plain": [
       "<Figure size 500x600 with 1 Axes>"
      ]
     },
     "metadata": {},
     "output_type": "display_data"
    }
   ],
   "source": [
    "comparison_boxplot(cred_risk_df_clean, 'ok_since')"
   ]
  },
  {
   "cell_type": "markdown",
   "metadata": {},
   "source": [
    "Interessante notar que as distribuições estatísticas são parecidas na variável `ok_since` para ambas as classes no alvo. Contudo, fica claro que existem mais clientes classificados como normais - note como a calda da classe 0 é maior, e como existem mais _outliers_ para valores altos. Contudo, essa análise deixa claro que existem outros fatores que influenciam na inadimplência, para além do tempo de fidelidade no pagamento do crédito."
   ]
  },
  {
   "cell_type": "markdown",
   "metadata": {},
   "source": [
    "#### last_amount_borrowed"
   ]
  },
  {
   "cell_type": "markdown",
   "metadata": {},
   "source": [
    "A variável `last_amount_borrowed` traz informações dos valores que foram emprestados aos clientes na última vez."
   ]
  },
  {
   "cell_type": "code",
   "execution_count": 199,
   "metadata": {},
   "outputs": [
    {
     "name": "stdout",
     "output_type": "stream",
     "text": [
      "Variável last_amount_borrowed\n",
      "\n",
      "Proporção de valores ausentes: 66.09%\n",
      "\n",
      "Sumário Estatístico last_amount_borrowed:\n",
      "\n",
      "count    13752.0\n",
      "mean     13339.4\n",
      "std       7930.3\n",
      "min       1005.2\n",
      "25%       7210.2\n",
      "50%      12011.4\n",
      "75%      18030.7\n",
      "max      35059.6\n",
      "Name: last_amount_borrowed, dtype: float64\n",
      "\n",
      "Valores únicos: \n",
      "[25033.92      nan  7207.92 ...  5022.86 14766.42  4226.74] \n",
      "\n",
      "Quantidade de valores únicos: 13123\n",
      "\n",
      "Tipo da variável:  float64\n"
     ]
    }
   ],
   "source": [
    "col_info(cred_risk_df_clean, 'last_amount_borrowed')"
   ]
  },
  {
   "cell_type": "markdown",
   "metadata": {},
   "source": [
    "Apesar da grande quantidade de valores ausentes, ainda temos muitos valores únicos. Não existem muitos valores discrepantes também, pois os valores da média e da mediana são próximos na estatística descritiva da variável. O maior problema, de fato, são as muitas entradas com valores ausentes. Não temos como saber o motivo específico dessa falta, mas temos duas alternativas: preencher com a mediana, ou zeros.\n",
    "\n",
    "Iremos preencher com a mediana pois, para a porção de clientes normais que são bons pagadores, a mediana irá informar que eles, no mínimo, pagaram o que foi emprestado, enquanto que para o inadimplentes, a mediana irá dimensionar o peso que o valor do empréstimo tem na condição de inadimplência. \n",
    "\n",
    "Se preenchêssemos com zeros, os exemplos de inadimplentes não teriam nenhum valor emprestado, o que pode de alguma forma náo ser representativo da realidade (i.e, inadimplentes necessariamente precisam tomar um empréstimo antes de se tornarem inadimplentes).\n",
    "\n",
    "Obviamente são suposições que temos que fazer devido à falta de visão de como o conjunto de dados foi estruturado e pela falta de conhecimentos mais aprofundados do negócio."
   ]
  },
  {
   "cell_type": "code",
   "execution_count": 201,
   "metadata": {},
   "outputs": [
    {
     "data": {
      "image/png": "[encoded data removed]",
      "text/plain": [
       "<Figure size 1200x300 with 1 Axes>"
      ]
     },
     "metadata": {},
     "output_type": "display_data"
    }
   ],
   "source": [
    "plot_boxplot(cred_risk_df_clean, 'last_amount_borrowed')"
   ]
  },
  {
   "cell_type": "markdown",
   "metadata": {},
   "source": [
    "#### last_borrowed_in_months"
   ]
  },
  {
   "cell_type": "markdown",
   "metadata": {},
   "source": [
    "Essa variável diz respeito a quantidade de meses desde o último empréstimo de um cliente."
   ]
  },
  {
   "cell_type": "code",
   "execution_count": 202,
   "metadata": {},
   "outputs": [
    {
     "name": "stdout",
     "output_type": "stream",
     "text": [
      "Variável last_borrowed_in_months\n",
      "\n",
      "Proporção de valores ausentes: 66.09%\n",
      "\n",
      "Sumário Estatístico last_borrowed_in_months:\n",
      "\n",
      "count    13752.0\n",
      "mean        40.6\n",
      "std          9.4\n",
      "min         36.0\n",
      "25%         36.0\n",
      "50%         36.0\n",
      "75%         36.0\n",
      "max         60.0\n",
      "Name: last_borrowed_in_months, dtype: float64\n",
      "\n",
      "Valores únicos: \n",
      "[36. nan 60.] \n",
      "\n",
      "Quantidade de valores únicos: 2\n",
      "\n",
      "Tipo da variável:  float64\n"
     ]
    }
   ],
   "source": [
    "col_info(cred_risk_df_clean, 'last_borrowed_in_months')"
   ]
  },
  {
   "cell_type": "markdown",
   "metadata": {},
   "source": [
    "Note que a proporção de valores ausentes é o mesmo da variável que diz a quantidade do último empréstimo. Não sabemos se correspondem às mesmas entradas.\n",
    "\n",
    "Vamos verificar se as entradas ausentes correspondem às mesmas para as duas variáveis, `last_amount_borrowed` e `last_borrowed_in_months`. Iremos utilizar o método _loc_ com duas condições: filtrar as entradas ausentes para as duas colunas."
   ]
  },
  {
   "cell_type": "code",
   "execution_count": 203,
   "metadata": {},
   "outputs": [
    {
     "name": "stdout",
     "output_type": "stream",
     "text": [
      "Quantidade de entradas ausentes comuns entre as duas variáveis:\n",
      "66.57 %\n"
     ]
    }
   ],
   "source": [
    "print('Quantidade de entradas ausentes comuns entre as duas variáveis:')\n",
    "print(round(cred_risk_df.loc[(cred_risk_df['last_amount_borrowed'].isna()) & (cred_risk_df['last_borrowed_in_months']).isna()].shape[0] * 100/ cred_risk_df.__len__(), 2), '%')"
   ]
  },
  {
   "cell_type": "markdown",
   "metadata": {},
   "source": [
    "Verificamos que todas as entradas ausentes de `last_borrowed_in_months` correspondem às da variável `last_amount_borrowed`. Iremos imputar o valor da mediana, para representar que o valor foi emprestado há um determinado tempo para esses exemplos, evitando assim que o algoritmo interprete que o valor acabou de ser emprestado."
   ]
  },
  {
   "cell_type": "markdown",
   "metadata": {},
   "source": [
    "#### credit_limit"
   ]
  },
  {
   "cell_type": "markdown",
   "metadata": {},
   "source": [
    "Essa variável mostra o limite de crédito liberado para os clientes do banco."
   ]
  },
  {
   "cell_type": "code",
   "execution_count": 204,
   "metadata": {},
   "outputs": [
    {
     "name": "stdout",
     "output_type": "stream",
     "text": [
      "Variável credit_limit\n",
      "\n",
      "Proporção de valores ausentes: 31.39%\n",
      "\n",
      "Sumário Estatístico credit_limit:\n",
      "\n",
      "count     27823.0\n",
      "mean      33906.4\n",
      "std       36177.1\n",
      "min           0.0\n",
      "25%        9975.5\n",
      "50%       25233.0\n",
      "75%       46576.0\n",
      "max      448269.0\n",
      "Name: credit_limit, dtype: float64\n",
      "\n",
      "Valores únicos: \n",
      "[    0. 39726.    nan ... 10431. 36262. 17942.] \n",
      "\n",
      "Quantidade de valores únicos: 18882\n",
      "\n",
      "Tipo da variável:  float64\n"
     ]
    }
   ],
   "source": [
    "col_info(cred_risk_df_clean, 'credit_limit')"
   ]
  },
  {
   "cell_type": "markdown",
   "metadata": {},
   "source": [
    "A média do limite de crédito é de R$ 33877, e a mediana é de R$ 25213. Essa discrepância nesses dois parâmetros se deve ao fato de haver muitos _outliers_ nessa variável, _i.e_, pessoas que possuem um limite de crédito muito alto.\n",
    "\n",
    "Essa variável já possui uma proporção menor de valores ausentes, tornando possível imputar os valores a partir das informações do sumário estatístico, especificamente a mediana. Iremos fazer esse tratamento nas etapas posteriores. Outra coisa é o tipo da variável, que pode ser convertido para _int_."
   ]
  },
  {
   "cell_type": "code",
   "execution_count": 206,
   "metadata": {},
   "outputs": [
    {
     "data": {
      "image/png": "[encoded data removed]",
      "text/plain": [
       "<Figure size 1200x300 with 1 Axes>"
      ]
     },
     "metadata": {},
     "output_type": "display_data"
    }
   ],
   "source": [
    "plot_boxplot(cred_risk_df_clean, 'credit_limit')"
   ]
  },
  {
   "cell_type": "code",
   "execution_count": 207,
   "metadata": {},
   "outputs": [
    {
     "data": {
      "image/png": "[encoded data removed]",
      "text/plain": [
       "<Figure size 500x600 with 1 Axes>"
      ]
     },
     "metadata": {},
     "output_type": "display_data"
    }
   ],
   "source": [
    "comparison_boxplot(cred_risk_df_clean, 'credit_limit')"
   ]
  },
  {
   "cell_type": "markdown",
   "metadata": {},
   "source": [
    "Note porém, que os _outliers_ são bem informativos para essa variável. Vemos que os clientes classificados como normais possuem limites de crédito mais altos se comparados com os limites de crédito dos inadimplentes. Isso faz sentido, uma vez que o banco irá considerar o histórico de bom pagador para liberar crédito."
   ]
  },
  {
   "cell_type": "markdown",
   "metadata": {},
   "source": [
    "#### n_issues"
   ]
  },
  {
   "cell_type": "markdown",
   "metadata": {},
   "source": [
    "Essa variável reporta a quantidade de problemas (reclamações dos clientes ou problemas da empresa com o cliente?). Não há mais detalhes sobre ela."
   ]
  },
  {
   "cell_type": "code",
   "execution_count": 172,
   "metadata": {},
   "outputs": [
    {
     "name": "stdout",
     "output_type": "stream",
     "text": [
      "Variável n_issues\n",
      "\n",
      "Proporção de valores ausentes: 26.17%\n",
      "\n",
      "Sumário Estatístico n_issues:\n",
      "\n",
      "count    30818.0\n",
      "mean        11.0\n",
      "std          4.6\n",
      "min          0.0\n",
      "25%          8.0\n",
      "50%         10.0\n",
      "75%         14.0\n",
      "max         49.0\n",
      "Name: n_issues, dtype: float64\n",
      "\n",
      "Valores únicos: \n",
      "[18. 14. nan 19.  9.  7.  8. 16. 20.  5. 13. 12. 23. 22. 11.  6. 15. 17.\n",
      " 21.  4. 10.  3. 24. 25. 30.  2. 27. 37. 26. 29. 28. 40. 34. 49.  1. 31.\n",
      " 32. 39. 42. 33. 36. 35.  0. 41. 38.] \n",
      "\n",
      "Quantidade de valores únicos: 44\n",
      "\n",
      "Tipo da variável:  float64\n"
     ]
    }
   ],
   "source": [
    "col_info(cred_risk_df_clean, 'n_issues')"
   ]
  },
  {
   "cell_type": "markdown",
   "metadata": {},
   "source": [
    "Outra variável que iremos preencher os valores ausentes com a mediana, uma vez que a proporção de valores nulos é de 25,7%. Além disso, pode ser convertida para tipo _int_."
   ]
  },
  {
   "cell_type": "code",
   "execution_count": 208,
   "metadata": {},
   "outputs": [
    {
     "data": {
      "image/png": "[encoded data removed]",
      "text/plain": [
       "<Figure size 1200x300 with 1 Axes>"
      ]
     },
     "metadata": {},
     "output_type": "display_data"
    }
   ],
   "source": [
    "plot_boxplot(cred_risk_df_clean, 'n_issues')"
   ]
  },
  {
   "cell_type": "markdown",
   "metadata": {},
   "source": [
    "#### external_data_provider_email_seen_before"
   ]
  },
  {
   "cell_type": "code",
   "execution_count": 174,
   "metadata": {},
   "outputs": [
    {
     "name": "stdout",
     "output_type": "stream",
     "text": [
      "Variável external_data_provider_email_seen_before\n",
      "\n",
      "Proporção de valores ausentes: 5.0%\n",
      "\n",
      "Sumário Estatístico external_data_provider_email_seen_before:\n",
      "\n",
      "count    39656.0\n",
      "mean        12.7\n",
      "std        125.7\n",
      "min       -999.0\n",
      "25%         11.0\n",
      "50%         27.0\n",
      "75%         43.0\n",
      "max         59.0\n",
      "Name: external_data_provider_email_seen_before, dtype: float64\n",
      "\n",
      "Valores únicos: \n",
      "[  51.   17.    9.   38.   46.   21.   16.   37.    6.   nan   10.   29.\n",
      "   43.   59.   54.   13.   52.    4.   31.   40.   -1. -999.   26.   48.\n",
      "   50.    5.    3.   39.   11.    0.   58.   55.    2.    1.   53.   15.\n",
      "   23.   24.   44.   14.   25.   34.   35.   12.   27.   49.    7.   36.\n",
      "   47.   57.   20.    8.   18.   30.   42.   28.   41.   56.   32.   33.\n",
      "   19.   22.   45.] \n",
      "\n",
      "Quantidade de valores únicos: 62\n",
      "\n",
      "Tipo da variável:  float64\n"
     ]
    }
   ],
   "source": [
    "col_info(cred_risk_df_clean, 'external_data_provider_email_seen_before')"
   ]
  },
  {
   "cell_type": "markdown",
   "metadata": {},
   "source": [
    "Essa variável apresenta dois valores discrepantes de -999 e -1. Juntas, essas entradas somam poucos mais de 1100, de modo que representam uma pequena parcela do conjunto de dados e serão removidas."
   ]
  },
  {
   "cell_type": "code",
   "execution_count": 185,
   "metadata": {},
   "outputs": [
    {
     "name": "stdout",
     "output_type": "stream",
     "text": [
      "Número de entradas discrepantes:  0\n"
     ]
    }
   ],
   "source": [
    "idx_999 = cred_risk_df_clean.loc[cred_risk_df_clean['external_data_provider_email_seen_before'] == -999.].index\n",
    "idx_1 = cred_risk_df_clean.loc[cred_risk_df_clean['external_data_provider_email_seen_before'] == -1.].index\n",
    "\n",
    "cred_risk_df_clean = cred_risk_df_clean.copy()\n",
    "\n",
    "# Removendo entradas com valores -999\n",
    "cred_risk_df_clean.drop(index = idx_999, axis = 0, inplace = True)\n",
    "# Removendo entradas com valores -1\n",
    "cred_risk_df_clean.drop(index = idx_1, axis = 0, inplace = True)\n",
    "\n",
    "n_999 = cred_risk_df_clean.loc[cred_risk_df_clean['external_data_provider_email_seen_before'] == -999.].shape[0]\n",
    "\n",
    "print('Número de entradas discrepantes: ', n_999)"
   ]
  },
  {
   "cell_type": "markdown",
   "metadata": {},
   "source": [
    "Agora temos um sumário estatístico correto. Iremos preencher os valores ausentes que restaram pelo valor da mediana, uma vez que eles correspondem a 5% das entradas do conjunto nessa variável."
   ]
  },
  {
   "cell_type": "code",
   "execution_count": 209,
   "metadata": {},
   "outputs": [
    {
     "data": {
      "image/png": "[encoded data removed]",
      "text/plain": [
       "<Figure size 1200x300 with 1 Axes>"
      ]
     },
     "metadata": {},
     "output_type": "display_data"
    }
   ],
   "source": [
    "plot_boxplot(cred_risk_df_clean, 'external_data_provider_email_seen_before')"
   ]
  },
  {
   "cell_type": "markdown",
   "metadata": {},
   "source": [
    "#### n_bankruptcies"
   ]
  },
  {
   "cell_type": "code",
   "execution_count": 210,
   "metadata": {},
   "outputs": [
    {
     "name": "stdout",
     "output_type": "stream",
     "text": [
      "Variável n_bankruptcies\n",
      "\n",
      "Proporção de valores ausentes: 1.55%\n",
      "\n",
      "Sumário Estatístico n_bankruptcies:\n",
      "\n",
      "count    44303.0\n",
      "mean         0.1\n",
      "std          0.3\n",
      "min          0.0\n",
      "25%          0.0\n",
      "50%          0.0\n",
      "75%          0.0\n",
      "max          5.0\n",
      "Name: n_bankruptcies, dtype: float64\n",
      "\n",
      "Valores únicos: \n",
      "[ 0.  1. nan  2.  3.  4.  5.] \n",
      "\n",
      "Quantidade de valores únicos: 6\n",
      "\n",
      "Tipo da variável:  float64\n"
     ]
    }
   ],
   "source": [
    "col_info(cred_risk_df, 'n_bankruptcies')"
   ]
  },
  {
   "cell_type": "markdown",
   "metadata": {},
   "source": [
    "No caso dessa variável, iremos substituir os valores ausentes por zero. Além disso, ela pode ser convertida para o tipo _int_."
   ]
  },
  {
   "cell_type": "code",
   "execution_count": null,
   "metadata": {},
   "outputs": [],
   "source": [
    "bankruptcies_isna = cred_risk_df['n_bankruptcies'].isna().sum()\n",
    "\n",
    "if bankruptcies_isna > 0:\n",
    "    cred_risk_df['n_bankruptcies'].fillna(0, inplace = True)"
   ]
  },
  {
   "cell_type": "code",
   "execution_count": null,
   "metadata": {},
   "outputs": [],
   "source": [
    "fig,ax = plt.subplots(figsize = (8, 4))\n",
    "\n",
    "sns.countplot(cred_risk_df, x = 'n_bankruptcies', palette = 'Blues_r', ax = ax)\n",
    "\n",
    "ax.set_title('Número de falências', fontsize = 14)\n",
    "ax.set_ylabel('Contagem', fontsize = 12)\n",
    "ax.set_xlabel('Nº de falências', fontsize = 12)\n",
    "\n",
    "fig.tight_layout()"
   ]
  },
  {
   "cell_type": "markdown",
   "metadata": {},
   "source": [
    "Como é de se esperar, a maioria dos clientes nunca reportou nenhuma falência. A proporção daqueles que reportaram uma falência é mais de 8 vezes menor do que a quantidade de clientes que nunca faliu, enquanto as proporções dos que reportaram duas ou mais falências é ínfima."
   ]
  },
  {
   "cell_type": "markdown",
   "metadata": {},
   "source": [
    "#### marketing_channel"
   ]
  },
  {
   "cell_type": "markdown",
   "metadata": {},
   "source": [
    "Essa variável mostra quantos clientes vieram de cada canal de marketing."
   ]
  },
  {
   "cell_type": "code",
   "execution_count": null,
   "metadata": {},
   "outputs": [],
   "source": [
    "variable_info(cred_risk_df, 'marketing_channel')"
   ]
  },
  {
   "cell_type": "code",
   "execution_count": null,
   "metadata": {},
   "outputs": [],
   "source": [
    "fig,ax = plt.subplots(figsize = (8, 4))\n",
    "\n",
    "mkt_count = cred_risk_df['marketing_channel'].value_counts().sort_values(ascending = False)\n",
    "\n",
    "sns.countplot(cred_risk_df, y = 'marketing_channel', palette = 'flare')\n",
    "\n",
    "ax.set_title('Canal de marketing', fontsize = 14)\n",
    "ax.set_ylabel('Canal', fontsize = 12)\n",
    "ax.set_xlabel('Contagem', fontsize = 12)\n",
    "\n",
    "fig.tight_layout()"
   ]
  },
  {
   "cell_type": "markdown",
   "metadata": {},
   "source": [
    "Segundo as estatísticas, mais de 10 mil clientes vieram da Internet através do site. Em segundo lugar aparece a lista de espera, com mais de 6 mil clientes vindos de lá. Os outros canais todos contribuem de maneira igual."
   ]
  },
  {
   "cell_type": "markdown",
   "metadata": {},
   "source": [
    "#### n_defaulted_loans"
   ]
  },
  {
   "cell_type": "markdown",
   "metadata": {},
   "source": [
    "Essa variável reporta quantos clientes já tiveram empréstimos inadimplentes no passado, informando a quantidade."
   ]
  },
  {
   "cell_type": "code",
   "execution_count": null,
   "metadata": {},
   "outputs": [],
   "source": [
    "variable_info(cred_risk_df, 'n_defaulted_loans')"
   ]
  },
  {
   "cell_type": "code",
   "execution_count": null,
   "metadata": {},
   "outputs": [],
   "source": [
    "cred_risk_df['n_defaulted_loans'].value_counts()"
   ]
  },
  {
   "cell_type": "markdown",
   "metadata": {},
   "source": [
    "Vemos que a esmagadora maioria nunca teve nenhum empréstimo inadimplente. O número de clientes com 1 ou mais inadimplências no histórico não passa de 0,01% do conjunto de dados.\n",
    "\n",
    "Além disso, a variável possui poucas entradas com valores ausentes que podem ser substituídas por zero, dado que é o valor mais provável."
   ]
  },
  {
   "cell_type": "markdown",
   "metadata": {},
   "source": [
    "#### n_accounts"
   ]
  },
  {
   "cell_type": "code",
   "execution_count": null,
   "metadata": {},
   "outputs": [],
   "source": [
    "variable_info(cred_risk_df, 'n_accounts')"
   ]
  },
  {
   "cell_type": "code",
   "execution_count": null,
   "metadata": {},
   "outputs": [],
   "source": [
    "plot_boxplot('n_accounts')"
   ]
  },
  {
   "cell_type": "markdown",
   "metadata": {},
   "source": [
    "#### risk_rate"
   ]
  },
  {
   "cell_type": "code",
   "execution_count": null,
   "metadata": {},
   "outputs": [],
   "source": [
    "variable_info(cred_risk_df, 'risk_rate')"
   ]
  },
  {
   "cell_type": "code",
   "execution_count": null,
   "metadata": {},
   "outputs": [],
   "source": [
    "plot_boxplot('risk_rate')"
   ]
  },
  {
   "cell_type": "markdown",
   "metadata": {},
   "source": [
    "#### income"
   ]
  },
  {
   "cell_type": "code",
   "execution_count": null,
   "metadata": {},
   "outputs": [],
   "source": [
    "variable_info(cred_risk_df, 'income')"
   ]
  },
  {
   "cell_type": "code",
   "execution_count": null,
   "metadata": {},
   "outputs": [],
   "source": [
    "plot_boxplot('income')"
   ]
  },
  {
   "cell_type": "markdown",
   "metadata": {},
   "source": [
    "Nota-se que a variável `income` apresenta valores muito discrepantes, que enviesam de tal maneira a distribuição dos dados que se torna impossível visualizar a estatística pelo Boxplot."
   ]
  },
  {
   "cell_type": "code",
   "execution_count": null,
   "metadata": {},
   "outputs": [],
   "source": [
    "comparison_boxplot('income')"
   ]
  },
  {
   "cell_type": "markdown",
   "metadata": {},
   "source": [
    "O mesmo acontece ao compararmos as distribuições dos dados segundo as classes da variável-alvo. Iremos remover esses _outliers_, uma vez que eles podem enviesar o algoritmo, caso ele seja sensível a _outliers_, ajustando uma função que não será acurada em dados novos gerais. Além disso, até para algoritmos que lidam bem com _outliers_, a remoção permitirá que o algoritmo foque mais onde há maior volume de dados na distribuição, visualizando melhor estatísticas para abstrair padrões."
   ]
  },
  {
   "cell_type": "code",
   "execution_count": null,
   "metadata": {},
   "outputs": [],
   "source": [
    "outlier_removal('income')"
   ]
  },
  {
   "cell_type": "code",
   "execution_count": null,
   "metadata": {},
   "outputs": [],
   "source": [
    "comparison_boxplot('income')"
   ]
  },
  {
   "cell_type": "markdown",
   "metadata": {},
   "source": [
    "Da análise estatística, é possível notar que a classe de clientes normais possuem uma mediana de renda maior do que os inadimplentes. Possuem também, uma quantidade maior de clientes com renda maior, uma vez que a calda do boxplot é mais alongada para os cliente normais."
   ]
  },
  {
   "cell_type": "markdown",
   "metadata": {},
   "source": [
    "#### reported_income"
   ]
  },
  {
   "cell_type": "code",
   "execution_count": null,
   "metadata": {},
   "outputs": [],
   "source": [
    "variable_info(cred_risk_df, 'reported_income')"
   ]
  },
  {
   "cell_type": "code",
   "execution_count": null,
   "metadata": {},
   "outputs": [],
   "source": [
    "print('A variável possui {} entradas com valores tidos como infinito.'.format(cred_risk_df.loc[cred_risk_df['reported_income'] == np.inf].shape[0]))"
   ]
  },
  {
   "cell_type": "code",
   "execution_count": null,
   "metadata": {},
   "outputs": [],
   "source": [
    "inf_idx = cred_risk_df.loc[cred_risk_df['reported_income'] == np.inf].index\n",
    "n_inf_entries = cred_risk_df.loc[cred_risk_df['reported_income'] == np.inf].shape[0]\n",
    "\n",
    "if n_inf_entries != 0:\n",
    "    cred_risk_df.drop(inf_idx, axis = 0, inplace = True)\n",
    "    print('Valores infinitos removidos!')"
   ]
  },
  {
   "cell_type": "code",
   "execution_count": null,
   "metadata": {},
   "outputs": [],
   "source": [
    "plot_boxplot('reported_income')"
   ]
  },
  {
   "cell_type": "code",
   "execution_count": null,
   "metadata": {},
   "outputs": [],
   "source": [
    "outlier_removal('reported_income') \n",
    "\n",
    "print('\\nNova estatística: \\n')\n",
    "print(cred_risk_df['reported_income'].describe().round(2))"
   ]
  },
  {
   "cell_type": "code",
   "execution_count": null,
   "metadata": {},
   "outputs": [],
   "source": [
    "plot_boxplot('reported_income')"
   ]
  },
  {
   "cell_type": "markdown",
   "metadata": {},
   "source": [
    "#### application_time_in_funnel"
   ]
  },
  {
   "cell_type": "code",
   "execution_count": null,
   "metadata": {},
   "outputs": [],
   "source": [
    "variable_info(cred_risk_df, 'application_time_in_funnel')"
   ]
  },
  {
   "cell_type": "code",
   "execution_count": null,
   "metadata": {},
   "outputs": [],
   "source": [
    "plot_boxplot('application_time_in_funnel')"
   ]
  },
  {
   "cell_type": "markdown",
   "metadata": {},
   "source": [
    "#### score_3"
   ]
  },
  {
   "cell_type": "code",
   "execution_count": null,
   "metadata": {},
   "outputs": [],
   "source": [
    "variable_info(cred_risk_df, 'score_3')"
   ]
  },
  {
   "cell_type": "code",
   "execution_count": null,
   "metadata": {},
   "outputs": [],
   "source": [
    "plot_boxplot('score_3')"
   ]
  },
  {
   "cell_type": "code",
   "execution_count": null,
   "metadata": {},
   "outputs": [],
   "source": [
    "comparison_boxplot('score_3')"
   ]
  },
  {
   "cell_type": "markdown",
   "metadata": {},
   "source": [
    "#### score_4"
   ]
  },
  {
   "cell_type": "code",
   "execution_count": null,
   "metadata": {},
   "outputs": [],
   "source": [
    "variable_info(cred_risk_df, 'score_4')"
   ]
  },
  {
   "cell_type": "code",
   "execution_count": null,
   "metadata": {},
   "outputs": [],
   "source": [
    "plot_boxplot('score_4')"
   ]
  },
  {
   "cell_type": "code",
   "execution_count": null,
   "metadata": {},
   "outputs": [],
   "source": [
    "comparison_boxplot('score_4')"
   ]
  },
  {
   "cell_type": "markdown",
   "metadata": {},
   "source": [
    "#### score_5"
   ]
  },
  {
   "cell_type": "code",
   "execution_count": null,
   "metadata": {},
   "outputs": [],
   "source": [
    "variable_info(cred_risk_df, 'score_5')"
   ]
  },
  {
   "cell_type": "code",
   "execution_count": null,
   "metadata": {},
   "outputs": [],
   "source": [
    "plot_boxplot('score_5')"
   ]
  },
  {
   "cell_type": "code",
   "execution_count": null,
   "metadata": {},
   "outputs": [],
   "source": [
    "comparison_boxplot('score_5')"
   ]
  },
  {
   "cell_type": "markdown",
   "metadata": {},
   "source": [
    "#### score_6"
   ]
  },
  {
   "cell_type": "code",
   "execution_count": null,
   "metadata": {},
   "outputs": [],
   "source": [
    "variable_info(cred_risk_df, 'score_6')"
   ]
  },
  {
   "cell_type": "code",
   "execution_count": null,
   "metadata": {},
   "outputs": [],
   "source": [
    "plot_boxplot('score_6')"
   ]
  },
  {
   "cell_type": "code",
   "execution_count": null,
   "metadata": {},
   "outputs": [],
   "source": [
    "comparison_boxplot('score_6')"
   ]
  },
  {
   "cell_type": "markdown",
   "metadata": {},
   "source": [
    "### Imputar valores ausentes"
   ]
  },
  {
   "cell_type": "markdown",
   "metadata": {},
   "source": [
    "#### Critérios para remoção de variáveis:\n",
    "\n",
    "* Baixo poder preditivo (e.g `facebook_profile`, `profile_phone_number`);\n",
    "* Baixa interpretabilidade devido a codificação (`state`, `job_name`);\n",
    "* Dificíl formatação dos dados que dificulta a interpretação (e.g `user_agent`, `profile_tags`);\n",
    "* Possuir apenas um valor único (e.g `channel`).\n"
   ]
  },
  {
   "cell_type": "code",
   "execution_count": null,
   "metadata": {},
   "outputs": [],
   "source": [
    "cred_risk_df_clean = cred_risk_df.copy()\n",
    "\n",
    "cols_to_drop = ['target_fraud', 'external_data_provider_fraud_score',\n",
    "                'ids', 'email', 'external_data_provider_first_name',\n",
    "                'profile_phone_number', 'profile_tags', 'facebook_profile',\n",
    "                'user_agent', 'state', 'zip', 'job_name', 'channel',\n",
    "                'shipping_zip_code', \n",
    "                'external_data_provider_credit_checks_last_month',\n",
    "                'application_time_applied', 'reason', 'real_state', \n",
    "                'external_data_provider_credit_checks_last_year',\n",
    "                'external_data_provider_credit_checks_last_2_year']\n",
    "\n",
    "for col in cols_to_drop:\n",
    "    if col in cred_risk_df_clean.columns.tolist():\n",
    "        \n",
    "        cred_risk_df_clean.drop(col, axis = 1, inplace = True)\n",
    "\n",
    "print('Nova Dimensão do Conjunto')\n",
    "print(f'\\nEntradas: {cred_risk_df_clean.shape[0]}',\n",
    "      f'\\nVariáveis: {cred_risk_df_clean.shape[1]}')"
   ]
  },
  {
   "cell_type": "markdown",
   "metadata": {},
   "source": [
    "Variáveis que iremos imputar o valor da mediana:\n",
    "\n",
    "* `credit_limit`\n",
    "* `external_data_provider_email_seen_before`\n",
    "* `last_amount_borrowed`\n",
    "* `ok_since`\n",
    "\n",
    "Variáveis que iremos imputar o valor zero:\n",
    "\n",
    "* `last_borrowed_in_months`\n",
    "* `n_issues`\n",
    "* `n_bankruptcies`"
   ]
  },
  {
   "cell_type": "code",
   "execution_count": null,
   "metadata": {},
   "outputs": [],
   "source": [
    "# Instanciando os imputers numérico e categórico\n",
    "num_imputer = SimpleImputer(missing_values = np.nan, strategy = 'median')\n",
    "cat_imputer = SimpleImputer(missing_values = np.nan, strategy = 'most_frequent')\n",
    "\n",
    "# Colunas cujas entradas nulas serão preenchidas por zero \n",
    "cols_to_fill_0 = ['last_borrowed_in_months', 'n_issues', 'n_bankruptcies']\n",
    "isna = cred_risk_df[cols_to_fill_0].isna().sum()[0]\n",
    "\n",
    "# Substituir valores nulos por zero\n",
    "if isna > 0:\n",
    "   cred_risk_df.loc[:, cols_to_fill_0] = cred_risk_df.loc[:, cols_to_fill_0].replace({np.nan: 0})\n",
    "\n",
    "# Filtro de variáveis numéricas e categóricas\n",
    "num_cols = cred_risk_df.select_dtypes(include = 'float64').columns\n",
    "cat_cols = cred_risk_df.select_dtypes(include = 'object').columns\n",
    "\n",
    "median_cols = [col for col in num_cols if col not in cols_to_fill_0]\n",
    "isna_2 = cred_risk_df[median_cols].isna().sum()[-2]\n",
    "\n",
    "# Substituir valores nulos pela mediana\n",
    "if isna_2 > 0:\n",
    "    num_imputer = num_imputer.fit(cred_risk_df.loc[:, median_cols])\n",
    "    cred_risk_df.loc[:, median_cols] = num_imputer.transform(cred_risk_df.loc[:, median_cols])\n",
    "\n",
    "isna_3 = cred_risk_df['marketing_channel'].isna().sum()\n",
    "\n",
    "# Substituir valores nulos pela moda\n",
    "if isna_3 > 0:\n",
    "    cat_imputer = cat_imputer.fit(np.array(cred_risk_df.loc[:, 'marketing_channel']).reshape(-1, 1))\n",
    "    cred_risk_df.loc[:, 'marketing_channel'] = cat_imputer.transform(np.array(cred_risk_df.loc[:, 'marketing_channel']).reshape(-1, 1))"
   ]
  },
  {
   "cell_type": "markdown",
   "metadata": {},
   "source": [
    "### Feature Engineering de longitude e latitude"
   ]
  },
  {
   "cell_type": "code",
   "execution_count": null,
   "metadata": {},
   "outputs": [],
   "source": [
    "cred_risk_df_clean.loc[~cred_risk_df_clean['lat_lon'].isna(), 'latitude'] = cred_risk_df_clean.loc[~cred_risk_df_clean['lat_lon'].isna(), 'lat_lon'].apply(lambda j: str(j).split(',')[0].strip('()'))\n",
    "cred_risk_df_clean.loc[~cred_risk_df_clean['lat_lon'].isna(), 'longitude'] = cred_risk_df_clean.loc[~cred_risk_df_clean['lat_lon'].isna(), 'lat_lon'].apply(lambda j: str(j).split(',')[1].strip('()'))\n",
    "\n",
    "cred_risk_df_clean['latitude'] = cred_risk_df_clean['latitude'].astype('float64')\n",
    "cred_risk_df_clean['longitude'] = cred_risk_df_clean['longitude'].astype('float64')\n",
    "\n",
    "if 'lat_lon' in cred_risk_df_clean.columns.tolist():\n",
    "    cred_risk_df_clean.drop(columns = ['lat_lon'], axis = 1, inplace = True)"
   ]
  },
  {
   "cell_type": "code",
   "execution_count": null,
   "metadata": {},
   "outputs": [],
   "source": [
    "cred_risk_df_clean['latitude'].describe(), cred_risk_df_clean['longitude'].describe()"
   ]
  },
  {
   "cell_type": "code",
   "execution_count": null,
   "metadata": {},
   "outputs": [],
   "source": [
    "fig, ax = plt.subplots(figsize = (6, 6))\n",
    "\n",
    "sns.scatterplot(cred_risk_df_clean, \n",
    "                x = 'longitude', \n",
    "                y = 'latitude',\n",
    "                hue = 'target_default',\n",
    "                palette = 'BuPu',\n",
    "                alpha = .25)\n",
    "\n",
    "ax.set_title('Distribuição geográfica dos clientes por classe de inadimplência', fontsize = 14)\n",
    "ax.set_xlabel('Latitude', fontsize = 12)\n",
    "ax.set_ylabel('Longitude', fontsize = 12)\n",
    "\n",
    "ax.legend()\n",
    "\n",
    "fig.tight_layout()"
   ]
  },
  {
   "cell_type": "markdown",
   "metadata": {},
   "source": [
    "### Tipos das variáveis no conjunto de dados limpo"
   ]
  },
  {
   "cell_type": "code",
   "execution_count": null,
   "metadata": {},
   "outputs": [],
   "source": [
    "int_cols = ['ok_since', 'last_borrowed_in_months',\n",
    "            'credit_limit', 'n_issues',\n",
    "            'external_data_provider_email_seen_before',\n",
    "            'n_bankruptcies', 'n_defaulted_loans',\n",
    "            'n_accounts', 'reported_income',\n",
    "            'application_time_in_funnel', 'score_3']\n",
    "\n",
    "for col in int_cols:\n",
    "    cred_risk_df_clean.loc[:, col] = cred_risk_df_clean.loc[:, col].astype('int64')\n",
    "\n",
    "cred_risk_df_clean.dtypes"
   ]
  },
  {
   "cell_type": "code",
   "execution_count": null,
   "metadata": {},
   "outputs": [],
   "source": [
    "cred_risk_df_clean"
   ]
  }
 ],
 "metadata": {
  "kernelspec": {
   "display_name": ".venv",
   "language": "python",
   "name": "python3"
  },
  "language_info": {
   "codemirror_mode": {
    "name": "ipython",
    "version": 3
   },
   "file_extension": ".py",
   "mimetype": "text/x-python",
   "name": "python",
   "nbconvert_exporter": "python",
   "pygments_lexer": "ipython3",
   "version": "3.11.9"
  }
 },
 "nbformat": 4,
 "nbformat_minor": 2
}

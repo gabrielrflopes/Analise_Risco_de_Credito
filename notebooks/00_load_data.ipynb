{
 "cells": [
  {
   "cell_type": "markdown",
   "metadata": {},
   "source": [
    "## Bibliotecas"
   ]
  },
  {
   "cell_type": "markdown",
   "metadata": {},
   "source": [
    "Importar as bibliotecas `os`, `json` e `pandas`."
   ]
  },
  {
   "cell_type": "code",
   "execution_count": 35,
   "metadata": {},
   "outputs": [],
   "source": [
    "import os\n",
    "import json\n",
    "import pandas as pd"
   ]
  },
  {
   "cell_type": "markdown",
   "metadata": {},
   "source": [
    "## Carregar configurações"
   ]
  },
  {
   "cell_type": "markdown",
   "metadata": {},
   "source": [
    "Vamos utilizar o arquivo `.json` que armazena as configurações de caminho do conjunto de dados."
   ]
  },
  {
   "cell_type": "code",
   "execution_count": 17,
   "metadata": {},
   "outputs": [],
   "source": [
    "def load_config(config_path: str):\n",
    "    with open(config_path, 'r') as f:\n",
    "        config = json.load(f)\n",
    "\n",
    "    return config"
   ]
  },
  {
   "cell_type": "markdown",
   "metadata": {},
   "source": [
    "## Carregar conjunto de dados"
   ]
  },
  {
   "cell_type": "markdown",
   "metadata": {},
   "source": [
    "Vamos agora criar uma função para carregar os dados a partir do arquivo carregado de configurações."
   ]
  },
  {
   "cell_type": "code",
   "execution_count": 32,
   "metadata": {},
   "outputs": [],
   "source": [
    "def load_data(config):\n",
    "    directory = config['data_directory']\n",
    "    file_name = config['file_name']\n",
    "\n",
    "    if not os.path.exists(directory):\n",
    "        raise FileNotFoundError(f'Diretório não encontrado: {directory}')\n",
    "    \n",
    "    data_path = os.path.join(directory, file_name)\n",
    "    if not os.path.isfile(data_path):\n",
    "        raise FileNotFoundError(f'Arquivo não encontrado: {data_path}')\n",
    "\n",
    "    file_extension = os.path.splitext(file_name)[1].lower()\n",
    "\n",
    "    if file_extension == '.csv':\n",
    "        df = pd.read_csv(data_path)\n",
    "    if file_extension in ['.xlsx', '.xls']:\n",
    "        df = pd.read_excel(data_path)\n",
    "\n",
    "    return df"
   ]
  },
  {
   "cell_type": "code",
   "execution_count": 33,
   "metadata": {},
   "outputs": [],
   "source": [
    "# Carregar configurações\n",
    "config = load_config(r'C:\\Users\\gabri\\OneDrive\\Documentos\\Projetos Data Science\\DSNP\\Modulo_8\\config\\config.json')\n",
    "# Carregar dados\n",
    "df = load_data(config)"
   ]
  }
 ],
 "metadata": {
  "kernelspec": {
   "display_name": "projetos-ds",
   "language": "python",
   "name": "python3"
  },
  "language_info": {
   "codemirror_mode": {
    "name": "ipython",
    "version": 3
   },
   "file_extension": ".py",
   "mimetype": "text/x-python",
   "name": "python",
   "nbconvert_exporter": "python",
   "pygments_lexer": "ipython3",
   "version": "3.12.4"
  }
 },
 "nbformat": 4,
 "nbformat_minor": 2
}

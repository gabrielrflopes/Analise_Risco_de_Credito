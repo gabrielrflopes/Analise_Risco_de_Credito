{
 "cells": [
  {
   "cell_type": "markdown",
   "metadata": {},
   "source": [
    "## Bibliotecas"
   ]
  },
  {
   "cell_type": "markdown",
   "metadata": {},
   "source": [
    "Importação das bibliotecas necessárias para análise exploratória e limpeza de dados. Também é feita a importação do módulo `src` para acesso à funções desenvolvidas no módulo anterior.\n"
   ]
  },
  {
   "cell_type": "code",
   "execution_count": 352,
   "metadata": {},
   "outputs": [],
   "source": [
    "import os, sys\n",
    "# Análise exploratória e limpeza de dados\n",
    "import pandas as pd\n",
    "import numpy as np\n",
    "import matplotlib.pyplot as plt\n",
    "import seaborn as sns\n",
    "%matplotlib inline\n",
    "# Processamento de dados e modelagem\n",
    "from sklearn.preprocessing import LabelEncoder\n",
    "from sklearn.impute import SimpleImputer\n",
    "\n",
    "# Configuração do caminho do arquivo\n",
    "sys.path.append(os.path.abspath(os.path.join(os.getcwd(), '..')))\n",
    "from src.load_data import load_config, load_data\n",
    "\n",
    "import warnings\n",
    "warnings.filterwarnings('ignore')"
   ]
  },
  {
   "cell_type": "markdown",
   "metadata": {},
   "source": [
    "Primeiramente, vamos carregar os dados e configurar o caminho do arquivo. O print mostra as dimensões do dataset, de modo que tenhamos uma ideia de como o dataset está estruturado no que diz respeito ao número de entradas e variáveis.\n"
   ]
  },
  {
   "cell_type": "code",
   "execution_count": 353,
   "metadata": {},
   "outputs": [
    {
     "name": "stdout",
     "output_type": "stream",
     "text": [
      "Dimensões do dataset \n",
      "Entradas: 45000 \n",
      "Variáveis: 43\n",
      "\n",
      "Nome das colunas: ['ids', 'target_default', 'score_1', 'score_2', 'score_3', 'score_4', 'score_5', 'score_6', 'risk_rate', 'last_amount_borrowed', 'last_borrowed_in_months', 'credit_limit', 'reason', 'income', 'facebook_profile', 'state', 'zip', 'channel', 'job_name', 'real_state', 'ok_since', 'n_bankruptcies', 'n_defaulted_loans', 'n_accounts', 'n_issues', 'application_time_applied', 'application_time_in_funnel', 'email', 'external_data_provider_credit_checks_last_2_year', 'external_data_provider_credit_checks_last_month', 'external_data_provider_credit_checks_last_year', 'external_data_provider_email_seen_before', 'external_data_provider_first_name', 'external_data_provider_fraud_score', 'lat_lon', 'marketing_channel', 'profile_phone_number', 'reported_income', 'shipping_state', 'shipping_zip_code', 'profile_tags', 'user_agent', 'target_fraud']\n"
     ]
    }
   ],
   "source": [
    "# config_path = os.path.join(os.getcwd(), '..', 'config', 'config.json')\n",
    "config = load_config('../config/config.json')\n",
    "df = load_data(config)\n",
    "\n",
    "print('Dimensões do dataset',\n",
    "      f'\\nEntradas: {df.shape[0]}',\n",
    "      f'\\nVariáveis: {df.shape[1]}'\n",
    "      )\n",
    "\n",
    "print('\\nNome das colunas:', df.columns.tolist())"
   ]
  },
  {
   "cell_type": "markdown",
   "metadata": {},
   "source": [
    "### Dicionário de variáveis\n",
    "\n",
    "O dicionário de variáveis é uma ferramenta essencial para entender o significado de cada variável do dataset. Abaixo temos as variáveis do dataset, com uma breve descrição de cada uma.\n",
    "\n",
    "- `ids`: Identificadores únicos dos clientes (strings aleatórias)\n",
    "- `score_1, score_2`: Variáveis de pontuação codificadas (significado específico desconhecido)\n",
    "- `score_3, score_4, score_5, score_6`: Pontuações numéricas do cliente, potencialmente relacionadas à inadimplência\n",
    "- `risk_rate`: Probabilidade estimada de risco do cliente (valores entre 0 e 1)\n",
    "- `last_amount_borrowed`: Valor do último empréstimo do cliente\n",
    "- `last_borrowed_in_months`: Meses desde o último empréstimo (36, 60 ou nan)\n",
    "- `credit_limit`: Limite de crédito do cliente\n",
    "- `income`: Renda anual do cliente\n",
    "- `state, zip, channel, job_name, real_state`: Dados demográficos e profissionais codificados\n",
    "- `n_bankruptcies`: Número de falências registradas (0-5 ou nan)\n",
    "- `n_defaulted_loans`: Número de empréstimos inadimplentes (0-5 ou nan)\n",
    "- `n_accounts`: Número de contas do cliente (inteiro)\n",
    "- `n_issues`: Número de problemas registrados (inteiro)\n",
    "- `application_time_applied`: Tempo de processamento da aplicação (em horas)\n",
    "- `email`: Provedor de e-mail do cliente\n",
    "- `external_data_provider_credit_checks_last_2_year`: Verificações de crédito nos últimos 2 anos (0 ou nan)\n",
    "- `external_data_provider_credit_checks_last_year`: Verificações de crédito no último ano (0, 1 ou nan)\n",
    "- `external_data_provider_credit_checks_last_month`: Verificações de crédito no último mês (0-3)\n",
    "- `external_data_provider_email_seen_before`: Indicador de e-mail previamente registrado (-999, nan ou outros valores)\n",
    "- `external_data_provider_first_name`: Primeiro nome do cliente\n",
    "- `external_data_provider_fraud_score`: Pontuação de risco de fraude (fora do escopo do projeto)\n",
    "- `lat_lon`: Coordenadas geográficas (latitude, longitude)\n",
    "- `marketing_channel`: Origem da aquisição do cliente (e-mail, rádio, site, etc.)\n",
    "- `profile_phone_number`: Número de telefone do cliente\n",
    "- `reported_income`: Renda declarada pelo cliente (float)\n",
    "- `shipping_state`: Estado de residência do cliente (ex: BR-MG, BR-SP)\n",
    "- `shipping_zip_code`: CEP do cliente (inteiro)\n",
    "- `profile_tags`: Tags de identificação do cliente (dicionário em formato string)\n",
    "- `user_agent`: Informações sobre o dispositivo/navegador usado\n",
    "- `target_fraud`: Indicador de transação fraudulenta (fora do escopo do projeto)\n",
    "- `target_default`: Variável alvo - indica se o cliente é inadimplente (True, False ou nan)"
   ]
  },
  {
   "cell_type": "markdown",
   "metadata": {},
   "source": [
    "### Análise da variável-alvo\n",
    "\n",
    "A variável-alvo `target_default` é a variável que queremos prever. Ela indica se o cliente é inadimplente (True) ou não (False). Vamos analisar a distribuição dessa variável."
   ]
  },
  {
   "cell_type": "code",
   "execution_count": 354,
   "metadata": {},
   "outputs": [
    {
     "name": "stdout",
     "output_type": "stream",
     "text": [
      "Valores na variável target_default: [False True nan]\n"
     ]
    }
   ],
   "source": [
    "print('Valores na variável target_default:', df['target_default'].unique())\n"
   ]
  },
  {
   "cell_type": "markdown",
   "metadata": {},
   "source": [
    "A variável target_default possui 3 valores distintos. Um deles se trata de valores nulos. Vamos ver como está a distribuição desses valores.\n"
   ]
  },
  {
   "cell_type": "code",
   "execution_count": 355,
   "metadata": {},
   "outputs": [
    {
     "name": "stdout",
     "output_type": "stream",
     "text": [
      "Valores nulos na variável target_default: 3259\n",
      "Proporção de nulos na variável target_default: 7.24 %\n"
     ]
    }
   ],
   "source": [
    "target_na = df['target_default'].isna().sum()\n",
    "\n",
    "print(f'Valores nulos na variável target_default: {target_na}')\n",
    "print(f'Proporção de nulos na variável target_default: {(target_na * 100/ df.__len__()).round(2)} %')"
   ]
  },
  {
   "cell_type": "markdown",
   "metadata": {},
   "source": [
    "Temos uma proporção de 7,24% de valores nulos no alvo. Apesar de não ser uma quantidade desprezível de valores nulos, ela não é suficiente para causar um problema na modelagem. Vamos remover essas entradas do dataset.\n"
   ]
  },
  {
   "cell_type": "code",
   "execution_count": 356,
   "metadata": {},
   "outputs": [],
   "source": [
    "def remove_target_nan(df: pd.DataFrame, verbose=True):\n",
    "    df_clean = df.copy()\n",
    "\n",
    "    nan_idx = df_clean.loc[df_clean['target_default'].isna()].index\n",
    "\n",
    "    df_clean.drop(index = nan_idx, axis = 0, inplace = True)\n",
    "    if verbose:\n",
    "        print('Valores nulos removidos!')\n",
    "\n",
    "    return df_clean"
   ]
  },
  {
   "cell_type": "code",
   "execution_count": 357,
   "metadata": {},
   "outputs": [
    {
     "name": "stdout",
     "output_type": "stream",
     "text": [
      "Valores nulos removidos!\n"
     ]
    }
   ],
   "source": [
    "df_clean = remove_target_nan(df)"
   ]
  },
  {
   "cell_type": "markdown",
   "metadata": {},
   "source": [
    "Agora podemos olhar para a distribuição da variável target_default, visualizando as proporções de cada classe sem a influência dos valores nulos.\n"
   ]
  },
  {
   "cell_type": "code",
   "execution_count": 358,
   "metadata": {},
   "outputs": [
    {
     "name": "stdout",
     "output_type": "stream",
     "text": [
      "Distribuição das classes:\n",
      "\n",
      "target_default\n",
      "False    35080\n",
      "True      6661\n",
      "Name: count, dtype: int64\n",
      "\n",
      "Proporção no conjunto: \n",
      "\n",
      "False: \t84.04 % \n",
      "True: \t15.96 %\n"
     ]
    }
   ],
   "source": [
    "print('Distribuição das classes:\\n')\n",
    "\n",
    "class_count = df_clean['target_default'].value_counts()\n",
    "\n",
    "print(class_count)\n",
    "\n",
    "print('\\nProporção no conjunto: \\n')\n",
    "\n",
    "class_0 = (class_count.iloc[0] * 100/ df_clean.__len__()).round(2)\n",
    "class_1 = (class_count.iloc[1] * 100/ df_clean.__len__()).round(2)\n",
    "\n",
    "print(f'False: \\t{class_0} %',\n",
    "      f'\\nTrue: \\t{class_1} %')"
   ]
  },
  {
   "cell_type": "markdown",
   "metadata": {},
   "source": [
    "Fazendo uma análise dessas proporções entre as classes, vemos que se trata de uma distribuição desbalanceada. A classe False (não inadimplente) possui uma proporção de 84,04% no conjunto de dados, enquanto a classe True (inadimplente) possui apenas 15,96% de proporção.\n",
    "\n",
    "Através de um gráfico de barras, podemos visualizar melhor a proporção entre as classes.\n"
   ]
  },
  {
   "cell_type": "code",
   "execution_count": 359,
   "metadata": {},
   "outputs": [
    {
     "data": {
      "image/png": "[encoded data removed]",
      "text/plain": [
       "<Figure size 1000x600 with 1 Axes>"
      ]
     },
     "metadata": {},
     "output_type": "display_data"
    }
   ],
   "source": [
    "fig, ax = plt.subplots(figsize = (10, 6))\n",
    "\n",
    "sns.countplot(x = 'target_default', data = df_clean, palette = 'Blues', ax = ax)\n",
    "\n",
    "ax.set_title('Distribuição da variável target_default', fontsize = 14)\n",
    "\n",
    "ax.set_xlabel('target_default', fontsize = 12)\n",
    "ax.set_ylabel('Frequência', fontsize = 12)\n",
    "\n",
    "ax.set_xticklabels(['False', 'True'], fontsize = 12)\n",
    "\n",
    "fig.tight_layout()"
   ]
  },
  {
   "cell_type": "markdown",
   "metadata": {},
   "source": [
    "Podemos realizar um pré-processamento da variável target_default, criando uma nova variável binária que indica 1 para os valores True e 0 para os valores False. Esse processamento ajudará na fase de modelagem, uma vez que muitos modelos de classificação lidam melhor com variáveis binárias.\n",
    "\n",
    "Para a codificação da variável target_default, utilizaremos o LabelEncoder da biblioteca `sklearn`.\n"
   ]
  },
  {
   "cell_type": "code",
   "execution_count": 360,
   "metadata": {},
   "outputs": [],
   "source": [
    "def apply_label_encoder(df: pd.DataFrame, verbose=True):\n",
    "    df_clean = df.copy()\n",
    "\n",
    "    le = LabelEncoder()\n",
    "    le.fit(df_clean['target_default'])\n",
    "\n",
    "    df_clean['target_default'] = le.transform(df_clean['target_default'])\n",
    "    \n",
    "    if verbose and [0, 1] in df_clean['target_default'].unique():\n",
    "        print('LabelEncoder aplicado!')\n",
    "\n",
    "    return df_clean"
   ]
  },
  {
   "cell_type": "code",
   "execution_count": 361,
   "metadata": {},
   "outputs": [
    {
     "name": "stdout",
     "output_type": "stream",
     "text": [
      "LabelEncoder aplicado!\n"
     ]
    }
   ],
   "source": [
    "df_clean = apply_label_encoder(df_clean)"
   ]
  },
  {
   "cell_type": "markdown",
   "metadata": {},
   "source": [
    "Agora temos uma variável binária que indica 1 para os valores True e 0 para os valores False.\n",
    "\n",
    "Nesta seção, realizamos a limpeza e preparação dos dados para a modelagem, focando na variável alvo, removendo valores nulos e criando uma variável binária para a modelagem.\n"
   ]
  },
  {
   "cell_type": "markdown",
   "metadata": {},
   "source": [
    "### Valores únicos\n",
    "\n",
    "Outro ponto importante que devemos nos atentar é com relação à cardinalidade das variáveis. Atributos que possuem poucos valores únicos podem ser processados de modo a simplificar a representação das categorias. Por exemplo, variáveis categóricas com baixa cardinalidade podem ser codificadas usando one-hot encoding ou label encoding, dependendo da natureza da variável e do modelo a ser utilizado.\n",
    "\n",
    "Por outro lado, variáveis com alta cardinalidade (muitos valores únicos) podem precisar de tratamentos especiais, como agrupamento de categorias menos frequentes ou uso de técnicas de embedding para reduzir a dimensionalidade. Isso ajuda a evitar problemas como overfitting e melhora a eficiência computacional do modelo.\n",
    "\n",
    "Vamos analisar a cardinalidade das nossas variáveis para determinar quais estratégias de processamento serão mais apropriadas para cada uma delas."
   ]
  },
  {
   "cell_type": "code",
   "execution_count": 362,
   "metadata": {},
   "outputs": [
    {
     "data": {
      "text/plain": [
       "external_data_provider_credit_checks_last_2_year     1\n",
       "channel                                              1\n",
       "target_fraud                                         2\n",
       "target_default                                       2\n",
       "external_data_provider_credit_checks_last_year       2\n",
       "facebook_profile                                     2\n",
       "last_borrowed_in_months                              2\n",
       "external_data_provider_credit_checks_last_month      4\n",
       "n_defaulted_loans                                    5\n",
       "real_state                                           5\n",
       "email                                                6\n",
       "n_bankruptcies                                       6\n",
       "score_1                                              7\n",
       "marketing_channel                                    9\n",
       "shipping_state                                      25\n",
       "dtype: int64"
      ]
     },
     "execution_count": 362,
     "metadata": {},
     "output_type": "execute_result"
    }
   ],
   "source": [
    "df_clean.nunique().sort_values()[:15]"
   ]
  },
  {
   "cell_type": "markdown",
   "metadata": {},
   "source": [
    "Para as variáveis que possuem mais do que um valor único, iremos aplicar posteriormente o TargetEncoder. Para as que possuem apenas uma única categoria, iremos remover do conjunto de dados.\n"
   ]
  },
  {
   "cell_type": "markdown",
   "metadata": {},
   "source": [
    "### Tratamento de valores nulos"
   ]
  },
  {
   "cell_type": "markdown",
   "metadata": {},
   "source": [
    "Seguindo o processo de tratamento e limpeza dos dados, vamos verificar os valores nulos no conjunto de dados como um todo."
   ]
  },
  {
   "cell_type": "code",
   "execution_count": 363,
   "metadata": {},
   "outputs": [
    {
     "name": "stdout",
     "output_type": "stream",
     "text": [
      "Quantidade de valores nulos (%):\n",
      "\n",
      "target_fraud                                        96.75%\n",
      "last_amount_borrowed                                66.14%\n",
      "last_borrowed_in_months                             66.14%\n",
      "ok_since                                            58.61%\n",
      "external_data_provider_credit_checks_last_2_year    50.38%\n",
      "external_data_provider_credit_checks_last_year      33.59%\n",
      "credit_limit                                        31.41%\n",
      "n_issues                                            26.17%\n",
      "facebook_profile                                     9.95%\n",
      "marketing_channel                                    7.93%\n",
      "job_name                                             6.27%\n",
      "external_data_provider_email_seen_before             5.00%\n",
      "lat_lon                                              3.02%\n",
      "user_agent                                           1.57%\n",
      "n_bankruptcies                                       0.32%\n",
      "n_defaulted_loans                                    0.03%\n",
      "reason                                               0.01%\n",
      "state                                                0.00%\n",
      "score_5                                              0.00%\n",
      "score_1                                              0.00%\n",
      "dtype: object\n"
     ]
    }
   ],
   "source": [
    "na_values = (df_clean.isna().sum() / len(df_clean)).sort_values(ascending = False)\n",
    "\n",
    "print('Quantidade de valores nulos (%):\\n')\n",
    "print(na_values.head(20).apply(lambda x: f'{x:.2%}'))"
   ]
  },
  {
   "cell_type": "markdown",
   "metadata": {},
   "source": [
    "Vamos visualizar as variáveis que não possuem nenhum valor nulo:"
   ]
  },
  {
   "cell_type": "code",
   "execution_count": 364,
   "metadata": {},
   "outputs": [
    {
     "data": {
      "text/plain": [
       "state                                              0.0\n",
       "score_5                                            0.0\n",
       "score_1                                            0.0\n",
       "profile_tags                                       0.0\n",
       "shipping_zip_code                                  0.0\n",
       "shipping_state                                     0.0\n",
       "reported_income                                    0.0\n",
       "profile_phone_number                               0.0\n",
       "score_2                                            0.0\n",
       "score_3                                            0.0\n",
       "external_data_provider_fraud_score                 0.0\n",
       "external_data_provider_first_name                  0.0\n",
       "score_4                                            0.0\n",
       "external_data_provider_credit_checks_last_month    0.0\n",
       "zip                                                0.0\n",
       "score_6                                            0.0\n",
       "email                                              0.0\n",
       "application_time_in_funnel                         0.0\n",
       "application_time_applied                           0.0\n",
       "risk_rate                                          0.0\n",
       "n_accounts                                         0.0\n",
       "target_default                                     0.0\n",
       "real_state                                         0.0\n",
       "income                                             0.0\n",
       "channel                                            0.0\n",
       "ids                                                0.0\n",
       "dtype: float64"
      ]
     },
     "execution_count": 364,
     "metadata": {},
     "output_type": "execute_result"
    }
   ],
   "source": [
    "na_values[-26:]"
   ]
  },
  {
   "cell_type": "markdown",
   "metadata": {},
   "source": [
    "Temos portanto 26 variáveis que não possuem entradas ausentes, enquanto 17 possuem algum percentual de valores ausentes. Dentre estas, temos variáveis que não fazem parte do escopo do projeto, mas dizem respeito à detecção de fraudes (`target_fraud` e `external_data_provider_fraud_score`).\n",
    "\n",
    "Estas e outras que possuem pouco poder preditivo, ou são de difícil interpretabilidade, serão removidas, de modo que não precisaremos nos preocupar com seus valores ausentes."
   ]
  },
  {
   "cell_type": "markdown",
   "metadata": {},
   "source": [
    "#### Remover colunas\n",
    "\n",
    "A função abaixo é responsável por remover todos os atributos cujos dados são de difícil interpretação ou baixo poder preditivo. \n",
    "\n",
    "Algumas variáveis codificadas também serão removidas pela questão da intepretabilidade."
   ]
  },
  {
   "cell_type": "code",
   "execution_count": 365,
   "metadata": {},
   "outputs": [],
   "source": [
    "cols_to_drop = [\n",
    "        'target_fraud', 'external_data_provider_fraud_score',\n",
    "        'ids', 'email', 'external_data_provider_first_name',\n",
    "        'profile_phone_number', 'profile_tags', 'facebook_profile',\n",
    "        'user_agent', 'state', 'zip', 'job_name', 'channel',\n",
    "        'shipping_zip_code', \n",
    "        'external_data_provider_credit_checks_last_month',\n",
    "        'application_time_applied', 'reason', 'real_state', \n",
    "        'external_data_provider_credit_checks_last_year',\n",
    "        'external_data_provider_credit_checks_last_2_year'\n",
    "        ]"
   ]
  },
  {
   "cell_type": "code",
   "execution_count": 366,
   "metadata": {},
   "outputs": [],
   "source": [
    "def remove_cols(df: pd.DataFrame, cols_to_drop: list, verbose=True) -> pd.DataFrame:\n",
    "    \"\"\"\n",
    "    Remove colunas especificadas do DataFrame e imprime as novas dimensões.\n",
    "    \n",
    "    Args:\n",
    "        df (pd.DataFrame): DataFrame de entrada.\n",
    "    \n",
    "    Returns:\n",
    "        pd.DataFrame: DataFrame com as colunas especificadas removidas.\n",
    "    \"\"\"\n",
    "    # Criar cópia para backup\n",
    "    df_cleaned = df.copy()\n",
    "\n",
    "    # Remover colunas com valores ausentes\n",
    "    df_cleaned = df.drop(columns=cols_to_drop, axis=1)\n",
    "    # Remover entradas ausentes na coluna lat_lon\n",
    "    idx = df_cleaned.loc[df_cleaned['lat_lon'].isna()].index\n",
    "    df_cleaned = df_cleaned.drop(index = idx, axis = 0)\n",
    "    df_cleaned = df_cleaned.reset_index(drop = True)\n",
    "    \n",
    "    if verbose:\n",
    "        # Imprimir dimensões do conjunto limpo\n",
    "        print(\n",
    "            'Dimensão do conjunto limpo:',\n",
    "            f'\\nEntradas: {df_cleaned.shape[0]}',\n",
    "            f'\\nVariáveis: {df_cleaned.shape[1]}'\n",
    "        )\n",
    "        \n",
    "        # Print das colunas removidas\n",
    "        print(f'\\nColunas removidas: {\", \".join(cols_to_drop)}')\n",
    "    \n",
    "    return df_cleaned"
   ]
  },
  {
   "cell_type": "code",
   "execution_count": 367,
   "metadata": {},
   "outputs": [
    {
     "name": "stdout",
     "output_type": "stream",
     "text": [
      "Dimensão do conjunto limpo: \n",
      "Entradas: 40479 \n",
      "Variáveis: 23\n",
      "\n",
      "Colunas removidas: target_fraud, external_data_provider_fraud_score, ids, email, external_data_provider_first_name, profile_phone_number, profile_tags, facebook_profile, user_agent, state, zip, job_name, channel, shipping_zip_code, external_data_provider_credit_checks_last_month, application_time_applied, reason, real_state, external_data_provider_credit_checks_last_year, external_data_provider_credit_checks_last_2_year\n"
     ]
    }
   ],
   "source": [
    "df_clean = remove_cols(df_clean, cols_to_drop)"
   ]
  },
  {
   "cell_type": "code",
   "execution_count": 368,
   "metadata": {},
   "outputs": [],
   "source": [
    "def nan_report(df: pd.DataFrame):\n",
    "    # Verificar valores NA\n",
    "    na_counts = df.isna().sum()\n",
    "    na_percentages = (na_counts / len(df)) * 100\n",
    "\n",
    "    # Criar um DataFrame para exibir contagens e percentuais de NA\n",
    "    na_summary = pd.DataFrame({\n",
    "        'Contagem NaN': na_counts,\n",
    "        'Percentual NaN': na_percentages.round(2)\n",
    "    })\n",
    "\n",
    "    # Ordenar o resumo pelo percentual de NA em ordem decrescente\n",
    "    na_summary_sorted = na_summary.sort_values('Percentual NaN', ascending=False)\n",
    "\n",
    "    # Exibir o resumo\n",
    "    print(\"Resumo dos valores NaN:\")\n",
    "    print(na_summary_sorted)"
   ]
  },
  {
   "cell_type": "code",
   "execution_count": 369,
   "metadata": {},
   "outputs": [
    {
     "name": "stdout",
     "output_type": "stream",
     "text": [
      "Resumo dos valores NaN:\n",
      "                                          Contagem NaN  Percentual NaN\n",
      "last_amount_borrowed                             26783           66.17\n",
      "last_borrowed_in_months                          26783           66.17\n",
      "ok_since                                         23705           58.56\n",
      "credit_limit                                     12722           31.43\n",
      "n_issues                                         10603           26.19\n",
      "marketing_channel                                 3211            7.93\n",
      "external_data_provider_email_seen_before          2026            5.01\n",
      "n_bankruptcies                                     133            0.33\n",
      "n_defaulted_loans                                   12            0.03\n",
      "target_default                                       0            0.00\n",
      "reported_income                                      0            0.00\n",
      "lat_lon                                              0            0.00\n",
      "application_time_in_funnel                           0            0.00\n",
      "n_accounts                                           0            0.00\n",
      "income                                               0            0.00\n",
      "score_1                                              0            0.00\n",
      "risk_rate                                            0            0.00\n",
      "score_6                                              0            0.00\n",
      "score_5                                              0            0.00\n",
      "score_4                                              0            0.00\n",
      "score_3                                              0            0.00\n",
      "score_2                                              0            0.00\n",
      "shipping_state                                       0            0.00\n"
     ]
    }
   ],
   "source": [
    "nan_report(df_clean)"
   ]
  },
  {
   "cell_type": "markdown",
   "metadata": {},
   "source": [
    "#### Imputar valores"
   ]
  },
  {
   "cell_type": "markdown",
   "metadata": {},
   "source": [
    "Para tratar o restante dos valores nulos, iremos imputar valores da mediana ou zero nas variáveis numéricas. Para as categóricas, iremos imputar valores relacionados à moda do atributo.\n",
    "\n",
    "#### Variáveis numéricas\n",
    "\n",
    "As variáveis para imputar a mediana são:\n",
    "\n",
    "* `ok_since`\n",
    "* `n_issues`\n",
    "* `credit_limit`\n",
    "* `external_data_provider_email_seen_before`\n",
    "\n",
    "Variáveis que iremos imputar o valor zero:\n",
    "\n",
    "* `last_amount_borrowed`\n",
    "* `last_borrowed_in_months`\n",
    "* `n_bankrupticies`\n",
    "* `n_defaulted_loans`"
   ]
  },
  {
   "cell_type": "markdown",
   "metadata": {},
   "source": [
    "> Para maiores detalhes da escolha de quais atributos imputar mediana, veja etapa de AED."
   ]
  },
  {
   "cell_type": "code",
   "execution_count": 370,
   "metadata": {},
   "outputs": [],
   "source": [
    "def numerical_imputer(df: pd.DataFrame, verbose=True) -> pd.DataFrame:\n",
    "    df_num = df.copy()\n",
    "    # Instanciar o objeto para imputar valores da mediana\n",
    "    num_imputer = SimpleImputer(missing_values = np.nan, strategy = 'median')\n",
    "\n",
    "    # Selecionando as colunas para preencher com zero\n",
    "    cols_to_fill_0 = ['last_amount_borrowed', 'last_borrowed_in_months', 'n_defaulted_loans', 'n_bankruptcies']\n",
    "    df_num.loc[:, cols_to_fill_0] = df_num.loc[:, cols_to_fill_0].fillna(value = 0)\n",
    "\n",
    "    # Filtrando os atributos numéricos\n",
    "    num_cols = df_num.select_dtypes(exclude = 'O').columns\n",
    "    # Filtrar colunas numéricas com valores NaN\n",
    "    nan_cols = [col for col in num_cols if df_num[col].isna().any()]\n",
    "    \n",
    "    if nan_cols:\n",
    "        # Ajustar e transformar apenas colunas com valores NaN\n",
    "        num_imputer = num_imputer.fit(df_num.loc[:, nan_cols])\n",
    "        df_num.loc[:, nan_cols] = num_imputer.transform(df_num.loc[:, nan_cols])\n",
    "        if verbose:\n",
    "            print(f\"Colunas imputadas: {', '.join(nan_cols)}\")\n",
    "    elif verbose:\n",
    "        print(\"Nenhuma coluna numérica com valores NaN encontrada.\")\n",
    "    \n",
    "    return df_num"
   ]
  },
  {
   "cell_type": "code",
   "execution_count": 371,
   "metadata": {},
   "outputs": [
    {
     "name": "stdout",
     "output_type": "stream",
     "text": [
      "Colunas imputadas: credit_limit, ok_since, n_issues, external_data_provider_email_seen_before\n"
     ]
    }
   ],
   "source": [
    "df_proc = numerical_imputer(df_clean)"
   ]
  },
  {
   "cell_type": "code",
   "execution_count": 372,
   "metadata": {},
   "outputs": [
    {
     "name": "stdout",
     "output_type": "stream",
     "text": [
      "Resumo dos valores NaN:\n",
      "                                          Contagem NaN  Percentual NaN\n",
      "marketing_channel                                 3211            7.93\n",
      "target_default                                       0            0.00\n",
      "ok_since                                             0            0.00\n",
      "reported_income                                      0            0.00\n",
      "lat_lon                                              0            0.00\n",
      "external_data_provider_email_seen_before             0            0.00\n",
      "application_time_in_funnel                           0            0.00\n",
      "n_issues                                             0            0.00\n",
      "n_accounts                                           0            0.00\n",
      "n_defaulted_loans                                    0            0.00\n",
      "n_bankruptcies                                       0            0.00\n",
      "income                                               0            0.00\n",
      "score_1                                              0            0.00\n",
      "credit_limit                                         0            0.00\n",
      "last_borrowed_in_months                              0            0.00\n",
      "last_amount_borrowed                                 0            0.00\n",
      "risk_rate                                            0            0.00\n",
      "score_6                                              0            0.00\n",
      "score_5                                              0            0.00\n",
      "score_4                                              0            0.00\n",
      "score_3                                              0            0.00\n",
      "score_2                                              0            0.00\n",
      "shipping_state                                       0            0.00\n"
     ]
    }
   ],
   "source": [
    "nan_report(df_proc)"
   ]
  },
  {
   "cell_type": "markdown",
   "metadata": {},
   "source": [
    "Note que agora só temos a variável categórica `marketing_channel` e o atributo referente à latitude e longitude para imputar valores."
   ]
  },
  {
   "cell_type": "markdown",
   "metadata": {},
   "source": [
    "#### Variáveis categóricas"
   ]
  },
  {
   "cell_type": "code",
   "execution_count": 373,
   "metadata": {},
   "outputs": [],
   "source": [
    "def cat_imputer(df: pd.DataFrame, verbose=True) -> pd.DataFrame:\n",
    "    df_cat = df.copy()\n",
    "    # Instanciando o objeto para imputar valores baseados na moda\n",
    "    cat_imputer = SimpleImputer(missing_values = np.nan, strategy = 'most_frequent')\n",
    "\n",
    "    # Filtro para variáveis categóricas\n",
    "    cat_cols = df_cat.select_dtypes(include = 'O').columns\n",
    "\n",
    "    if verbose:\n",
    "        print(f'Colunas categóricas: {cat_cols}')\n",
    "    nan_cols = [col for col in cat_cols if df_cat[col].isna().any()]\n",
    "\n",
    "    if nan_cols:\n",
    "        # Ajustar e transformar apenas colunas com valores NaN\n",
    "        cat_imputer = cat_imputer.fit(df_cat.loc[:, nan_cols])\n",
    "        df_cat.loc[:, nan_cols] = cat_imputer.transform(df_cat.loc[:, nan_cols])\n",
    "        if verbose:\n",
    "            print(f\"Colunas imputadas: {', '.join(nan_cols)}\")\n",
    "    elif verbose:\n",
    "        print(\"Nenhuma coluna categórica com valores NaN encontrada.\")\n",
    "\n",
    "    return df_cat"
   ]
  },
  {
   "cell_type": "code",
   "execution_count": 374,
   "metadata": {},
   "outputs": [
    {
     "name": "stdout",
     "output_type": "stream",
     "text": [
      "Colunas categóricas: Index(['score_1', 'score_2', 'lat_lon', 'marketing_channel', 'shipping_state'], dtype='object')\n",
      "Colunas imputadas: marketing_channel\n"
     ]
    }
   ],
   "source": [
    "df_proc = cat_imputer(df_proc)"
   ]
  },
  {
   "cell_type": "code",
   "execution_count": 375,
   "metadata": {},
   "outputs": [],
   "source": [
    "def impute_nans(df: pd.DataFrame, verbose = True) -> pd.DataFrame:\n",
    "    df_proc = df.copy()\n",
    "    # Imputar atributos numéricos\n",
    "    df_proc = numerical_imputer(df_proc, verbose = verbose)\n",
    "    # Imputar atributos categóricos\n",
    "    df_proc = cat_imputer(df_proc, verbose = verbose)\n",
    "\n",
    "    return df_proc"
   ]
  },
  {
   "cell_type": "code",
   "execution_count": 376,
   "metadata": {},
   "outputs": [
    {
     "name": "stdout",
     "output_type": "stream",
     "text": [
      "Resumo dos valores NaN:\n",
      "                                          Contagem NaN  Percentual NaN\n",
      "target_default                                       0             0.0\n",
      "ok_since                                             0             0.0\n",
      "reported_income                                      0             0.0\n",
      "marketing_channel                                    0             0.0\n",
      "lat_lon                                              0             0.0\n",
      "external_data_provider_email_seen_before             0             0.0\n",
      "application_time_in_funnel                           0             0.0\n",
      "n_issues                                             0             0.0\n",
      "n_accounts                                           0             0.0\n",
      "n_defaulted_loans                                    0             0.0\n",
      "n_bankruptcies                                       0             0.0\n",
      "income                                               0             0.0\n",
      "score_1                                              0             0.0\n",
      "credit_limit                                         0             0.0\n",
      "last_borrowed_in_months                              0             0.0\n",
      "last_amount_borrowed                                 0             0.0\n",
      "risk_rate                                            0             0.0\n",
      "score_6                                              0             0.0\n",
      "score_5                                              0             0.0\n",
      "score_4                                              0             0.0\n",
      "score_3                                              0             0.0\n",
      "score_2                                              0             0.0\n",
      "shipping_state                                       0             0.0\n"
     ]
    }
   ],
   "source": [
    "nan_report(df_proc)"
   ]
  },
  {
   "cell_type": "markdown",
   "metadata": {},
   "source": [
    "Todas as entradas com valores nulos foram tratadas."
   ]
  },
  {
   "cell_type": "markdown",
   "metadata": {},
   "source": [
    "### Feature Engerineering"
   ]
  },
  {
   "cell_type": "code",
   "execution_count": 377,
   "metadata": {},
   "outputs": [
    {
     "data": {
      "text/plain": [
       "0          (-29.151545708122246, -51.1386461804385)\n",
       "1         (-19.687710705798963, -47.94151536525154)\n",
       "2        (-28.748023890412284, -51.867279334353995)\n",
       "3         (-17.520650158450454, -39.75801139933186)\n",
       "4         (-16.574259446978008, -39.90990074785962)\n",
       "                            ...                    \n",
       "40474    (-22.486891256430695, -44.909010639017616)\n",
       "40475     (-12.881449687799003, -46.43545330884514)\n",
       "40476    (-23.888982131800983, -50.645313285616645)\n",
       "40477       (-5.14769885524928, -37.98386842511541)\n",
       "40478      (-23.13900985246712, -52.29465769715389)\n",
       "Name: lat_lon, Length: 40479, dtype: object"
      ]
     },
     "execution_count": 377,
     "metadata": {},
     "output_type": "execute_result"
    }
   ],
   "source": [
    "df_proc['lat_lon']"
   ]
  },
  {
   "cell_type": "markdown",
   "metadata": {},
   "source": [
    "#### Latitude e Longitude"
   ]
  },
  {
   "cell_type": "code",
   "execution_count": 378,
   "metadata": {},
   "outputs": [],
   "source": [
    "def apply_feature_engineering(df: pd.DataFrame, verbose = True) -> pd.DataFrame:\n",
    "    import time\n",
    "    df_fe = df.copy()\n",
    "\n",
    "    # Criar os dois novos atributos\n",
    "    df_fe[['latitude', 'longitude']] = df_fe['lat_lon'].str.strip('()').str.split(',', expand= True)\n",
    "\n",
    "    # Transformando o tipo das colunas novas para float\n",
    "    df_fe['latitude'] = df_fe['latitude'].astype(float)\n",
    "    df_fe['longitude'] = df_fe['longitude'].astype(float)\n",
    "\n",
    "    time.sleep(2)\n",
    "    if 'latitude' in df_fe.columns and 'longitude' in df_fe.columns:\n",
    "        # Remover a coluna original e a última entrada criada\n",
    "        df_fe.drop(columns=['lat_lon'], axis=1, inplace=True)\n",
    "        if verbose:\n",
    "            print('Atributos \"latitude\" e \"longitude\" criados!')\n",
    "    elif verbose:\n",
    "        print('Erro: Variáveis não criadas.')\n",
    "\n",
    "    # Padronizar as entradas em shipping state (BR-RS -> RS)\n",
    "    df_fe['shipping_state'] = df_fe['shipping_state'].str.split('-', expand = True)[1]\n",
    "\n",
    "    return df_fe"
   ]
  },
  {
   "cell_type": "code",
   "execution_count": 379,
   "metadata": {},
   "outputs": [
    {
     "name": "stdout",
     "output_type": "stream",
     "text": [
      "Atributos \"latitude\" e \"longitude\" criados!\n"
     ]
    }
   ],
   "source": [
    "df_final = apply_feature_engineering(df_proc)"
   ]
  },
  {
   "cell_type": "markdown",
   "metadata": {},
   "source": [
    "### Processamento e Limpeza de Dados Completos\n",
    "\n",
    "Nesta seção, realizamos uma limpeza e processamento abrangentes dos dados. Criamos uma função `process_data` que encapsula todas as etapas de limpeza e transformação desenvolvidas anteriormente. Esta função realiza as seguintes operações:\n",
    "\n",
    "1. Remove valores nulos da variável-alvo\n",
    "2. Aplica codificação de rótulos à variável-alvo\n",
    "3. Remove colunas desnecessárias\n",
    "4. Imputa valores ausentes em variáveis numéricas e categóricas\n",
    "5. Aplica engenharia de features, incluindo a separação de coordenadas geográficas\n",
    "\n",
    "A função `process_data` recebe o DataFrame bruto como entrada e retorna um DataFrame final limpo e processado, pronto para análises avançadas e modelagem. Esta abordagem centralizada facilita a reprodutibilidade e a manutenção do nosso pipeline de processamento de dados."
   ]
  },
  {
   "cell_type": "code",
   "execution_count": 380,
   "metadata": {},
   "outputs": [],
   "source": [
    "def process_data(df):\n",
    "    \"\"\"\n",
    "    Agrega todas as etapas de limpeza e processamento de dados.\n",
    "    \n",
    "    Args:\n",
    "    df (pd.DataFrame): O DataFrame de entrada bruto.\n",
    "    \n",
    "    Returns:\n",
    "    pd.DataFrame: O DataFrame processado e limpo com colunas de engenharia de features.\n",
    "    \"\"\"\n",
    "    # Remove valores NaN da variável alvo\n",
    "    df = remove_target_nan(df, verbose=False)\n",
    "    \n",
    "    # Aplica codificação de rótulos à variável alvo\n",
    "    df = apply_label_encoder(df, verbose=False)\n",
    "    \n",
    "    # Remove colunas desnecessárias\n",
    "    cols_to_drop = [\n",
    "        'target_fraud', 'external_data_provider_fraud_score',\n",
    "        'ids', 'email', 'external_data_provider_first_name',\n",
    "        'profile_phone_number', 'profile_tags', 'facebook_profile',\n",
    "        'user_agent', 'state', 'zip', 'job_name', 'channel',\n",
    "        'shipping_zip_code', \n",
    "        'external_data_provider_credit_checks_last_month',\n",
    "        'application_time_applied', 'reason', 'real_state', \n",
    "        'external_data_provider_credit_checks_last_year',\n",
    "        'external_data_provider_credit_checks_last_2_year'\n",
    "        ]\n",
    "    df = remove_cols(df, cols_to_drop, verbose=False)\n",
    "    \n",
    "    # Imputa valores ausentes\n",
    "    df = impute_nans(df, verbose=False)\n",
    "    \n",
    "    # Aplica feature engineering\n",
    "    df = apply_feature_engineering(df, verbose=False)\n",
    "        \n",
    "    return df"
   ]
  },
  {
   "cell_type": "code",
   "execution_count": 381,
   "metadata": {},
   "outputs": [],
   "source": [
    "df_final = process_data(df)"
   ]
  },
  {
   "cell_type": "code",
   "execution_count": 382,
   "metadata": {},
   "outputs": [
    {
     "data": {
      "text/html": [
       "<div>\n",
       "<style scoped>\n",
       "    .dataframe tbody tr th:only-of-type {\n",
       "        vertical-align: middle;\n",
       "    }\n",
       "\n",
       "    .dataframe tbody tr th {\n",
       "        vertical-align: top;\n",
       "    }\n",
       "\n",
       "    .dataframe thead th {\n",
       "        text-align: right;\n",
       "    }\n",
       "</style>\n",
       "<table border=\"1\" class=\"dataframe\">\n",
       "  <thead>\n",
       "    <tr style=\"text-align: right;\">\n",
       "      <th></th>\n",
       "      <th>target_default</th>\n",
       "      <th>score_1</th>\n",
       "      <th>score_2</th>\n",
       "      <th>score_3</th>\n",
       "      <th>score_4</th>\n",
       "      <th>score_5</th>\n",
       "      <th>score_6</th>\n",
       "      <th>risk_rate</th>\n",
       "      <th>last_amount_borrowed</th>\n",
       "      <th>last_borrowed_in_months</th>\n",
       "      <th>...</th>\n",
       "      <th>n_defaulted_loans</th>\n",
       "      <th>n_accounts</th>\n",
       "      <th>n_issues</th>\n",
       "      <th>application_time_in_funnel</th>\n",
       "      <th>external_data_provider_email_seen_before</th>\n",
       "      <th>marketing_channel</th>\n",
       "      <th>reported_income</th>\n",
       "      <th>shipping_state</th>\n",
       "      <th>latitude</th>\n",
       "      <th>longitude</th>\n",
       "    </tr>\n",
       "  </thead>\n",
       "  <tbody>\n",
       "    <tr>\n",
       "      <th>0</th>\n",
       "      <td>0</td>\n",
       "      <td>1Rk8w4Ucd5yR3KcqZzLdow==</td>\n",
       "      <td>IOVu8au3ISbo6+zmfnYwMg==</td>\n",
       "      <td>350.0</td>\n",
       "      <td>101.800832</td>\n",
       "      <td>0.259555</td>\n",
       "      <td>108.427273</td>\n",
       "      <td>0.40</td>\n",
       "      <td>25033.92</td>\n",
       "      <td>36.0</td>\n",
       "      <td>...</td>\n",
       "      <td>0.0</td>\n",
       "      <td>18.0</td>\n",
       "      <td>18.0</td>\n",
       "      <td>444</td>\n",
       "      <td>51.0</td>\n",
       "      <td>Invite-email</td>\n",
       "      <td>57849.0</td>\n",
       "      <td>MT</td>\n",
       "      <td>-29.151546</td>\n",
       "      <td>-51.138646</td>\n",
       "    </tr>\n",
       "    <tr>\n",
       "      <th>1</th>\n",
       "      <td>0</td>\n",
       "      <td>DGCQep2AE5QRkNCshIAlFQ==</td>\n",
       "      <td>SaamrHMo23l/3TwXOWgVzw==</td>\n",
       "      <td>370.0</td>\n",
       "      <td>97.062615</td>\n",
       "      <td>0.942655</td>\n",
       "      <td>92.002546</td>\n",
       "      <td>0.24</td>\n",
       "      <td>0.00</td>\n",
       "      <td>0.0</td>\n",
       "      <td>...</td>\n",
       "      <td>0.0</td>\n",
       "      <td>14.0</td>\n",
       "      <td>14.0</td>\n",
       "      <td>346</td>\n",
       "      <td>17.0</td>\n",
       "      <td>Radio-commercial</td>\n",
       "      <td>4902.0</td>\n",
       "      <td>RS</td>\n",
       "      <td>-19.687711</td>\n",
       "      <td>-47.941515</td>\n",
       "    </tr>\n",
       "    <tr>\n",
       "      <th>2</th>\n",
       "      <td>1</td>\n",
       "      <td>DGCQep2AE5QRkNCshIAlFQ==</td>\n",
       "      <td>Fv28Bz0YRTVAT5kl1bAV6g==</td>\n",
       "      <td>360.0</td>\n",
       "      <td>100.027073</td>\n",
       "      <td>0.351918</td>\n",
       "      <td>112.892453</td>\n",
       "      <td>0.29</td>\n",
       "      <td>7207.92</td>\n",
       "      <td>36.0</td>\n",
       "      <td>...</td>\n",
       "      <td>0.0</td>\n",
       "      <td>10.0</td>\n",
       "      <td>10.0</td>\n",
       "      <td>6</td>\n",
       "      <td>9.0</td>\n",
       "      <td>Waiting-list</td>\n",
       "      <td>163679.0</td>\n",
       "      <td>RR</td>\n",
       "      <td>-28.748024</td>\n",
       "      <td>-51.867279</td>\n",
       "    </tr>\n",
       "    <tr>\n",
       "      <th>3</th>\n",
       "      <td>0</td>\n",
       "      <td>1Rk8w4Ucd5yR3KcqZzLdow==</td>\n",
       "      <td>dCm9hFKfdRm7ej3jW+gyxw==</td>\n",
       "      <td>510.0</td>\n",
       "      <td>101.599485</td>\n",
       "      <td>0.987673</td>\n",
       "      <td>94.902491</td>\n",
       "      <td>0.32</td>\n",
       "      <td>0.00</td>\n",
       "      <td>0.0</td>\n",
       "      <td>...</td>\n",
       "      <td>0.0</td>\n",
       "      <td>19.0</td>\n",
       "      <td>19.0</td>\n",
       "      <td>406</td>\n",
       "      <td>38.0</td>\n",
       "      <td>Waiting-list</td>\n",
       "      <td>1086.0</td>\n",
       "      <td>RN</td>\n",
       "      <td>-17.520650</td>\n",
       "      <td>-39.758011</td>\n",
       "    </tr>\n",
       "    <tr>\n",
       "      <th>4</th>\n",
       "      <td>0</td>\n",
       "      <td>8k8UDR4Yx0qasAjkGrUZLw==</td>\n",
       "      <td>+CxEO4w7jv3QPI/BQbyqAA==</td>\n",
       "      <td>500.0</td>\n",
       "      <td>98.474289</td>\n",
       "      <td>0.532539</td>\n",
       "      <td>118.126207</td>\n",
       "      <td>0.18</td>\n",
       "      <td>0.00</td>\n",
       "      <td>0.0</td>\n",
       "      <td>...</td>\n",
       "      <td>0.0</td>\n",
       "      <td>11.0</td>\n",
       "      <td>10.0</td>\n",
       "      <td>240</td>\n",
       "      <td>46.0</td>\n",
       "      <td>Invite-email</td>\n",
       "      <td>198618.0</td>\n",
       "      <td>MT</td>\n",
       "      <td>-16.574259</td>\n",
       "      <td>-39.909901</td>\n",
       "    </tr>\n",
       "  </tbody>\n",
       "</table>\n",
       "<p>5 rows × 24 columns</p>\n",
       "</div>"
      ],
      "text/plain": [
       "   target_default                   score_1                   score_2  \\\n",
       "0               0  1Rk8w4Ucd5yR3KcqZzLdow==  IOVu8au3ISbo6+zmfnYwMg==   \n",
       "1               0  DGCQep2AE5QRkNCshIAlFQ==  SaamrHMo23l/3TwXOWgVzw==   \n",
       "2               1  DGCQep2AE5QRkNCshIAlFQ==  Fv28Bz0YRTVAT5kl1bAV6g==   \n",
       "3               0  1Rk8w4Ucd5yR3KcqZzLdow==  dCm9hFKfdRm7ej3jW+gyxw==   \n",
       "4               0  8k8UDR4Yx0qasAjkGrUZLw==  +CxEO4w7jv3QPI/BQbyqAA==   \n",
       "\n",
       "   score_3     score_4   score_5     score_6  risk_rate  last_amount_borrowed  \\\n",
       "0    350.0  101.800832  0.259555  108.427273       0.40              25033.92   \n",
       "1    370.0   97.062615  0.942655   92.002546       0.24                  0.00   \n",
       "2    360.0  100.027073  0.351918  112.892453       0.29               7207.92   \n",
       "3    510.0  101.599485  0.987673   94.902491       0.32                  0.00   \n",
       "4    500.0   98.474289  0.532539  118.126207       0.18                  0.00   \n",
       "\n",
       "   last_borrowed_in_months  ...  n_defaulted_loans  n_accounts  n_issues  \\\n",
       "0                     36.0  ...                0.0        18.0      18.0   \n",
       "1                      0.0  ...                0.0        14.0      14.0   \n",
       "2                     36.0  ...                0.0        10.0      10.0   \n",
       "3                      0.0  ...                0.0        19.0      19.0   \n",
       "4                      0.0  ...                0.0        11.0      10.0   \n",
       "\n",
       "   application_time_in_funnel  external_data_provider_email_seen_before  \\\n",
       "0                         444                                      51.0   \n",
       "1                         346                                      17.0   \n",
       "2                           6                                       9.0   \n",
       "3                         406                                      38.0   \n",
       "4                         240                                      46.0   \n",
       "\n",
       "   marketing_channel  reported_income  shipping_state   latitude  longitude  \n",
       "0       Invite-email          57849.0              MT -29.151546 -51.138646  \n",
       "1   Radio-commercial           4902.0              RS -19.687711 -47.941515  \n",
       "2       Waiting-list         163679.0              RR -28.748024 -51.867279  \n",
       "3       Waiting-list           1086.0              RN -17.520650 -39.758011  \n",
       "4       Invite-email         198618.0              MT -16.574259 -39.909901  \n",
       "\n",
       "[5 rows x 24 columns]"
      ]
     },
     "execution_count": 382,
     "metadata": {},
     "output_type": "execute_result"
    }
   ],
   "source": [
    "df_final.head()"
   ]
  },
  {
   "cell_type": "markdown",
   "metadata": {},
   "source": [
    "## Resumo"
   ]
  },
  {
   "cell_type": "markdown",
   "metadata": {},
   "source": [
    "Agora finalizamos a seção de limpeza e tratamento dos dados. Nesta seção realizamos os seguintes passos:\n",
    "\n",
    "1. **Análise da Variável-Alvo (target_default):**\n",
    "   - Remoção de valores nulos (7,24% do total)\n",
    "   - Conversão para formato binário (0 e 1)\n",
    "\n",
    "2. **Tratamento de Valores Nulos:**\n",
    "   - Remoção de colunas com baixo poder preditivo ou difícil interpretabilidade\n",
    "   - Imputação de valores para variáveis numéricas (mediana ou zero) e categóricas (moda)\n",
    "\n",
    "3. **Feature Engineering:**\n",
    "   - Separação de 'lat_lon' em 'latitude' e 'longitude'\n",
    "   - Padronização de 'shipping_state'\n",
    "\n",
    "4. **Principais Transformações:**\n",
    "   - Codificação da variável-alvo\n",
    "   - Tratamento de valores ausentes\n",
    "   - Criação de novas features geográficas\n",
    "\n",
    "### Funções Criadas\n",
    "\n",
    "1. `remove_target_nan`: Remove entradas com valores nulos na variável-alvo\n",
    "\n",
    "2. `apply_label_encoder`: Aplica LabelEncoder na variável-alvo, convertendo-a para formato binário\n",
    "\n",
    "3. `remove_cols`: Remove colunas especificadas do DataFrame, incluindo aquelas com baixo poder preditivo\n",
    "\n",
    "4. `nan_report`: Gera um relatório detalhado de valores nulos no DataFrame\n",
    "\n",
    "5. `numerical_imputer`: Imputa valores em variáveis numéricas usando mediana ou zero\n",
    "\n",
    "6. `cat_imputer`: Imputa valores em variáveis categóricas usando a moda\n",
    "\n",
    "7. `impute_nans`: Combina a imputação de variáveis numéricas e categóricas em uma única função\n",
    "\n",
    "8. `apply_feature_engineering`: Realiza transformações de feature engineering, incluindo a separação de coordenadas geográficas\n",
    "\n",
    "9. `process_data`: Aplica todas as transformações de processamento e limpeza de dados, retornando o DataFrame pronto para as próximas etapas de modelagem.\n",
    "\n",
    "Este notebook focou na preparação dos dados, abordando questões críticas como valores ausentes e engenharia de features básica, resultando em um conjunto de dados limpo e processado, pronto para análises avançadas e modelagem."
   ]
  }
 ],
 "metadata": {
  "kernelspec": {
   "display_name": "projetos-ds",
   "language": "python",
   "name": "python3"
  },
  "language_info": {
   "codemirror_mode": {
    "name": "ipython",
    "version": 3
   },
   "file_extension": ".py",
   "mimetype": "text/x-python",
   "name": "python",
   "nbconvert_exporter": "python",
   "pygments_lexer": "ipython3",
   "version": "3.12.4"
  }
 },
 "nbformat": 4,
 "nbformat_minor": 2
}
